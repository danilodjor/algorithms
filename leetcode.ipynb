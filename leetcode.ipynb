{
 "cells": [
  {
   "cell_type": "code",
   "execution_count": 22,
   "metadata": {},
   "outputs": [],
   "source": [
    "# Given an integer x, return true if x is palindrome integer.\n",
    "# An integer is a palindrome when it reads the same backward as forward.\n",
    "\n",
    "def isPalindrome(x: int) -> bool:\n",
    "    x_str = str(x)\n",
    "    x_str_rev = x_str[::-1]\n",
    "    \n",
    "    return x_str == x_str\n"
   ]
  },
  {
   "cell_type": "code",
   "execution_count": 16,
   "metadata": {},
   "outputs": [
    {
     "name": "stdout",
     "output_type": "stream",
     "text": [
      "1994\n"
     ]
    }
   ],
   "source": [
    "# Given a roman numeral, convert it to an integer.\n",
    "class Solution:\n",
    "    symbols = {'I': 1,\n",
    "               'V': 5,\n",
    "               'X': 10,\n",
    "               'L': 50,\n",
    "               'C': 100,\n",
    "               'D': 500,\n",
    "               'M': 1000}\n",
    "    def romanToInt(self, s: str) -> int:\n",
    "        s = s[::-1]\n",
    "        num = 0\n",
    "        prev_sym = None\n",
    "        sign = 1\n",
    "        for curr_sym in s:\n",
    "            # if prev_sym is not None and self.symbols[curr_sym] < prev_sym:\n",
    "            #     sign = -1\n",
    "            # else:\n",
    "            #     sign = 1\n",
    "            \n",
    "            sign = -1 if prev_sym is not None and self.symbols[curr_sym] < prev_sym else 1\n",
    "            num += sign*self.symbols[curr_sym]\n",
    "            prev_sym = self.symbols[curr_sym]\n",
    "        return num\n",
    "\n",
    "print(Solution().romanToInt(s='MCMXCIV'))"
   ]
  },
  {
   "cell_type": "code",
   "execution_count": 99,
   "metadata": {},
   "outputs": [],
   "source": [
    "# Find longest common prefix\n",
    "class Solution:\n",
    "    def longestCommonPrefix(self, strs) -> str:\n",
    "        n = 0\n",
    "        prefix = \"\"\n",
    "        max_len_reached = False\n",
    "        while True:\n",
    "            all_equal = True\n",
    "            if len(strs[0]) <= n:\n",
    "                max_len_reached = True\n",
    "                break\n",
    "\n",
    "            nth_letter_first_word = strs[0][n]\n",
    "\n",
    "            for curr_word in strs:\n",
    "                if n >= len(curr_word):\n",
    "                    max_len_reached = True\n",
    "                    break\n",
    "                nth_letter_curr_word = curr_word[n]\n",
    "                if nth_letter_curr_word is not nth_letter_first_word:\n",
    "                    all_equal = False\n",
    "                    break\n",
    "            if max_len_reached:\n",
    "                break\n",
    "\n",
    "            if all_equal:\n",
    "                n+=1\n",
    "                prefix += nth_letter_first_word\n",
    "            else:\n",
    "                break\n",
    "        return prefix\n",
    "\n",
    "Solution().longestCommonPrefix([\"flower\",\"flow\"])"
   ]
  },
  {
   "cell_type": "code",
   "execution_count": 48,
   "metadata": {},
   "outputs": [],
   "source": [
    "class ListNode:\n",
    "    def __init__(self, val=0, next=None):\n",
    "        self.val = val\n",
    "        self.next = next\n",
    "\n",
    "def addTwoNumbers(l1: ListNode, l2: ListNode) -> ListNode:\n",
    "    x = l1\n",
    "    y = l2\n",
    "    \n",
    "    # List to be returned\n",
    "    head = ListNode()\n",
    "    \n",
    "    # Initially carry is equal to 0\n",
    "    curr_carry = 0 # carry to be added to the current node\n",
    "    next_carry = 0 # carry to be passed to the next node\n",
    "    \n",
    "    is_first = True\n",
    "    \n",
    "    while x or y is not None:\n",
    "        # Current carry becomes next carry from previous iteration\n",
    "        curr_carry = next_carry\n",
    "        \n",
    "        # Creating a new node and connecting it to the old ones\n",
    "        if is_first:\n",
    "            curr_node = head\n",
    "            is_first = False\n",
    "        else:\n",
    "            new_node = ListNode()\n",
    "            curr_node.next = new_node\n",
    "            curr_node = new_node\n",
    "        \n",
    "        # Sum of 2 values\n",
    "        summation = 0\n",
    "        if x is not None:\n",
    "            summation += x.val\n",
    "            x = x.next\n",
    "        if y is not None:\n",
    "            summation += y.val\n",
    "            y = y.next\n",
    "        summation += curr_carry\n",
    "        \n",
    "        # Calculating the current value and carry\n",
    "        if summation < 10:\n",
    "            next_carry = 0\n",
    "            curr_digit = summation\n",
    "        else:\n",
    "            next_carry = summation // 10\n",
    "            curr_digit = summation - next_carry*10\n",
    "        \n",
    "        # Filling up the new node with values and passing the carry to the next ones\n",
    "        curr_node.val = curr_digit #+ curr_carry\n",
    "    \n",
    "    if next_carry > 0:\n",
    "        curr_node.next = ListNode(val = next_carry) \n",
    "    return head\n",
    "\n",
    "def printNumber(num: ListNode):\n",
    "    list = []\n",
    "    curr_node = num\n",
    "\n",
    "    while curr_node is not None:  \n",
    "        list.append(curr_node.val)  \n",
    "        curr_node = curr_node.next\n",
    "\n",
    "    print(list)\n",
    "    return list\n",
    "\n",
    "def createNumber(seq: list):\n",
    "    assert len(seq) > 0, \"Empty list!\"\n",
    "\n",
    "    head = ListNode(val = seq[0], next=None)\n",
    "    curr_node = head\n",
    "\n",
    "    for item in seq[1:]:\n",
    "        new_node = ListNode(val=item, next=None)\n",
    "        curr_node.next = new_node\n",
    "        curr_node = new_node\n",
    "\n",
    "    return head    \n",
    "\n",
    "num1 = createNumber([9,9,9,9,9,9,9])\n",
    "num2 = createNumber([9,9,9,9])\n",
    "\n",
    "res = addTwoNumbers(l1 = num1, l2 = num2)\n",
    "printNumber(res)"
   ]
  },
  {
   "cell_type": "code",
   "execution_count": 5,
   "metadata": {},
   "outputs": [
    {
     "data": {
      "text/plain": [
       "5"
      ]
     },
     "execution_count": 5,
     "metadata": {},
     "output_type": "execute_result"
    }
   ],
   "source": [
    "# 3. Longest Substring Without Repeating Characters\n",
    "# Medium\n",
    "# Given a string s, find the length of the longest\n",
    "# substring\n",
    "# without repeating characters.\n",
    "\n",
    "def lengthOfLongestSubstring(s: str) -> int:\n",
    "    def longest_substring_starting_at(s):\n",
    "        list_chars = [False]*128\n",
    "        length = 0\n",
    "        for char in s:\n",
    "            char_code = ord(char)\n",
    "            if list_chars[char_code]:\n",
    "                return length\n",
    "            else:\n",
    "                list_chars[char_code] = True\n",
    "                length += 1\n",
    "        return length\n",
    "                \n",
    "    max = 0\n",
    "    for i in range(len(s)):\n",
    "        curr_len = longest_substring_starting_at(s[i:])\n",
    "        if curr_len > max:\n",
    "            max = curr_len\n",
    "\n",
    "    return max\n",
    "\n",
    "def lengthOfLongestSubstring2(s: str) -> int:\n",
    "    left = 0\n",
    "    right = 0\n",
    "    max_len = 0\n",
    "\n",
    "    seen_chars = {}\n",
    "    while left < len(s) and right < len(s):\n",
    "        # print(s[left:right+1])\n",
    "        if s[right] in seen_chars and seen_chars[s[right]] >= left:\n",
    "            left = seen_chars[s[right]] + 1\n",
    "        else:\n",
    "            current_len = right - left + 1\n",
    "            max_len = max(current_len, max_len)\n",
    "            seen_chars[s[right]] = right \n",
    "            right += 1\n",
    "\n",
    "    return max_len\n",
    "\n",
    "def lengthOfLongestSubstring3(s: str) -> int:\n",
    "    l = 0\n",
    "    seen = {}\n",
    "    max_len = 0\n",
    "    for r in range(len(s)):\n",
    "        if s[r] in seen:\n",
    "            if seen[s[r]] >= l:\n",
    "                l = seen[s[r]] + 1\n",
    "        else:   \n",
    "            max_len = max(r-l+1, max_len)\n",
    "\n",
    "        seen[s[r]] = r\n",
    "    \n",
    "    return max_len\n",
    "\n",
    "\n",
    "lengthOfLongestSubstring3('aaaabcaaabcde')  "
   ]
  },
  {
   "cell_type": "code",
   "execution_count": 53,
   "metadata": {},
   "outputs": [
    {
     "data": {
      "text/plain": [
       "2"
      ]
     },
     "execution_count": 53,
     "metadata": {},
     "output_type": "execute_result"
    }
   ],
   "source": [
    "# Majority Element\n",
    "# Given an array nums of size n, return the majority element.\n",
    "# The majority element is the element that appears more than ⌊n / 2⌋ times. You may assume that the majority element always exists in the array.\n",
    "\n",
    "class Solution:\n",
    "    def majorityElement(self, nums) -> int:\n",
    "        # Length of array divided by 2\n",
    "        num_times = len(nums)//2\n",
    "        \n",
    "        # Create empty dictionary\n",
    "        my_dict = {}\n",
    "        \n",
    "        # For each element, check if it exists in the dictionary as a key, if not create it and add 1, else just add 1\n",
    "        for element in nums:\n",
    "            if my_dict.get(element) is None:\n",
    "                my_dict[element] = 1\n",
    "            else:\n",
    "                my_dict[element] += 1\n",
    "            \n",
    "            # Check if this element occurs more than floor(n/2) times to exit early:\n",
    "            if my_dict[element] > num_times:\n",
    "                return element\n",
    "\n",
    "        return None\n",
    "            \n",
    "        \n",
    "\n",
    "Solution().majorityElement([2,2,1,1,1,2,2])"
   ]
  },
  {
   "cell_type": "code",
   "execution_count": 72,
   "metadata": {},
   "outputs": [
    {
     "data": {
      "text/plain": [
       "[2]"
      ]
     },
     "execution_count": 72,
     "metadata": {},
     "output_type": "execute_result"
    }
   ],
   "source": [
    "class Solution:\n",
    "    def majorityElement(self, nums):\n",
    "        # Criterion length\n",
    "        num_times = len(nums)//3\n",
    "        \n",
    "        # Create empty dictionary\n",
    "        my_dict = {}\n",
    "        \n",
    "        # Output list\n",
    "        output = []\n",
    "        \n",
    "        # For each element, check if it exists in the dictionary as a key, if not create it and add 1, else just add 1\n",
    "        for element in nums:\n",
    "            if my_dict.get(element) is None:\n",
    "                my_dict[element] = 1\n",
    "            else:\n",
    "                my_dict[element] += 1\n",
    "            \n",
    "        # Check if every element of dictionary occurs more than floor(n/3) times to exit early:\n",
    "        for key in my_dict.keys():\n",
    "            if my_dict[key] > num_times:\n",
    "                output.append(key)\n",
    "\n",
    "        return output\n",
    "\n",
    "Solution().majorityElement([1,2,2,2])"
   ]
  },
  {
   "cell_type": "code",
   "execution_count": 93,
   "metadata": {},
   "outputs": [
    {
     "data": {
      "text/plain": [
       "True"
      ]
     },
     "execution_count": 93,
     "metadata": {},
     "output_type": "execute_result"
    }
   ],
   "source": [
    "# 383. Ransom Note\n",
    "# Easy\n",
    "# Given two strings ransomNote and magazine, return true if ransomNote can be constructed from magazine and false otherwise.\n",
    "# Each letter in magazine can only be used once in ransomNote.\n",
    "\n",
    "class Solution:\n",
    "    def canConstruct(self, ransomNote: str, magazine: str) -> bool:\n",
    "        num_chars = 26\n",
    "\n",
    "        ransom_letters = [0]*num_chars\n",
    "        magazine_letters = [0]*num_chars\n",
    "        \n",
    "        norm = ord('a')\n",
    "        for char in rtriangleomNote:\n",
    "            rtriangleom_letters[ord(char)-norm] += 1\n",
    "        for char in magazine:\n",
    "            magazine_letters[ord(char)-norm] += 1\n",
    "\n",
    "        output = True\n",
    "        for i in range(num_chars):\n",
    "            if magazine_letters[i] < rtriangleom_letters[i]:\n",
    "                return False\n",
    "\n",
    "        return output\n",
    "\n",
    "Solution().canConstruct(ransomNote = \"a\", magazine = \"ab\")"
   ]
  },
  {
   "cell_type": "code",
   "execution_count": 16,
   "metadata": {},
   "outputs": [],
   "source": [
    "# X 5. Longest Palindromic Substring\n",
    "# Medium\n",
    "\n",
    "# Given a string s, return the longest palindromic substring in s.\n",
    "\n",
    "class Solution:\n",
    "    def longestPalindrome(self, s: str) -> str:\n",
    "        # Approach: Do a convolution of the string s with it's reversed copy s[::-1]\n",
    "        # Indices where the characters match are labeled as 1, and the rest are 0.\n",
    "        # When we sum up the elementwise product of the arrays, the higest value will be on the longest substring.\n",
    "        # Time complexity of this operation is linear in the string length.\n",
    "        \n",
    "        def compare_strings(s1: str,s2: str):\n",
    "            assert len(s1) == len(s2), \"Length of input strings must be equal\"\n",
    "            return [s1[i]==s2[i] for i in range(len(s1))]\n",
    "\n",
    "        # Length of string\n",
    "        n = len(s)\n",
    "\n",
    "        # Reversed copy of a string\n",
    "        s_rev = s[::-1]\n",
    "\n",
    "        # List of lengths of substrings that match (0 means no match at all, 1 means match in 1 letter, etc.)\n",
    "        lengths = []\n",
    "\n",
    "        # Convolution implementation\n",
    "        max = 0\n",
    "        max_substring = None\n",
    "\n",
    "        for offset in range(len(s)):\n",
    "            len_to_append = sum(compare_strings(s[:offset+1], s_rev[-(offset+1):]))\n",
    "            if len_to_append >= max:\n",
    "                max = len_to_append\n",
    "                # max_substring = \n",
    "\n",
    "            lengths.append(compare_strings())\n",
    "            \n",
    "          "
   ]
  },
  {
   "cell_type": "code",
   "execution_count": 1,
   "metadata": {},
   "outputs": [
    {
     "data": {
      "text/plain": [
       "True"
      ]
     },
     "execution_count": 1,
     "metadata": {},
     "output_type": "execute_result"
    }
   ],
   "source": [
    "# 20. Valid Parentheses\n",
    "# Easy\n",
    "# Given a string s containing just the characters '(', ')', '{', '}', '[' and ']', determine if the input string is valid.\n",
    "# An input string is valid if:\n",
    "#     Open brackets must be closed by the same type of brackets.\n",
    "#     Open brackets must be closed in the correct order.\n",
    "# s consists of parentheses only '()[]{}'.\n",
    "\n",
    "class Solution:\n",
    "    def isValid(self, s: str) -> bool:\n",
    "        # My approach: Use LIFO stack to keep track of the parentheses. The last one in must be the first one out.\n",
    "        # (, [, { are push commands, while ), ], } are pop commands. If the first pop command that comes is not the same as the last push, there's a problem.\n",
    "\n",
    "        open_par = {'(', '[', '{'}\n",
    "        key = {'(': ')', '[': ']', '{': '}'}\n",
    "\n",
    "        stack = []\n",
    "        for curr_par in s:\n",
    "            if curr_par in open_par:\n",
    "                stack.append(curr_par)\n",
    "            else:\n",
    "                last_par = stack.pop() if len(stack) > 0 else None\n",
    "                if last_par is None or key[last_par] != curr_par:\n",
    "                    return False\n",
    "\n",
    "        return True if len(stack) == 0 else False\n",
    "\n",
    "Solution().isValid('(())[][]')"
   ]
  },
  {
   "cell_type": "code",
   "execution_count": 21,
   "metadata": {},
   "outputs": [
    {
     "name": "stdout",
     "output_type": "stream",
     "text": [
      "[1, 1, 3, 4]\n"
     ]
    },
    {
     "data": {
      "text/plain": [
       "[1, 1, 3, 4]"
      ]
     },
     "execution_count": 21,
     "metadata": {},
     "output_type": "execute_result"
    }
   ],
   "source": [
    "# 21. Merge Two Sorted Lists\n",
    "# Easy\n",
    "# You are given the heads of two sorted linked lists list1 and list2.\n",
    "# Merge the two lists in a one sorted list. The list should be made by splicing together the nodes of the first two lists.\n",
    "# Return the head of the merged linked list.\n",
    "# Assume:\n",
    "# The number of nodes in both lists is in the range [0, 50].\n",
    "# -100 <= Node.val <= 100\n",
    "# Both list1 and list2 are sorted in non-decreasing order.\n",
    "\n",
    "from typing import Optional\n",
    "\n",
    "# My helper functions for creating and printing a linked list\n",
    "def create_linked_list(seq: list):\n",
    "    assert len(seq) > 0, \"Empty list!\"\n",
    "\n",
    "    head = ListNode(val = seq[0], next=None)\n",
    "    curr_node = head\n",
    "\n",
    "    for item in seq[1:]:\n",
    "        new_node = ListNode(val=item, next=None)\n",
    "        curr_node.next = new_node\n",
    "        curr_node = new_node\n",
    "\n",
    "    return head\n",
    "\n",
    "def print_linked_list(num: ListNode):\n",
    "    list = []\n",
    "    curr_node = num\n",
    "\n",
    "    while curr_node is not None:  \n",
    "        list.append(curr_node.val)  \n",
    "        curr_node = curr_node.next\n",
    "\n",
    "    print(list)\n",
    "    return list\n",
    "\n",
    "# Definition for singly-linked list.\n",
    "class ListNode:\n",
    "    def __init__(self, val=0, next=None):\n",
    "        self.val = val\n",
    "        self.next = next\n",
    "\n",
    "# Solution\n",
    "class Solution:\n",
    "    def mergeTwoLists(self, list1: Optional[ListNode], list2: Optional[ListNode]) -> Optional[ListNode]:\n",
    "        # Current pointers to list1 and list2 and head list (signify where we currently are in the list)\n",
    "        curr_1 = list1\n",
    "        curr_2 = list2\n",
    "\n",
    "        # Check if None\n",
    "        if curr_1 is None:\n",
    "            return curr_2\n",
    "        elif curr_2 is None:\n",
    "            return curr_1\n",
    "        \n",
    "        # Head is whatever list has smaller first element\n",
    "        if curr_1.val <= curr_2.val:\n",
    "            head = curr_1\n",
    "            curr_1 = curr_1.next\n",
    "        else:\n",
    "            head = curr_2\n",
    "            curr_2 = curr_2.next\n",
    "\n",
    "        # Pointed to current element of new list (initially at head)\n",
    "        curr = head\n",
    "\n",
    "        # Processing of the two lists\n",
    "        while curr_1 or curr_2 is not None: # While at least one of curr_1 and curr_2 is not None\n",
    "            if curr_1 is None:\n",
    "                curr.next = curr_2\n",
    "                break\n",
    "            elif curr_2 is None:\n",
    "                curr.next = curr_1\n",
    "                break\n",
    "            else:\n",
    "                if (curr_1.val <= curr_2.val):\n",
    "                    curr.next = curr_1\n",
    "                    curr = curr.next\n",
    "                    curr_1 = curr_1.next\n",
    "                else:\n",
    "                    curr.next = curr_2\n",
    "                    curr = curr.next\n",
    "                    curr_2 = curr_2.next\n",
    "        \n",
    "        return head\n",
    "\n",
    "a = create_linked_list([1])\n",
    "b = create_linked_list([1,3,4])\n",
    "\n",
    "c = Solution().mergeTwoLists(a,b)\n",
    "print_linked_list(c)"
   ]
  },
  {
   "cell_type": "code",
   "execution_count": 38,
   "metadata": {},
   "outputs": [
    {
     "data": {
      "text/plain": [
       "[1, 0, 0, 0]"
      ]
     },
     "execution_count": 38,
     "metadata": {},
     "output_type": "execute_result"
    }
   ],
   "source": [
    "# 66. Plus One\n",
    "# Easy\n",
    "# You are given a large integer represented as an integer array digits, where each digits[i] is the ith digit of the integer. The digits are ordered from most significant to least significant in left-to-right order. The large integer does not contain any leading 0's.\n",
    "# Increment the large integer by one and return the resulting array of digits.\n",
    "\n",
    "from typing import List\n",
    "\n",
    "class Solution:\n",
    "    def plusOne(self, digits: List[int]) -> List[int]:\n",
    "        carry = 1\n",
    "        i = len(digits)-1\n",
    "\n",
    "        while i >= 0 and carry != 0:\n",
    "            sum = digits[i] + carry\n",
    "            carry = sum // 10\n",
    "            value = sum % 10\n",
    "\n",
    "            digits[i] = value\n",
    "            i -= 1\n",
    "\n",
    "        if i < 0 and carry > 0:\n",
    "            digits.insert(0, carry)\n",
    "    \n",
    "        return digits\n",
    "\n",
    "digits = [9,9,9]\n",
    "Solution().plusOne(digits)"
   ]
  },
  {
   "cell_type": "code",
   "execution_count": 24,
   "metadata": {},
   "outputs": [
    {
     "data": {
      "text/plain": [
       "1"
      ]
     },
     "execution_count": 24,
     "metadata": {},
     "output_type": "execute_result"
    }
   ],
   "source": [
    "# 141. Linked List Cycle\n",
    "# Easy\n",
    "# Given head, the head of a linked list, determine if the linked list has a cycle in it.\n",
    "# There is a cycle in a linked list if there is some node in the list that can be reached again by continuously following the next pointer. Internally, pos is used to denote the index of the node that tail's next pointer is connected to. Note that pos is not passed as a parameter.\n",
    "# Return true if there is a cycle in the linked list. Otherwise, return false.\n",
    "\n",
    "from typing import Optional\n",
    "\n",
    "# Definition for singly-linked list.\n",
    "class ListNode:\n",
    "    def __init__(self, x):\n",
    "        self.val = x\n",
    "        self.next = None\n",
    "\n",
    "class Solution:\n",
    "    def hasCycle(self, head: Optional[ListNode]) -> bool:\n",
    "        # If list contains only one element that is not connected to itself, return False (no loops)\n",
    "        if head is None or head.next is None:\n",
    "            return False\n",
    "        \n",
    "        fast_p = head\n",
    "        slow_p = head\n",
    "\n",
    "        while True:\n",
    "            # Slow pointer moves one step each time\n",
    "            if slow_p is not None:\n",
    "                slow_p = slow_p.next\n",
    "            else:\n",
    "                return False\n",
    "            \n",
    "            # Fast pointer moves 2 steps each time\n",
    "            if fast_p is not None:\n",
    "                fast_p = fast_p.next\n",
    "            else:\n",
    "                return False\n",
    "\n",
    "            if fast_p is not None:\n",
    "                fast_p = fast_p.next\n",
    "            else:\n",
    "                return False\n",
    "\n",
    "            # If the slow pointer and fast pointer meet, then we have a loop\n",
    "            if slow_p == fast_p:\n",
    "                return True"
   ]
  },
  {
   "cell_type": "code",
   "execution_count": 42,
   "metadata": {},
   "outputs": [
    {
     "data": {
      "text/plain": [
       "True"
      ]
     },
     "execution_count": 42,
     "metadata": {},
     "output_type": "execute_result"
    }
   ],
   "source": [
    "# 125. Valid Palindrome\n",
    "# Easy\n",
    "# A phrase is a palindrome if, after converting all uppercase letters into lowercase letters and removing all non-alphanumeric characters, it reads the same forward and backward. Alphanumeric characters include letters and numbers.\n",
    "# Given a string s, return true if it is a palindrome, or false otherwise.\n",
    "\n",
    "class Solution:\n",
    "    def isPalindrome(self, s: str) -> bool:\n",
    "        # Remove non-alphanumeric characters\n",
    "        s_mod = ''.join(filter(str.isalnum, s))\n",
    "        s_mod = s_mod.lower()\n",
    "        if s_mod == s_mod[::-1]:\n",
    "            return True\n",
    "        else:\n",
    "            return False\n",
    "\n",
    "Solution().isPalindrome('Aba!!!')"
   ]
  },
  {
   "cell_type": "code",
   "execution_count": null,
   "metadata": {},
   "outputs": [],
   "source": [
    "# X 136. Single Number\n",
    "# Easy\n",
    "# Given a non-empty array of integers nums, every element appears twice except for one. Find that single one.\n",
    "# You must implement a solution with a linear runtime complexity and use only constant extra space.\n",
    "\n",
    "# from typing import List\n",
    "\n",
    "# class Solution:\n",
    "#     def singleNumber(self, nums: List[int]) -> int:\n",
    "#         single_num = nums[0]\n",
    "\n",
    "#         for num in nums:\n",
    "#             if single_num==num:\n"
   ]
  },
  {
   "cell_type": "code",
   "execution_count": 9,
   "metadata": {},
   "outputs": [
    {
     "name": "stdout",
     "output_type": "stream",
     "text": [
      "[1, 2, 3, 4, 5]\n",
      "[5, 4, 3, 2, 1]\n"
     ]
    },
    {
     "data": {
      "text/plain": [
       "[5, 4, 3, 2, 1]"
      ]
     },
     "execution_count": 9,
     "metadata": {},
     "output_type": "execute_result"
    }
   ],
   "source": [
    "# Definition for singly-linked list.\n",
    "from typing import Optional\n",
    "\n",
    "# Class deifnition\n",
    "class ListNode:\n",
    "    def __init__(self, val=0, next=None):\n",
    "        self.val = val\n",
    "        self.next = next\n",
    "\n",
    "# My helper functions for creating and printing a linked list\n",
    "def create_linked_list(seq: list):\n",
    "    assert len(seq) > 0, \"Empty list!\"\n",
    "\n",
    "    head = ListNode(val = seq[0], next=None)\n",
    "    curr_node = head\n",
    "\n",
    "    for item in seq[1:]:\n",
    "        new_node = ListNode(val=item, next=None)\n",
    "        curr_node.next = new_node\n",
    "        curr_node = new_node\n",
    "\n",
    "    return head\n",
    "\n",
    "def print_linked_list(num: ListNode):\n",
    "    list = []\n",
    "    curr_node = num\n",
    "\n",
    "    while curr_node is not None:  \n",
    "        list.append(curr_node.val)  \n",
    "        curr_node = curr_node.next\n",
    "\n",
    "    print(list)\n",
    "    return list\n",
    "\n",
    "class Solution:\n",
    "    def reverseList(self, head: Optional[ListNode]) -> Optional[ListNode]:\n",
    "        # If list has 0 elements, return None. If the list has only 1 element, return that element\n",
    "        if head is None:\n",
    "            return None\n",
    "        elif head.next is None:\n",
    "            return head\n",
    "\n",
    "        # Case when list has >=2 elements.\n",
    "        rear = head\n",
    "        front = head.next\n",
    "        head.next = None\n",
    "\n",
    "        while front is not None:\n",
    "            # temp is used as third pointer to keep track of previous, current and next node\n",
    "            temp = rear\n",
    "            rear = front.next\n",
    "            front.next = temp\n",
    "\n",
    "            # temp is also used to exchange rear and front\n",
    "            temp = rear\n",
    "            rear = front    \n",
    "            front = temp\n",
    "    \n",
    "        return rear\n",
    "\n",
    "a = create_linked_list([1,2,3,4,5])\n",
    "print_linked_list(a)\n",
    "b = Solution().reverseList(a)\n",
    "print_linked_list(b)\n"
   ]
  },
  {
   "cell_type": "code",
   "execution_count": 26,
   "metadata": {},
   "outputs": [
    {
     "data": {
      "text/plain": [
       "4"
      ]
     },
     "execution_count": 26,
     "metadata": {},
     "output_type": "execute_result"
    }
   ],
   "source": [
    "# 387. First Unique Character in a String\n",
    "# Easy\n",
    "# Given a string s, find the first non-repeating character in it and return its index. If it does not exist, return -1.\n",
    "\n",
    "class Solution:\n",
    "    def firstUniqChar(self, s: str) -> int:\n",
    "        appeared_once = [False]*26\n",
    "        appeared_more_than_once = [False]*26\n",
    "        first_idx = [-1]*26\n",
    "\n",
    "        ord_norm = ord('a')\n",
    "\n",
    "        for i, char in enumerate(s):\n",
    "            n = ord(char) - ord_norm\n",
    "            if not appeared_more_than_once[n]:\n",
    "                if appeared_once[n]:\n",
    "                    appeared_more_than_once[n] = True\n",
    "                    first_idx[n] = -1\n",
    "                else:\n",
    "                    appeared_once[n] = True\n",
    "                    first_idx[n] = i\n",
    "\n",
    "        min = first_idx[0]\n",
    "        for idx in first_idx:\n",
    "            if min == -1 and idx > -1:\n",
    "                min = idx\n",
    "            elif idx > -1 and idx < min:\n",
    "                min = idx\n",
    "\n",
    "        return min\n",
    "\n",
    "Solution().firstUniqChar('eettcolde')"
   ]
  },
  {
   "cell_type": "code",
   "execution_count": 31,
   "metadata": {},
   "outputs": [
    {
     "ename": "TypeError",
     "evalue": "'str' object does not support item assignment",
     "output_type": "error",
     "traceback": [
      "\u001b[1;31m---------------------------------------------------------------------------\u001b[0m",
      "\u001b[1;31mTypeError\u001b[0m                                 Traceback (most recent call last)",
      "\u001b[1;32m<ipython-input-31-91f427eeacd0>\u001b[0m in \u001b[0;36m<module>\u001b[1;34m\u001b[0m\n\u001b[0;32m     19\u001b[0m             \u001b[0ms\u001b[0m\u001b[1;33m[\u001b[0m\u001b[0mright\u001b[0m\u001b[1;33m]\u001b[0m \u001b[1;33m=\u001b[0m \u001b[0mtemp\u001b[0m\u001b[1;33m\u001b[0m\u001b[1;33m\u001b[0m\u001b[0m\n\u001b[0;32m     20\u001b[0m \u001b[1;33m\u001b[0m\u001b[0m\n\u001b[1;32m---> 21\u001b[1;33m \u001b[0mSolution\u001b[0m\u001b[1;33m(\u001b[0m\u001b[1;33m)\u001b[0m\u001b[1;33m.\u001b[0m\u001b[0mreverseString\u001b[0m\u001b[1;33m(\u001b[0m\u001b[1;34m'abc'\u001b[0m\u001b[1;33m)\u001b[0m\u001b[1;33m\u001b[0m\u001b[1;33m\u001b[0m\u001b[0m\n\u001b[0m",
      "\u001b[1;32m<ipython-input-31-91f427eeacd0>\u001b[0m in \u001b[0;36mreverseString\u001b[1;34m(self, s)\u001b[0m\n\u001b[0;32m     16\u001b[0m         \u001b[1;32mwhile\u001b[0m \u001b[0mright\u001b[0m \u001b[1;33m!=\u001b[0m \u001b[0mleft\u001b[0m\u001b[1;33m:\u001b[0m\u001b[1;33m\u001b[0m\u001b[1;33m\u001b[0m\u001b[0m\n\u001b[0;32m     17\u001b[0m             \u001b[0mtemp\u001b[0m \u001b[1;33m=\u001b[0m \u001b[0ms\u001b[0m\u001b[1;33m[\u001b[0m\u001b[0mleft\u001b[0m\u001b[1;33m]\u001b[0m\u001b[1;33m\u001b[0m\u001b[1;33m\u001b[0m\u001b[0m\n\u001b[1;32m---> 18\u001b[1;33m             \u001b[0ms\u001b[0m\u001b[1;33m[\u001b[0m\u001b[0mleft\u001b[0m\u001b[1;33m]\u001b[0m \u001b[1;33m=\u001b[0m \u001b[0ms\u001b[0m\u001b[1;33m[\u001b[0m\u001b[0mright\u001b[0m\u001b[1;33m]\u001b[0m\u001b[1;33m\u001b[0m\u001b[1;33m\u001b[0m\u001b[0m\n\u001b[0m\u001b[0;32m     19\u001b[0m             \u001b[0ms\u001b[0m\u001b[1;33m[\u001b[0m\u001b[0mright\u001b[0m\u001b[1;33m]\u001b[0m \u001b[1;33m=\u001b[0m \u001b[0mtemp\u001b[0m\u001b[1;33m\u001b[0m\u001b[1;33m\u001b[0m\u001b[0m\n\u001b[0;32m     20\u001b[0m \u001b[1;33m\u001b[0m\u001b[0m\n",
      "\u001b[1;31mTypeError\u001b[0m: 'str' object does not support item assignment"
     ]
    }
   ],
   "source": [
    "# 344. Reverse String\n",
    "# Easy\n",
    "# Write a function that reverses a string. The input string is given as an array of characters s.\n",
    "# You must do this by modifying the input array in-place with O(1) extra memory.\n",
    "\n",
    "from typing import List\n",
    "\n",
    "class Solution:\n",
    "    def reverseString(self, s: List[str]) -> None:\n",
    "        \"\"\"\n",
    "        Do not return anything, modify s in-place instead.\n",
    "        \"\"\"\n",
    "        left = 0\n",
    "        right = len(s)-1\n",
    "\n",
    "        while right != left:\n",
    "            temp = s[left]\n",
    "            s[left] = s[right]\n",
    "            s[right] = temp\n",
    "\n",
    "Solution().reverseString('abc')"
   ]
  },
  {
   "cell_type": "code",
   "execution_count": 17,
   "metadata": {},
   "outputs": [],
   "source": [
    "# 94. Binary Tree Inorder Traversal\n",
    "# Easy\n",
    "# Given the root of a binary tree, return the inorder traversal of its nodes' values.\n",
    "\n",
    "from typing import Optional, List\n",
    "\n",
    "# Definition for a binary tree node.\n",
    "class TreeNode:\n",
    "    def __init__(self, val=0, left=None, right=None):\n",
    "        self.val = val\n",
    "        self.left = left\n",
    "        self.right = right\n",
    "\n",
    "# Recursive solution\n",
    "class Solution:\n",
    "    def inorderTraversal(self, root: Optional[TreeNode]) -> List[int]:\n",
    "        list_values = []\n",
    "        if root is not None:\n",
    "            # Left visit\n",
    "            return_left = self.inorderTraversal(root.left)\n",
    "            return_left.append(root.val)\n",
    "            \n",
    "            # Visiting the root\n",
    "            list_values.extend(return_left)\n",
    "            \n",
    "            # Right visit\n",
    "            return_right = self.inorderTraversal(root.right)\n",
    "            list_values.extend(return_right)\n",
    "            \n",
    "            return list_values\n",
    "        else:\n",
    "            return []"
   ]
  },
  {
   "cell_type": "code",
   "execution_count": 31,
   "metadata": {},
   "outputs": [
    {
     "data": {
      "text/plain": [
       "True"
      ]
     },
     "execution_count": 31,
     "metadata": {},
     "output_type": "execute_result"
    }
   ],
   "source": [
    "# 242. Valid Anagram\n",
    "# Easy\n",
    "# Given two strings s and t, return true if t is an anagram of s, and false otherwise.\n",
    "# An Anagram is a word or phrase formed by rearranging the letters of a different word or phrase, typically using all the original letters exactly once.\n",
    "# s and t consist of lowercase English letters.\n",
    "\n",
    "class Solution:\n",
    "    # def isAnagram(self, s: str, t: str) -> bool:\n",
    "    #     # If different length, definitely not an Anagram\n",
    "    #     length = len(s)\n",
    "    #     if length != len(t):\n",
    "    #         return False\n",
    "\n",
    "    #     # English alphabet has 26 characters\n",
    "    #     num_chars = 26\n",
    "\n",
    "    #     num_chars_s = [0]*num_chars\n",
    "    #     num_chars_t = [0]*num_chars\n",
    "\n",
    "    #     norm_ord = ord('a')\n",
    "\n",
    "    #     # Main counting of letters\n",
    "    #     for i in range(length):\n",
    "    #         num_chars_s[ord(s[i])-norm_ord] += 1\n",
    "    #         num_chars_t[ord(t[i])-norm_ord] += 1\n",
    "        \n",
    "    #     # Check if same numbers of each letter\n",
    "    #     for i in range(num_chars):\n",
    "    #         if num_chars_s[i] != num_chars_t[i]:\n",
    "    #             return False\n",
    "        \n",
    "    #     return True\n",
    "\n",
    "    # def isAnagram(self, s: str, t: str) -> bool:\n",
    "    #     # If different length, definitely not an Anagram\n",
    "    #     length = len(s)\n",
    "    #     if length != len(t):\n",
    "    #         return False\n",
    "\n",
    "    #     # English alphabet has 26 characters\n",
    "    #     chars_s = {}\n",
    "    #     chars_t = {}\n",
    "\n",
    "    #     # Main counting of letters\n",
    "    #     for i in range(length):\n",
    "    #         if s[i] in chars_s:\n",
    "    #             chars_s[s[i]] +=1\n",
    "    #         else:\n",
    "    #             chars_s[s[i]] = 0\n",
    "\n",
    "    #         if t[i] in chars_t:\n",
    "    #             chars_t[t[i]] +=1\n",
    "    #         else:\n",
    "    #             chars_t[t[i]] = 0\n",
    "        \n",
    "    #     # Check if same numbers of each lettes\n",
    "    #     return chars_t == chars_s\n",
    "\n",
    "    def isAnagram(self, s: str, t: str) -> bool:\n",
    "        # English alphabet has 26 characters\n",
    "        dict = {}\n",
    "\n",
    "        # Count letters in s\n",
    "        for char in s:\n",
    "            if char not in dict:\n",
    "                dict[char] = 1\n",
    "            else:\n",
    "                dict[char] += 1\n",
    "        \n",
    "        # Check if same numbers of each lettes\n",
    "        for char in t:\n",
    "            if char not in dict:\n",
    "                return False\n",
    "            else:\n",
    "                dict[char] -= 1\n",
    "        \n",
    "        # If there are non-zero elements in dict, return False\n",
    "        for value in dict.values():\n",
    "            if value != 0:\n",
    "                return False\n",
    "\n",
    "        return True\n",
    "        \n",
    "Solution().isAnagram('burekjedobar', 'rebukejbardo')"
   ]
  },
  {
   "cell_type": "code",
   "execution_count": 18,
   "metadata": {},
   "outputs": [
    {
     "data": {
      "text/plain": [
       "6"
      ]
     },
     "execution_count": 18,
     "metadata": {},
     "output_type": "execute_result"
    }
   ],
   "source": [
    "# Binary search\n",
    "from typing import List\n",
    "\n",
    "class Solution:\n",
    "    def search(self, nums: List[int], target: int) -> int:\n",
    "        low = 0\n",
    "        high = len(nums)-1\n",
    "        mid = (low+high)//2\n",
    "\n",
    "        while True:\n",
    "            if nums[low] == target:\n",
    "                return low\n",
    "            elif nums[high] == target:\n",
    "                return high\n",
    "            else:\n",
    "                if nums[mid] > target:\n",
    "                    high = mid\n",
    "                elif nums[mid] < target:\n",
    "                    low = mid\n",
    "                else:\n",
    "                    return mid\n",
    "\n",
    "                mid = (low + high)//2\n",
    "            \n",
    "Solution().search(nums=[10,15,20,25,30,35,40], target=40)\n",
    "\n",
    "        \n",
    "        "
   ]
  },
  {
   "cell_type": "code",
   "execution_count": 49,
   "metadata": {},
   "outputs": [
    {
     "data": {
      "text/plain": [
       "4"
      ]
     },
     "execution_count": 49,
     "metadata": {},
     "output_type": "execute_result"
    }
   ],
   "source": [
    "# 35. Search Insert Position\n",
    "# Easy\n",
    "# Given a sorted array of distinct integers and a target value, return the index if the target is found. If not, return the index where it would be if it were inserted in order.\n",
    "# You must write an algorithm with O(log n) runtime complexity.\n",
    "\n",
    "from typing import List\n",
    "\n",
    "class Solution:\n",
    "    def searchInsert(self, nums: List[int], target: int) -> int:\n",
    "        high = len(nums) - 1\n",
    "        low = 0\n",
    "\n",
    "        while low < high:\n",
    "            mid = (low + high)//2\n",
    "            if (target == nums[mid]):\n",
    "                return mid\n",
    "\n",
    "            elif (target > nums[mid]): # x is on the right side\n",
    "                low = mid + 1\n",
    "            else:                 # x is on the left side\n",
    "                high = mid - 1\n",
    "\n",
    "        mid = (low + high)//2\n",
    "\n",
    "        if nums[mid] >= target:\n",
    "            return max(mid,0)\n",
    "        elif nums[mid] < target:\n",
    "            return max(mid+1,0)\n",
    "\n",
    "Solution().searchInsert(nums = [1,3,5,6], target = 8)"
   ]
  },
  {
   "cell_type": "code",
   "execution_count": 4,
   "metadata": {},
   "outputs": [
    {
     "data": {
      "text/plain": [
       "True"
      ]
     },
     "execution_count": 4,
     "metadata": {},
     "output_type": "execute_result"
    }
   ],
   "source": [
    "# 217. Contains Duplicate\n",
    "# Easy\n",
    "# Given an integer array nums, return true if any value appears at least twice in the array, and return false if every element is distinct.\n",
    "\n",
    "from typing import List\n",
    "\n",
    "# SLOW solution:\n",
    "class Solution:\n",
    "    def containsDuplicate(self, nums: List[int]) -> bool:\n",
    "        dict = {}\n",
    "        \n",
    "        for item in nums:\n",
    "            if item in dict:\n",
    "                return True\n",
    "            else:\n",
    "                dict[item] = True\n",
    "            \n",
    "        return False\n",
    "\n",
    "# BETTER solution:    \n",
    "class Solution:\n",
    "    def containsDuplicate(self, nums: List[int]) -> bool:\n",
    "        visited_items = set()\n",
    "\n",
    "        for item in nums:\n",
    "            if item not in visited_items:\n",
    "                visited_items.add(item)\n",
    "            else:\n",
    "                return True\n",
    "\n",
    "        return False\n",
    "\n",
    "Solution().containsDuplicate([1,2,1])\n",
    "        "
   ]
  },
  {
   "cell_type": "code",
   "execution_count": 48,
   "metadata": {},
   "outputs": [
    {
     "data": {
      "text/plain": [
       "-1"
      ]
     },
     "execution_count": 48,
     "metadata": {},
     "output_type": "execute_result"
    }
   ],
   "source": [
    "# 53. Maximum Subarray\n",
    "# Medium\n",
    "# Given an integer array nums, find the contiguous subarray (containing at least one number) which has the largest sum and return its sum.\n",
    "# A subarray is a contiguous part of an array.\n",
    "\n",
    "from cmath import inf\n",
    "import this\n",
    "from typing import List\n",
    "\n",
    "# class Solution:\n",
    "#     def maxSubArray(self, nums: List[int]) -> int:\n",
    "#         if len(nums) == 0:\n",
    "#             return 0\n",
    "\n",
    "#         max_start_idx = 0\n",
    "#         max_end_idx = 0\n",
    "\n",
    "#         max_sum = nums[0]\n",
    "\n",
    "#         for start_idx in range(len(nums)): # add a plus one so that start can be placed at the last element\n",
    "#             if nums[start_idx] < 0:\n",
    "#                 continue\n",
    "\n",
    "#             current_sum = 0\n",
    "#             for end_idx in range(start_idx, len(nums)): # end index goes from start until the last element of list\n",
    "#                 current_sum += nums[end_idx]\n",
    "#                 # current_sum = sum(nums[start_idx:end_idx + 1])\n",
    "                \n",
    "#                 # print(\"Start: \" + str(start_idx) + \". End: \" + str(end_idx)) # debug\n",
    "#                 # print(\"Current sum: \" + str(current_sum))\n",
    "#                 # print(\"-----------------------------\")\n",
    "\n",
    "#                 if current_sum > max_sum:\n",
    "#                     max_start_idx = start_idx\n",
    "#                     max_end_idx = end_idx\n",
    "#                     max_sum = current_sum\n",
    "\n",
    "#         return max_sum\n",
    "\n",
    "class Solution:\n",
    "    def maxSubArray(self, nums: List[int]) -> int:\n",
    "\n",
    "        sum = 0\n",
    "        this_sum = nums[0]\n",
    "\n",
    "        i = 0\n",
    "        for j in range(len(nums)):\n",
    "            this_sum += nums[j]\n",
    "            \n",
    "            if this_sum > sum:    \n",
    "                start_idx = i\n",
    "                end_idx = j\n",
    "                sum = this_sum\n",
    "            elif this_sum < 0:\n",
    "                i = j+1\n",
    "                this_sum = 0\n",
    "            \n",
    "        return sum\n",
    "\n",
    "Solution().maxSubArray([-2, -1])\n",
    "\n",
    "\n",
    "        "
   ]
  },
  {
   "cell_type": "code",
   "execution_count": 66,
   "metadata": {},
   "outputs": [
    {
     "data": {
      "text/plain": [
       "(3, 2)"
      ]
     },
     "execution_count": 66,
     "metadata": {},
     "output_type": "execute_result"
    }
   ],
   "source": [
    "# 1. Two Sum\n",
    "# Easy\n",
    "# Given an array of integers nums and an integer target, return indices of the two numbers such that they add up to target.\n",
    "# You may assume that each input would have exactly one solution, and you may not use the same element twice.\n",
    "# You can return the answer in any order.\n",
    "\n",
    "class Solution:\n",
    "    def twoSum(self, nums: List[int], target: int) -> List[int]:\n",
    "        # Keep track of all numbers and their indices in this hash map\n",
    "        hash_table = {}\n",
    "\n",
    "        # For each number in the list check if it's difference is in the list. If it is, return the index of the number and it's difference (get it from hash_table)\n",
    "        for i, item in enumerate(nums):\n",
    "            difference = target - item\n",
    "            if difference in hash_table:\n",
    "                return (i, hash_table[difference])\n",
    "            else:\n",
    "                hash_table[item] = i \n",
    "            \n",
    "\n",
    "Solution().twoSum([1,2,3,4,6], 7)"
   ]
  },
  {
   "cell_type": "code",
   "execution_count": 15,
   "metadata": {},
   "outputs": [
    {
     "name": "stdout",
     "output_type": "stream",
     "text": [
      "[1, 2]\n"
     ]
    }
   ],
   "source": [
    "# 88. Merge Sorted Array\n",
    "# Easy\n",
    "# You are given two integer arrays nums1 and nums2, sorted in non-decreasing order, and two integers m and n, representing the number of elements in nums1 and nums2 respectively.\n",
    "# Merge nums1 and nums2 into a single array sorted in non-decreasing order.\n",
    "# The final sorted array should not be returned by the function, but instead be stored inside the array nums1. To accommodate this, nums1 has a length of m + n, where the first m elements denote the elements that should be merged, and the last n elements are set to 0 and should be ignored. nums2 has a length of n.\n",
    "\n",
    "from typing import List\n",
    "\n",
    "class Solution:\n",
    "    def merge(self, nums1: List[int], m: int, nums2: List[int], n: int) -> None:\n",
    "        \"\"\"\n",
    "        Do not return anything, modify nums1 in-place instead.\n",
    "        \"\"\"\n",
    "        # Initialize pointers to end of array 1 and 2\n",
    "        i = m-1\n",
    "        j = n-1\n",
    "        \n",
    "        # Pointer to the write location in the new array -> Starts from behind (last place is largest element)\n",
    "        write_idx = m+n-1\n",
    "\n",
    "        while i >= 0 or j >= 0:\n",
    "            if i>=0 and nums1[i] > nums2[j]:\n",
    "                nums1[write_idx] = nums1[i]\n",
    "                i -= 1\n",
    "\n",
    "            else:\n",
    "                nums1[write_idx] = nums2[j]\n",
    "                j -= 1\n",
    "\n",
    "            write_idx -= 1\n",
    "        \n",
    "        print(nums1)\n",
    "\n",
    "Solution().merge([2,0], 1, [1], 1)\n"
   ]
  },
  {
   "cell_type": "code",
   "execution_count": 37,
   "metadata": {},
   "outputs": [
    {
     "name": "stdout",
     "output_type": "stream",
     "text": [
      "[1]\n",
      "[]\n"
     ]
    }
   ],
   "source": [
    "# 19. Remove Nth Node From End of List\n",
    "# Medium\n",
    "# Given the head of a linked list, remove the nth node from the end of the list and return its head.\n",
    "\n",
    "from typing import Optional\n",
    "\n",
    "# Definition for singly-linked list.\n",
    "class ListNode:\n",
    "    def __init__(self, val=0, next=None):\n",
    "        self.val = val\n",
    "        self.next = next\n",
    "\n",
    "# My helper functions for creating and printing a linked list\n",
    "def create_linked_list(seq: list):\n",
    "    assert len(seq) > 0, \"Empty list!\"\n",
    "\n",
    "    head = ListNode(val = seq[0], next=None)\n",
    "    curr_node = head\n",
    "\n",
    "    for item in seq[1:]:\n",
    "        new_node = ListNode(val=item, next=None)\n",
    "        curr_node.next = new_node\n",
    "        curr_node = new_node\n",
    "\n",
    "    return head\n",
    "\n",
    "def print_linked_list(num: ListNode):\n",
    "    list = []\n",
    "    curr_node = num\n",
    "\n",
    "    while curr_node is not None:  \n",
    "        list.append(curr_node.val)  \n",
    "        curr_node = curr_node.next\n",
    "\n",
    "    print(list)\n",
    "\n",
    "# Final solution\n",
    "class Solution:\n",
    "    def removeNthFromEnd(self, head: Optional[ListNode], n: int) -> Optional[ListNode]:\n",
    "        # Get the length of the list\n",
    "        list_len = 0\n",
    "\n",
    "        current_node = head\n",
    "        while current_node is not None:\n",
    "            current_node = current_node.next\n",
    "            list_len += 1\n",
    "\n",
    "        # If the elemement to be deleted is the head:\n",
    "        if n == list_len:\n",
    "            head = head.next\n",
    "            return head\n",
    "\n",
    "        # Get the n-th node from behind <=> list_len - n + 1 from the front (indexing starts from 1)\n",
    "        current_node_number = 1\n",
    "        current_node = head\n",
    "        prev_node = None\n",
    "\n",
    "        while current_node_number < list_len - n + 1:\n",
    "            prev_node = current_node\n",
    "            current_node = current_node.next\n",
    "            current_node_number += 1\n",
    "\n",
    "        # Rearrange the connections (return_node is the node to be deleted)\n",
    "        return_node = current_node\n",
    "        prev_node.next = return_node.next\n",
    "        return_node.next = None\n",
    "\n",
    "        return head\n",
    "\n",
    "# Faster solution\n",
    "class Solution:\n",
    "    def removeNthFromEnd(self, head: ListNode, n: int) -> ListNode:\n",
    "        fast, slow = head, head\n",
    "        for _ in range(n):\n",
    "            fast = fast.next\n",
    "        if not fast:\n",
    "            return head.next\n",
    "        while fast.next:\n",
    "            fast, slow = fast.next, slow.next\n",
    "        slow.next = slow.next.next\n",
    "        return head\n",
    "\n",
    "a = create_linked_list([1])\n",
    "\n",
    "print_linked_list(a)\n",
    "a = Solution().removeNthFromEnd(a, 1)\n",
    "print_linked_list(a)\n",
    "\n",
    "        \n",
    "\n"
   ]
  },
  {
   "cell_type": "code",
   "execution_count": 7,
   "metadata": {},
   "outputs": [
    {
     "name": "stdout",
     "output_type": "stream",
     "text": [
      "[1, 2, 3, 5, 6, 4, 5, 6]\n"
     ]
    },
    {
     "data": {
      "text/plain": [
       "6"
      ]
     },
     "execution_count": 7,
     "metadata": {},
     "output_type": "execute_result"
    }
   ],
   "source": [
    "# 27. Remove Element\n",
    "# Easy\n",
    "# Given an integer array nums and an integer val, remove all occurrences of val in nums in-place. The relative order of the elements may be changed.\n",
    "# Since it is impossible to change the length of the array in some languages, you must instead have the result be placed in the first part of the array nums.\n",
    "# More formally, if there are k elements after removing the duplicates, then the first k elements of nums should hold the final result. It does not matter what\n",
    "# you leave beyond the first k elements.\n",
    "# Return k after placing the final result in the first k slots of nums.\n",
    "# Do not allocate extra space for another array. You must do this by modifying the input array in-place with O(1) extra memory.\n",
    "\n",
    "from typing import List\n",
    "\n",
    "class Solution:\n",
    "    def removeElement(self, nums: List[int], val: int) -> int:\n",
    "        current_element = 0\n",
    "        for i in range(len(nums)):\n",
    "            if nums[i] != val:\n",
    "                nums[current_element] = nums[i]\n",
    "                current_element += 1\n",
    "        \n",
    "        return current_element\n",
    "\n",
    "Solution().removeElement([1,2,3,4,4,4,5,6], 4)"
   ]
  },
  {
   "cell_type": "code",
   "execution_count": 8,
   "metadata": {},
   "outputs": [
    {
     "data": {
      "text/plain": [
       "6"
      ]
     },
     "execution_count": 8,
     "metadata": {},
     "output_type": "execute_result"
    }
   ],
   "source": [
    "# 26. Remove Duplicates from Sorted Array\n",
    "# Easy\n",
    "# Given an integer array nums sorted in non-decreasing order, remove the duplicates in-place such that each unique element appears only once. The relative order of the elements should be kept the same.\n",
    "# Since it is impossible to change the length of the array in some languages, you must instead have the result be placed in the first part of the array nums. More formally, if there are k elements after removing the duplicates, then the first k elements of nums should hold the final result. It does not matter what you leave beyond the first k elements.\n",
    "# Return k after placing the final result in the first k slots of nums.\n",
    "# Do not allocate extra space for another array. You must do this by modifying the input array in-place with O(1) extra memory.\n",
    "\n",
    "from typing import List\n",
    "\n",
    "class Solution:\n",
    "    def removeDuplicates(self, nums: List[int]) -> int:\n",
    "        current_element = 0\n",
    "        occured_elements = set()\n",
    "        for i in range(len(nums)):\n",
    "            if nums[i] not in occured_elements:\n",
    "                nums[current_element] = nums[i]\n",
    "                occured_elements.add(nums[i])\n",
    "                current_element += 1\n",
    "        \n",
    "        return current_element\n",
    "\n",
    "Solution().removeElement([1,2,3,4,4,4,5,6])"
   ]
  },
  {
   "cell_type": "code",
   "execution_count": 14,
   "metadata": {},
   "outputs": [
    {
     "name": "stdout",
     "output_type": "stream",
     "text": [
      "[2, 1, 4, 3, 6, 5, 7]\n"
     ]
    }
   ],
   "source": [
    "# 24. Swap Nodes in Pairs\n",
    "# Medium\n",
    "# Given a linked list, swap every two adjacent nodes and return its head. You must solve the problem without modifying the values in the list's nodes (i.e., only nodes themselves may be changed.)\n",
    "\n",
    "from typing import Optional\n",
    "\n",
    "# Definition for singly-linked list.\n",
    "class ListNode:\n",
    "    def __init__(self, val=0, next=None):\n",
    "        self.val = val\n",
    "        self.next = next\n",
    "\n",
    "# My helper functions for creating and printing a linked list\n",
    "def create_linked_list(seq: list):\n",
    "    assert len(seq) > 0, \"Empty list!\"\n",
    "\n",
    "    head = ListNode(val = seq[0], next=None)\n",
    "    curr_node = head\n",
    "\n",
    "    for item in seq[1:]:\n",
    "        new_node = ListNode(val=item, next=None)\n",
    "        curr_node.next = new_node\n",
    "        curr_node = new_node\n",
    "\n",
    "    return head\n",
    "\n",
    "def print_linked_list(num: ListNode):\n",
    "    list = []\n",
    "    curr_node = num\n",
    "\n",
    "    while curr_node is not None:  \n",
    "        list.append(curr_node.val)  \n",
    "        curr_node = curr_node.next\n",
    "\n",
    "    print(list)\n",
    "\n",
    "class Solution:\n",
    "    def swapPairs(self, head: Optional[ListNode]) -> Optional[ListNode]:\n",
    "        front_pointer = head\n",
    "        back_pointer = None\n",
    "\n",
    "        while front_pointer is not None:\n",
    "            front_pointer = front_pointer.next\n",
    "            back_pointer = head if back_pointer is None else back_pointer.next\n",
    "\n",
    "            if front_pointer is not None:\n",
    "                saved_value = front_pointer.val\n",
    "                front_pointer.val = back_pointer.val\n",
    "                back_pointer.val = saved_value\n",
    "\n",
    "                front_pointer = front_pointer.next\n",
    "                back_pointer = back_pointer.next\n",
    "            \n",
    "        return head\n",
    "\n",
    "a = create_linked_list([1,2,3,4,5,6,7])\n",
    "b = Solution().swapPairs(a)\n",
    "\n",
    "print_linked_list(a)"
   ]
  },
  {
   "cell_type": "code",
   "execution_count": 22,
   "metadata": {},
   "outputs": [
    {
     "data": {
      "text/plain": [
       "0"
      ]
     },
     "execution_count": 22,
     "metadata": {},
     "output_type": "execute_result"
    }
   ],
   "source": [
    "# 28. Find the Index of the First Occurrence in a String\n",
    "# Medium\n",
    "# Given two strings needle and haystack, return the index of the first occurrence of needle in haystack, or -1 if needle is not part of haystack.\n",
    "\n",
    "class Solution:\n",
    "    def strStr(self, haystack: str, needle: str) -> int:\n",
    "        continue_to_next_letter = False\n",
    "        for i in range(len(haystack) - len(needle) + 1):\n",
    "            for j in range(len(needle)):\n",
    "                if haystack[i+j] != needle[j]:\n",
    "                    continue_to_next_letter = True\n",
    "            if continue_to_next_letter:\n",
    "                continue_to_next_letter = False\n",
    "                continue\n",
    "            else:\n",
    "                return i\n",
    "        return -1\n",
    "\n",
    "Solution().strStr(\"a\", \"a\")\n",
    "            "
   ]
  },
  {
   "cell_type": "code",
   "execution_count": 59,
   "metadata": {},
   "outputs": [
    {
     "name": "stdout",
     "output_type": "stream",
     "text": [
      "100\n"
     ]
    },
    {
     "data": {
      "text/plain": [
       "'100'"
      ]
     },
     "execution_count": 59,
     "metadata": {},
     "output_type": "execute_result"
    }
   ],
   "source": [
    "# 67. Add Binary\n",
    "# Easy\n",
    "# Given two binary strings a and b, return their sum as a binary string.\n",
    "\n",
    "class Solution:\n",
    "    def addBinary(self, a: str, b: str) -> str:\n",
    "        carry = 0\n",
    "        i = len(a)-1\n",
    "        j = len(b)-1\n",
    "\n",
    "        result = \"\"\n",
    "        while i>=0 or j>=0:\n",
    "            sum = carry\n",
    "            if i >= 0:\n",
    "                sum += int(a[i])\n",
    "            if j >= 0:\n",
    "                sum += int(b[j])\n",
    "\n",
    "            carry = sum // 2\n",
    "            sum = sum % 2\n",
    "            \n",
    "            result = str(sum)  + result\n",
    "\n",
    "            i-=1\n",
    "            j-=1\n",
    "\n",
    "        if carry != 0:\n",
    "            result = str(carry) + result\n",
    "\n",
    "        return str(result) \n",
    "    \n",
    "Solution().addBinary(\"11\", \"1\")"
   ]
  },
  {
   "cell_type": "code",
   "execution_count": 17,
   "metadata": {},
   "outputs": [
    {
     "data": {
      "text/plain": [
       "(4, [6, 1, 4, 5])"
      ]
     },
     "execution_count": 17,
     "metadata": {},
     "output_type": "execute_result"
    }
   ],
   "source": [
    "from typing import List\n",
    "def maxSubarrayK(nums: List[int], k: int):\n",
    "\n",
    "    # Initialize max indices and lengths\n",
    "    max_len = 0\n",
    "    max_start = 0\n",
    "    max_end = 0\n",
    "\n",
    "    # Dictionary of start indices of each remainder encountered\n",
    "    # Key = remainder, Value = start index\n",
    "    remainder_starts = {}\n",
    "\n",
    "    # Computing the array of remainders\n",
    "    remainders = [0]*len(nums)\n",
    "    cummulative_sum = 0\n",
    "\n",
    "    for i in range(len(nums)):\n",
    "        cummulative_sum += nums[i]\n",
    "\n",
    "        remainders[i] = cummulative_sum % k\n",
    "\n",
    "        if remainder_starts.get(remainders[i]):\n",
    "            current_len = i - remainder_starts.get(remainders[i]) + 1\n",
    "            \n",
    "            if current_len > max_len:\n",
    "                remainder_starts[remainder_starts.get(remainders[i])] = i\n",
    "                max_len = current_len\n",
    "                max_start = remainder_starts.get(remainders[i])\n",
    "                max_end = i\n",
    "        else:\n",
    "            remainder_starts[remainders[i]] = i\n",
    "\n",
    "    # Find the largest \n",
    "    return max_len, nums[max_start : max_end+1]\n",
    "\n",
    "maxSubarrayK([2, 7, 6, 1, 4, 5], 3)"
   ]
  },
  {
   "cell_type": "code",
   "execution_count": 7,
   "metadata": {},
   "outputs": [
    {
     "data": {
      "text/plain": [
       "3"
      ]
     },
     "execution_count": 7,
     "metadata": {},
     "output_type": "execute_result"
    }
   ],
   "source": [
    "# 136. Single Number\n",
    "# Easy\n",
    "# Given a non-empty array of integers nums, every element appears twice except for one. Find that single one.\n",
    "# You must implement a solution with a linear runtime complexity and use only constant extra space.\n",
    "\n",
    "from typing import List\n",
    "\n",
    "class Solution:\n",
    "    def singleNumber(self, nums: List[int]) -> int:\n",
    "        result = 0\n",
    "        for item in nums:\n",
    "            result ^= item\n",
    "        return result\n",
    "\n",
    "Solution().singleNumber(nums=[1,2,1,2,3])"
   ]
  },
  {
   "cell_type": "code",
   "execution_count": 11,
   "metadata": {},
   "outputs": [
    {
     "data": {
      "text/plain": [
       "0"
      ]
     },
     "execution_count": 11,
     "metadata": {},
     "output_type": "execute_result"
    }
   ],
   "source": [
    "# 121. Best Time to Buy and Sell Stock\n",
    "# Easy\n",
    "# You are given an array prices where prices[i] is the price of a given stock on the ith day.\n",
    "# You want to maximize your profit by choosing a single day to buy one stock and choosing a different day in the future to sell that stock.\n",
    "# Return the maximum profit you can achieve from this transaction. If you cannot achieve any profit, return 0.\n",
    "\n",
    "from re import I\n",
    "\n",
    "\n",
    "class Solution:\n",
    "    def maxProfit(self, prices: List[int]) -> int:\n",
    "        max_difference = 0\n",
    "        for i in range(len(prices)):\n",
    "            for j in range(i+1, len(prices)):\n",
    "                current_difference = prices[j] - prices[i]\n",
    "                if current_difference > max_difference:\n",
    "                    max_difference = current_difference\n",
    "\n",
    "        return max_difference\n",
    "\n",
    "class Solution:\n",
    "    def maxProfit(self, prices: List[int]) -> int:\n",
    "        left = 0\n",
    "        right = 1\n",
    "\n",
    "        max_profit = 0\n",
    "\n",
    "        while right < len(prices):            \n",
    "            profit = prices[right] - prices[left]\n",
    "            if profit > max_profit:\n",
    "                max_profit = profit\n",
    "            if prices[right] < prices[left]:\n",
    "                left = right\n",
    "        \n",
    "            right = right + 1\n",
    "\n",
    "        return max_profit\n",
    "                \n",
    "\n",
    "Solution().maxProfit([7,6,4,3,1])"
   ]
  },
  {
   "cell_type": "code",
   "execution_count": null,
   "metadata": {},
   "outputs": [],
   "source": [
    "# Definition for singly-linked list.\n",
    "class ListNode:\n",
    "    def __init__(self, val=0, next=None):\n",
    "        self.val = val\n",
    "        self.next = next\n",
    "\n",
    "# My helper functions for creating and printing a linked list\n",
    "def create_linked_list(seq: list):\n",
    "    assert len(seq) > 0, \"Empty list!\"\n",
    "\n",
    "    head = ListNode(val = seq[0], next=None)\n",
    "    curr_node = head\n",
    "\n",
    "    for item in seq[1:]:\n",
    "        new_node = ListNode(val=item, next=None)\n",
    "        curr_node.next = new_node\n",
    "        curr_node = new_node\n",
    "\n",
    "    return head\n",
    "\n",
    "def print_linked_list(num: ListNode):\n",
    "    list = []\n",
    "    curr_node = num\n",
    "\n",
    "    while curr_node is not None:  \n",
    "        list.append(curr_node.val)  \n",
    "        curr_node = curr_node.next\n",
    "\n",
    "    print(list)\n",
    "    return list\n",
    "\n",
    "class Solution:\n",
    "    def isPalindrome(self, head: Optional[ListNode]) -> bool:\n",
    "        "
   ]
  },
  {
   "cell_type": "code",
   "execution_count": 16,
   "metadata": {},
   "outputs": [
    {
     "name": "stdout",
     "output_type": "stream",
     "text": [
      "[8, 6, 6, 6]\n",
      "[8, 6, 6, 6]\n"
     ]
    }
   ],
   "source": [
    "# A Python program to count all subsets with given sum.\n",
    " \n",
    "# dp[i][j] is going to store True if sum j is\n",
    "# possible with array elements from 0 to i.\n",
    "dp = [[]]\n",
    " \n",
    "def display(v):\n",
    "    print(v)\n",
    " \n",
    "# A recursive function to print all subsets with the\n",
    "# help of dp[][]. list p[] stores current subset.\n",
    "def printSubsetsRec(arr, i, sum, p):\n",
    "   \n",
    "    # If we reached end and sum is non-zero. We print\n",
    "    # p[] only if arr[0] is equal to sum OR dp[0][sum]\n",
    "    # is True.\n",
    "    if (i == 0 and sum != 0 and dp[0][sum]):\n",
    "        p.append(arr[i])\n",
    "        display(p)\n",
    "        p = []\n",
    "        return\n",
    " \n",
    "    # If sum becomes 0\n",
    "    if (i == 0 and sum == 0):\n",
    "        display(p)\n",
    "        p = []\n",
    "        return\n",
    " \n",
    "    # If given sum can be achieved after ignoring\n",
    "    # current element.\n",
    "    if (dp[i-1][sum]):\n",
    "        # Create a new list to store path\n",
    "        b = []\n",
    "        b.extend(p)\n",
    "        printSubsetsRec(arr, i-1, sum, b)\n",
    " \n",
    "    # If given sum can be achieved after considering\n",
    "    # current element.\n",
    "    if (sum >= arr[i] and dp[i-1][sum-arr[i]]):\n",
    "        p.append(arr[i])\n",
    "        printSubsetsRec(arr, i-1, sum-arr[i], p)\n",
    " \n",
    "# Prints all subsets of arr[0..n-1] with sum 0.\n",
    "def printAllSubsets(arr, n, sum):\n",
    "    if (n == 0 or sum < 0):\n",
    "        return\n",
    " \n",
    "    # Sum 0 can always be achieved with 0 elements\n",
    "    global dp\n",
    "    dp = [[False for i in range(sum+1)] for j in range(n)]\n",
    " \n",
    "    for i in range(n):\n",
    "        dp[i][0] = True\n",
    " \n",
    "    # Sum arr[0] can be achieved with single element\n",
    "    if (arr[0] <= sum):\n",
    "        dp[0][arr[0]] = True\n",
    " \n",
    "    # Fill rest of the entries in dp[][]\n",
    "    for i in range(1, n):\n",
    "        for j in range(0, sum + 1):\n",
    "            if (arr[i] <= j):\n",
    "                dp[i][j] = (dp[i-1][j] or dp[i-1][j-arr[i]])\n",
    "            else:\n",
    "                dp[i][j] = dp[i - 1][j]\n",
    " \n",
    "    if (dp[n-1][sum] == False):\n",
    "        print(\"There are no subsets with sum \", sum)\n",
    "        return\n",
    " \n",
    "    # Now recursively traverse dp[][] to find all\n",
    "    # paths from dp[n-1][sum]\n",
    "    p = []\n",
    "    printSubsetsRec(arr, n-1, sum, p)\n",
    " \n",
    "arr = [6,6,6,8,8]\n",
    "n = len(arr)\n",
    "sum = 26\n",
    "printAllSubsets(arr, n, sum)\n",
    " \n",
    "# This code is contributed by Lovely Jain"
   ]
  },
  {
   "cell_type": "code",
   "execution_count": 15,
   "metadata": {},
   "outputs": [
    {
     "name": "stdout",
     "output_type": "stream",
     "text": [
      "{0, 34, 6, 8, 12, 14, 16, 18, 20, 22, 26, 28}\n"
     ]
    }
   ],
   "source": [
    "arr = [6,6,6,8,8]\n",
    "sums = []\n",
    "\n",
    "for i1 in [True, False]:\n",
    "    for i2 in [True, False]:\n",
    "        for i3 in [True, False]:\n",
    "            for i4 in [True, False]:\n",
    "                for i5 in [True, False]:\n",
    "                    sum = 0\n",
    "                    for ind, i in enumerate([i1,i2,i3,i4,i5]):\n",
    "                        if i:\n",
    "                            sum += arr[ind]\n",
    "                    sums.append(sum)\n",
    "\n",
    "sums.sort()\n",
    "sums = set(sums)\n",
    "print(sums)"
   ]
  },
  {
   "cell_type": "code",
   "execution_count": 104,
   "metadata": {},
   "outputs": [
    {
     "data": {
      "text/plain": [
       "((-1, -1), inf, '')"
      ]
     },
     "execution_count": 104,
     "metadata": {},
     "output_type": "execute_result"
    }
   ],
   "source": [
    "# 76. Minimum Window Substring\n",
    "# Hard\n",
    "# Given two strings s and t of lengths m and n respectively, return the minimum window\n",
    "# substring of s such that every character in t (including duplicates) is included in the window. If there is no such substring, return the empty string \"\".\n",
    "# The testcases will be generated such that the answer is unique.\n",
    "\n",
    "class Solution:\n",
    "    def minWindow(self, s: str, t: str) -> str:\n",
    "        def create_dict(s):\n",
    "            return {character: s.count(character) for character in s}\n",
    "\n",
    "        def isValidWindow(w_dict, t_dict):\n",
    "            if not set(t_dict.keys()).issubset(w_dict.keys()):\n",
    "                return False\n",
    "            else:\n",
    "                return all([w_dict[key] >= t_dict[key] for key in t_dict.keys()])\n",
    "            \n",
    "        # If length of s is less than t, return false\n",
    "        if len(s) < len(t):\n",
    "            return \"\"\n",
    "        \n",
    "        # Regular processing:\n",
    "        left = 0\n",
    "        right = len(s) - 1\n",
    "\n",
    "        w_dict = create_dict(s[left:right+1])\n",
    "        t_dict = create_dict(t)\n",
    "\n",
    "        # Move the left pointer as much as possible to the right\n",
    "        while isValidWindow(w_dict, t_dict):        \n",
    "            w_dict[s[left]] -= 1\n",
    "            left += 1\n",
    "            \n",
    "        left -= 1\n",
    "        if left < 0:\n",
    "            return \"\"\n",
    "        else:\n",
    "            w_dict[s[left]] += 1\n",
    "\n",
    "        # Move the right pointer as much as possible to the left\n",
    "        while isValidWindow(w_dict, t_dict):\n",
    "            w_dict[s[right]] -= 1\n",
    "            right -= 1\n",
    "            \n",
    "        right += 1\n",
    "        if right >= len(s):\n",
    "            return \"\"\n",
    "        else:\n",
    "            w_dict[s[right]] += 1\n",
    "\n",
    "        return left, right, s[left: right+1]\n",
    "    \n",
    "\n",
    "    def minWindow2(self, s: str, t: str) -> str:\n",
    "        def create_dict(s: str):\n",
    "            return {char: s.count(char) for char in s}\n",
    "        \n",
    "        def contains(t: dict, s: dict):\n",
    "            if not set(t.keys()).issubset(set(s.keys())):\n",
    "                return False\n",
    "            \n",
    "            return all([s[key]>= t[key] for key in t.keys()])\n",
    "\n",
    "        window_start = 0\n",
    "        window_end = 0\n",
    "        min_len = float('inf')\n",
    "        ans = -1,-1\n",
    "\n",
    "        t_dict = create_dict(t)\n",
    "\n",
    "        for window_end in range(len(s)):\n",
    "\n",
    "            substring = s[window_start:window_end+1]\n",
    "            current_len = window_end - window_start + 1\n",
    "\n",
    "            substring_dict = create_dict(substring)\n",
    "\n",
    "            while contains(t_dict, substring_dict):\n",
    "                if current_len < min_len:\n",
    "                    min_len = current_len\n",
    "                    ans = window_start, window_end\n",
    "\n",
    "                window_start += 1\n",
    "                substring = s[window_start:window_end+1]\n",
    "                substring_dict = create_dict(substring)\n",
    "                current_len = window_end - window_start + 1\n",
    "\n",
    "        return ans, min_len, s[ans[0]:ans[1]+1]\n",
    "    \n",
    "    def minWindow3(self, s: str, t: str) -> str:\n",
    "        window_start = 0\n",
    "        window_end = 0\n",
    "        min_len = float('inf')\n",
    "        ans = -1,-1\n",
    "\n",
    "        t_dict = {char: t.count(char) for char in t}\n",
    "        substring_dict = {}\n",
    "        remaining = len(t)\n",
    "\n",
    "        for window_end in range(len(s)):\n",
    "            if s[window_end] in substring_dict:\n",
    "                substring_dict[s[window_end]] += 1\n",
    "            else:\n",
    "                substring_dict[s[window_end]] = 0\n",
    "\n",
    "            if s[window_end] in t_dict and substring_dict[s[window_end]] < t_dict[s[window_end]]:\n",
    "                remaining -= 1\n",
    "\n",
    "            current_len = window_end - window_start + 1\n",
    "\n",
    "            while remaining == 0:\n",
    "                if current_len < min_len:\n",
    "                    min_len = current_len\n",
    "                    ans = window_start, window_end\n",
    "\n",
    "                if s[window_start] in t_dict and substring_dict[s[window_start]] < t_dict[s[window_start]]:\n",
    "                    remaining += 1\n",
    "\n",
    "                substring_dict[s[window_start]] -= 1\n",
    "                window_start += 1\n",
    "                current_len = window_end - window_start + 1\n",
    "\n",
    "        return ans, min_len, s[ans[0]:ans[1]+1]\n",
    "\n",
    "\n",
    "# Solution().minWindow(s='ADOBECODEBANC', t='ABC')\n",
    "# Solution().minWindow(s='PQRSABRCR', t='ABC')\n",
    "Solution().minWindow3(s='QWWEOKQOEPKQWOK', t='ABC')"
   ]
  },
  {
   "cell_type": "code",
   "execution_count": 142,
   "metadata": {},
   "outputs": [
    {
     "data": {
      "text/plain": [
       "0"
      ]
     },
     "execution_count": 142,
     "metadata": {},
     "output_type": "execute_result"
    }
   ],
   "source": [
    "# 209. Minimum Size Subarray Sum\n",
    "# Medium\n",
    "# Given an array of positive integers nums and a positive integer target, return the minimal length of a\n",
    "# subarray whose sum is greater than or equal to target. If there is no such subarray, return 0 instead.\n",
    "\n",
    "from typing import List\n",
    "\n",
    "class Solution:\n",
    "    def minSubArrayLen(self, target: int, nums: List[int]) -> int: # Sliding window approach\n",
    "        window_start = 0\n",
    "        current_sum = 0\n",
    "        min_len = len(nums) + 1\n",
    "        for window_end in range(len(nums)):\n",
    "            current_sum += nums[window_end]\n",
    "\n",
    "            while current_sum >= target:\n",
    "                min_len = min(min_len, window_end - window_start + 1)\n",
    "\n",
    "                current_sum -= nums[window_start]\n",
    "                window_start += 1\n",
    "\n",
    "        return 0 if min_len == len(nums) + 1 else min_len\n",
    "        \n",
    "    def minSubArrayLen2(self, target: int, nums: List[int]) -> int: # Linear search using cumulative sum\n",
    "        def find_left(left, right):\n",
    "            pass\n",
    "\n",
    "        for i in range(1, len(nums)):\n",
    "            nums[i] = nums[i-1] + nums[i]\n",
    "\n",
    "        window_start = 0\n",
    "        min_len = len(nums) + 1\n",
    "        for window_end in range(len(nums)):\n",
    "            if nums[window_end] >= target:\n",
    "                min_len = min(min_len, window_end-window_start+1)\n",
    "                while nums[window_end] - nums[window_start] >= target:\n",
    "                    min_len = min(min_len, window_end-window_start)\n",
    "                    window_start += 1\n",
    "\n",
    "        return 0 if min_len == len(nums) + 1 else min_len\n",
    "    \n",
    "    def minSubArrayLen3(self, target: int, nums: List[int]) -> int: # Binary search of cumulative sum\n",
    "        for i in range(1, len(nums)):\n",
    "            nums[i] = nums[i-1] + nums[i]\n",
    "\n",
    "        window_start = 0\n",
    "        min_len = len(nums) + 1\n",
    "        for window_end in range(len(nums)):\n",
    "            if nums[window_end] >= target:\n",
    "                min_len = min(min_len, window_end-window_start+1)\n",
    "\n",
    "                left = window_start\n",
    "                right = window_end\n",
    "\n",
    "                # Binary search: Find the left number such that nums[left] - nums[right] > target\n",
    "                while left < right:\n",
    "                    mid = (left + right) // 2\n",
    "                    if nums[window_end] - nums[mid] >= target:\n",
    "                        left = mid + 1\n",
    "                        min_len = min(min_len, window_end-left + 1)\n",
    "                    else:\n",
    "                        right = mid\n",
    "\n",
    "                window_end = left\n",
    "\n",
    "        return 0 if min_len == len(nums) + 1 else min_len\n",
    "\n",
    "\n",
    "target = 7\n",
    "# nums = [2,3,1,2,4,3]\n",
    "nums = [1,1,1]\n",
    "Solution().minSubArrayLen3(target, nums)"
   ]
  },
  {
   "cell_type": "code",
   "execution_count": 15,
   "metadata": {},
   "outputs": [
    {
     "data": {
      "text/plain": [
       "4"
      ]
     },
     "execution_count": 15,
     "metadata": {},
     "output_type": "execute_result"
    }
   ],
   "source": [
    "# 424. Longest Repeating Character Replacement\n",
    "# Medium\n",
    "# You are given a string s and an integer k. You can choose any character of the string and change it to any other uppercase English character. You can perform this operation at most k times.\n",
    "# Return the length of the longest substring containing the same letter you can get after performing the above operations.\n",
    "\n",
    "class Solution:\n",
    "    def characterReplacement(self, s: str, k: int) -> int:\n",
    "        l = 0\n",
    "        max_len = 0\n",
    "        change = k\n",
    "        seen = {}\n",
    "        for r in range(len(s)):\n",
    "            # Store char frequency\n",
    "            if s[r] not in seen:\n",
    "                seen[s[r]] = 1\n",
    "            else:\n",
    "                seen[s[r]] += 1\n",
    "\n",
    "            # Remaining\n",
    "            change = r-l+1 - max(seen.values())\n",
    "\n",
    "            # Check if change >= k\n",
    "            if change <= k:\n",
    "                max_len = max(max_len, r-l+1)\n",
    "            else:\n",
    "                seen[s[l]] -= 1\n",
    "                l += 1\n",
    "\n",
    "        return max_len\n",
    "\n",
    "s = 'AABABBA'\n",
    "k = 1\n",
    "Solution().characterReplacement(s,k)\n"
   ]
  },
  {
   "cell_type": "code",
   "execution_count": 20,
   "metadata": {},
   "outputs": [
    {
     "data": {
      "text/plain": [
       "8"
      ]
     },
     "execution_count": 20,
     "metadata": {},
     "output_type": "execute_result"
    }
   ],
   "source": [
    "# 713. Subarray Product Less Than K\n",
    "# Medium\n",
    "# Given an array of integers nums and an integer k, return the number of contiguous subarrays where the product of all the elements in the subarray is strictly less than k.\n",
    "\n",
    "from typing import List\n",
    "\n",
    "class Solution:\n",
    "    def numSubarrayProductLessThanK(self, nums: List[int], k: int) -> int:\n",
    "        l, r = 0, 0\n",
    "        ct = 0\n",
    "        prod = 1\n",
    "        for r in range(len(nums)):\n",
    "            prod *= nums[r]\n",
    "            while prod >= k and l <= r:\n",
    "                prod /= nums[l]\n",
    "                l+=1\n",
    "\n",
    "            ct += r-l+1\n",
    "\n",
    "        return ct\n",
    "            \n",
    "nums = [10,5,2,6]\n",
    "k = 100\n",
    "\n",
    "Solution().numSubarrayProductLessThanK(nums,k)"
   ]
  },
  {
   "cell_type": "code",
   "execution_count": 27,
   "metadata": {},
   "outputs": [
    {
     "data": {
      "text/plain": [
       "3"
      ]
     },
     "execution_count": 27,
     "metadata": {},
     "output_type": "execute_result"
    }
   ],
   "source": [
    "# 2024. Maximize the Confusion of an Exam\n",
    "# Medium\n",
    "# A teacher is writing a test with n true/false questions, with 'T' denoting true and 'F' denoting false. He wants to confuse the students by maximizing the number of consecutive questions with the same answer (multiple trues or multiple falses in a row).\n",
    "# You are given a string answerKey, where answerKey[i] is the original answer to the ith question. In addition, you are given an integer k, the maximum number of times you may perform the following operation:\n",
    "#     Change the answer key for any question to 'T' or 'F' (i.e., set answerKey[i] to 'T' or 'F').\n",
    "# Return the maximum number of consecutive 'T's or 'F's in the answer key after performing the operation at most k times.\n",
    "\n",
    "class Solution:\n",
    "    def maxConsecutiveAnswers(self, answerKey: str, k: int) -> int:\n",
    "        l = 0 \n",
    "        max_len = 0\n",
    "        T, F = 0, 0\n",
    "\n",
    "        for r in range(len(answerKey)):\n",
    "            # Check if current char is T or F\n",
    "            if answerKey[r] == 'T':\n",
    "                T += 1\n",
    "            else:\n",
    "                F += 1\n",
    "\n",
    "            # Compute the necessary change to achieve the max number of same chars\n",
    "            change = r-l+1 - max(T,F)\n",
    "\n",
    "            # If this change is larger than allowed, move window left boundary to the right\n",
    "            if change > k:\n",
    "                if answerKey[l] == 'T':\n",
    "                    T -= 1\n",
    "                else:\n",
    "                    F -= 1\n",
    "                l += 1\n",
    "            else:\n",
    "                max_len = max(max_len, r-l+1)\n",
    "\n",
    "        return max_len\n",
    "\n",
    "answerKey = 'TFF'\n",
    "k = 1\n",
    "Solution().maxConsecutiveAnswers(answerKey, k)"
   ]
  },
  {
   "cell_type": "code",
   "execution_count": 28,
   "metadata": {},
   "outputs": [
    {
     "data": {
      "text/plain": [
       "6"
      ]
     },
     "execution_count": 28,
     "metadata": {},
     "output_type": "execute_result"
    }
   ],
   "source": [
    "# 1004. Max Consecutive Ones III\n",
    "# Medium\n",
    "# Given a binary array nums and an integer k, return the maximum number of consecutive 1's in the array if you can flip at most k 0's.\n",
    "\n",
    "class Solution:\n",
    "    def longestOnes(self, nums: List[int], k: int) -> int:\n",
    "        l = 0\n",
    "        max_len = 0\n",
    "        \n",
    "        sum = 0\n",
    "        for r in range(len(nums)):\n",
    "            sum += nums[r]\n",
    "\n",
    "            if r - l + 1 - sum > k:\n",
    "                sum -= nums[l]\n",
    "                l += 1\n",
    "            else:\n",
    "                max_len = max(max_len, r - l + 1)\n",
    "\n",
    "        return max_len \n",
    "\n",
    "\n",
    "nums = [1,1,1,0,0,0,1,1,1,1,0]\n",
    "k = 2\n",
    "Solution().longestOnes(nums, k)            "
   ]
  },
  {
   "cell_type": "code",
   "execution_count": 31,
   "metadata": {},
   "outputs": [
    {
     "data": {
      "text/plain": [
       "3"
      ]
     },
     "execution_count": 31,
     "metadata": {},
     "output_type": "execute_result"
    }
   ],
   "source": [
    "# 1493. Longest Subarray of 1's After Deleting One Element\n",
    "# Medium\n",
    "# Given a binary array nums, you should delete one element from it.\n",
    "# Return the size of the longest non-empty subarray containing only 1's in the resulting array. Return 0 if there is no such subarray.\n",
    "\n",
    "from typing import List\n",
    "\n",
    "class Solution:\n",
    "    def longestSubarray(self, nums: List[int]) -> int:\n",
    "        l = 0   \n",
    "        max_len = 0\n",
    "        sum = 0\n",
    "        for r in range(len(nums)):\n",
    "            sum += nums[r]\n",
    "\n",
    "            if r-l+1-sum > 1:\n",
    "                sum -= nums[l]\n",
    "                l += 1\n",
    "            else: \n",
    "                max_len = max(max_len, r-l+1)\n",
    "\n",
    "        return max_len - 1\n",
    "    \n",
    "nums = [1,1,0,1]\n",
    "Solution().longestSubarray(nums)"
   ]
  },
  {
   "cell_type": "code",
   "execution_count": 37,
   "metadata": {},
   "outputs": [
    {
     "data": {
      "text/plain": [
       "8"
      ]
     },
     "execution_count": 37,
     "metadata": {},
     "output_type": "execute_result"
    }
   ],
   "source": [
    "# 1695. Maximum Erasure Value\n",
    "# Medium\n",
    "# You are given an array of positive integers nums and want to erase a subarray containing unique elements. The score you get by erasing the subarray is equal to the sum of its elements.\n",
    "# Return the maximum score you can get by erasing exactly one subarray.\n",
    "# An array b is called to be a subarray of a if it forms a contiguous subsequence of a, that is, if it is equal to a[l],a[l+1],...,a[r] for some (l,r).\n",
    "\n",
    "from typing import List\n",
    "\n",
    "class Solution:\n",
    "    def maximumUniqueSubarray(self, nums: List[int]) -> int:\n",
    "        \"\"\"\n",
    "        The problem is essentially \"Find a unique element subarray of the highest sum\" in the array nums.\n",
    "        \"\"\"\n",
    "        l = 0\n",
    "        max_sum = 0\n",
    "        sum = 0\n",
    "        seen = {}\n",
    "        for r in range(len(nums)):\n",
    "            sum += nums[r]\n",
    "            while nums[r] in seen and seen[nums[r]] >= l:\n",
    "                sum -= nums[l]\n",
    "                l += 1\n",
    "            max_sum = max(sum, max_sum)\n",
    "            seen[nums[r]] = r\n",
    "        return max_sum\n",
    "               \n",
    "\n",
    "nums = [5,2,1,2,5,2,1,2,5]\n",
    "Solution().maximumUniqueSubarray(nums)"
   ]
  },
  {
   "cell_type": "code",
   "execution_count": 62,
   "metadata": {},
   "outputs": [
    {
     "data": {
      "text/plain": [
       "0"
      ]
     },
     "execution_count": 62,
     "metadata": {},
     "output_type": "execute_result"
    }
   ],
   "source": [
    "# 7. Reverse Integer\n",
    "# Medium\n",
    "# Given a signed 32-bit integer x, return x with its digits reversed. If reversing x causes the value to go outside the signed 32-bit integer range [-231, 231 - 1], then return 0.\n",
    "# Assume the environment does not allow you to store 64-bit integers (signed or unsigned).\n",
    "\n",
    "class Solution:\n",
    "    def reverse(self, x: int) -> int:\n",
    "        num_str = str(x)\n",
    "        if num_str[0].isdigit():\n",
    "            num = int(num_str[::-1]) \n",
    "            return num if num < 2**31-1 else 0 \n",
    "        else:\n",
    "            num = -int(num_str[:0:-1])\n",
    "            return num if num > -2**31 else 0\n",
    "    \n",
    "Solution().reverse(-2147483648)"
   ]
  },
  {
   "cell_type": "code",
   "execution_count": 94,
   "metadata": {},
   "outputs": [
    {
     "data": {
      "text/plain": [
       "[[-2, 1, 1], [-2, 0, 2]]"
      ]
     },
     "execution_count": 94,
     "metadata": {},
     "output_type": "execute_result"
    }
   ],
   "source": [
    "# 15. 3Sum\n",
    "# Medium\n",
    "# Given an integer array nums, return all the triplets [nums[i], nums[j], nums[k]] such that i != j, i != k, and j != k, and nums[i] + nums[j] + nums[k] == 0.\n",
    "# Notice that the solution set must not contain duplicate triplets.\n",
    "\n",
    "from typing import List\n",
    "\n",
    "class Solution: \n",
    "    def threeSum(self, nums: List[int]) -> List[List[int]]: # Brute force approach O(n^3)\n",
    "        ans = []\n",
    "        for i in range(len(nums)):\n",
    "            for j in range(i+1, len(nums)):\n",
    "                for k in range(j+1, len(nums)):\n",
    "                    cur = sorted([nums[i], nums[j], nums[k]])\n",
    "                    if sum(cur) == 0 and cur not in ans:\n",
    "                        ans.append(cur)\n",
    "\n",
    "        return ans\n",
    "    \n",
    "    def threeSum2(self, nums: List[int]) -> List[List[int]]: # O(n^2 + nlogn) = O(n^2)\n",
    "        nums.sort()\n",
    "        seen = set()\n",
    "        ans = []\n",
    "        for i in range(len(nums)):\n",
    "            j = i+1\n",
    "            k = len(nums)-1\n",
    "\n",
    "            while j < k:\n",
    "                sum = nums[j] + nums[k]\n",
    "                if sum < -nums[i]:\n",
    "                    j += 1\n",
    "                elif sum > -nums[i]:\n",
    "                    k -= 1\n",
    "                else:\n",
    "                    triplet = (nums[i], nums[j], nums[k])\n",
    "                    if triplet not in seen:\n",
    "                        seen.add(triplet)\n",
    "                        ans.append([nums[i], nums[j], nums[k]])\n",
    "                    j += 1\n",
    "                    k -= 1\n",
    "\n",
    "        return ans\n",
    "                \n",
    "\n",
    "nums = [-2,0,1,1,2]\n",
    "Solution().threeSum2(nums)        "
   ]
  },
  {
   "cell_type": "code",
   "execution_count": 1,
   "metadata": {},
   "outputs": [
    {
     "data": {
      "text/plain": [
       "3"
      ]
     },
     "execution_count": 1,
     "metadata": {},
     "output_type": "execute_result"
    }
   ],
   "source": [
    "# 200. Number of Islands\n",
    "# Medium\n",
    "# Given an m x n 2D binary grid grid which represents a map of '1's (land) and '0's (water), return the number of islands.\n",
    "# An island is surrounded by water and is formed by connecting adjacent lands horizontally or vertically. You may assume all four edges of the grid are all surrounded by water.\n",
    "\n",
    "from typing import List\n",
    "\n",
    "class Solution:\n",
    "    def numIslands(self, grid: List[List[str]]) -> int:\n",
    "        def visit(grid, i, j):\n",
    "            if grid[i][j] == \"1\":\n",
    "                grid[i][j] = \"0\"\n",
    "                if i+1 < len(grid):\n",
    "                    visit(grid, i+1, j)\n",
    "                if j+1 < len(grid[i]):\n",
    "                    visit(grid, i, j+1)\n",
    "                if i-1 >= 0:    \n",
    "                    visit(grid, i-1, j)\n",
    "                if j-1 >= 0:\n",
    "                    visit(grid, i, j-1)\n",
    "\n",
    "        count = 0\n",
    "        for i in range(len(grid)):\n",
    "            for j in range(len(grid[i])):\n",
    "                if grid[i][j] == \"1\":\n",
    "                    visit(grid, i, j)\n",
    "                    count += 1\n",
    "\n",
    "        return count\n",
    "\n",
    "\n",
    "grid = [\n",
    "  [\"1\",\"1\",\"0\",\"0\",\"0\"],\n",
    "  [\"1\",\"1\",\"0\",\"0\",\"0\"],\n",
    "  [\"0\",\"0\",\"1\",\"0\",\"0\"],\n",
    "  [\"0\",\"0\",\"0\",\"1\",\"1\"]\n",
    "]\n",
    "Solution().numIslands(grid)"
   ]
  },
  {
   "cell_type": "code",
   "execution_count": 1,
   "metadata": {},
   "outputs": [
    {
     "data": {
      "text/plain": [
       "5"
      ]
     },
     "execution_count": 1,
     "metadata": {},
     "output_type": "execute_result"
    }
   ],
   "source": [
    "# 695. Max Area of Island\n",
    "# Medium\n",
    "# You are given an m x n binary matrix grid. An island is a group of 1's (representing land) connected 4-directionally (horizontal or vertical.) You may assume all four edges of the grid are surrounded by water.\n",
    "# The area of an island is the number of cells with a value 1 in the island.\n",
    "# Return the maximum area of an island in grid. If there is no island, return 0.\n",
    "\n",
    "from typing import List\n",
    "\n",
    "class Solution:\n",
    "    def maxAreaOfIsland(self, grid: List[List[int]]) -> int:\n",
    "        def visit(grid, i, j, init_val):\n",
    "            sum = 0\n",
    "            if grid[i][j] == 1:\n",
    "                grid[i][j] = 0\n",
    "                sum += 1\n",
    "                if i+1 < len(grid):\n",
    "                    sum+=visit(grid, i+1, j, init_val+1)\n",
    "                if i-1 >= 0:\n",
    "                    sum+=visit(grid, i-1, j, init_val+1)\n",
    "                if j+1 < len(grid[i]):\n",
    "                    sum+=visit(grid, i, j+1, init_val+1)\n",
    "                if j-1 >= 0:\n",
    "                    sum+=visit(grid, i, j-1, init_val+1)\n",
    "\n",
    "            return sum\n",
    "            \n",
    "        max_size = 0\n",
    "        for i in range(len(grid)):\n",
    "            for j in range(len(grid[i])):\n",
    "                if grid[i][j] == 1:\n",
    "                    size = visit(grid, i, j, 1)\n",
    "                    if max_size < size:\n",
    "                        max_size = size\n",
    "\n",
    "        return max_size\n",
    "    \n",
    "\n",
    "grid = [[0,0,1,0,0,0,0,1,0,0,0,0,0],\n",
    "        [0,0,0,0,0,0,0,1,1,1,0,0,0],\n",
    "        [0,1,1,0,1,0,0,0,0,0,0,0,0],\n",
    "        [0,1,0,0,1,1,0,0,1,0,1,0,0],\n",
    "        [0,1,0,0,1,1,0,0,1,1,1,0,0],\n",
    "        [0,0,0,0,0,0,0,0,0,0,0,0,0],\n",
    "        [0,0,0,0,0,0,0,1,1,1,0,0,0],\n",
    "        [0,0,0,0,0,0,0,1,1,0,0,0,0]]\n",
    "\n",
    "Solution().maxAreaOfIsland(grid)"
   ]
  },
  {
   "cell_type": "code",
   "execution_count": 3,
   "metadata": {},
   "outputs": [
    {
     "data": {
      "text/plain": [
       "[0, 1, 9, 16, 100]"
      ]
     },
     "execution_count": 3,
     "metadata": {},
     "output_type": "execute_result"
    }
   ],
   "source": [
    "from typing import List\n",
    "\n",
    "class Solution:\n",
    "    def sortedSquares(self, nums: List[int]) -> List[int]:\n",
    "        r = len(nums) - 1\n",
    "        l = 0\n",
    "        w = len(nums)-1\n",
    "\n",
    "        ans = [0]*len(nums)\n",
    "        while l<=r:\n",
    "            lsq = nums[l]**2\n",
    "            rsq = nums[r]**2\n",
    "            if lsq >= rsq:\n",
    "                ans[w] = lsq\n",
    "                l += 1\n",
    "                w -= 1\n",
    "            else:\n",
    "                ans[w] = rsq\n",
    "                r -= 1\n",
    "                w-=1\n",
    "        return ans\n",
    "\n",
    "nums = [-4,-1,0,3,10]\n",
    "Solution().sortedSquares(nums)"
   ]
  },
  {
   "cell_type": "code",
   "execution_count": 8,
   "metadata": {},
   "outputs": [
    {
     "data": {
      "text/plain": [
       "[[1, 6], [8, 10], [15, 18]]"
      ]
     },
     "execution_count": 8,
     "metadata": {},
     "output_type": "execute_result"
    }
   ],
   "source": [
    "# 56. Merge Intervals\n",
    "# Medium\n",
    "# Given an array of intervals where intervals[i] = [starti, endi], merge all overlapping intervals, and return an array of the non-overlapping intervals that cover all the intervals in the input.\n",
    "\n",
    "from typing import List\n",
    "\n",
    "class Solution:\n",
    "    def merge(self, intervals: List[List[int]]) -> List[List[int]]:\n",
    "        def overlap(interval1, interval2):\n",
    "            return interval2[0] <= interval1[1]\n",
    "    \n",
    "        def merge(interval1, interval2):\n",
    "            return [interval1[0], max(interval1[1], interval2[1])]\n",
    "\n",
    "        if len(intervals) <= 1:\n",
    "            return intervals\n",
    "\n",
    "        intervals = sorted(intervals, key = lambda x: x[0])\n",
    "\n",
    "        pointer = 0\n",
    "        ans = [intervals[0]]\n",
    "        for i in range(1,len(intervals)):\n",
    "            if overlap(ans[pointer], intervals[i]):\n",
    "                ans[pointer] = merge(ans[pointer], intervals[i])\n",
    "            else:\n",
    "                pointer += 1\n",
    "                ans.append(intervals[i])\n",
    "        \n",
    "        return ans\n",
    "\n",
    "\n",
    "intervals = [[1,3],[2,6],[8,10],[15,18]]\n",
    "Solution().merge(intervals)"
   ]
  },
  {
   "cell_type": "code",
   "execution_count": 19,
   "metadata": {},
   "outputs": [
    {
     "name": "stdout",
     "output_type": "stream",
     "text": [
      "0 1\n",
      "1\n",
      "0\n"
     ]
    },
    {
     "data": {
      "text/plain": [
       "[[1, 9], [6, 9], [1, 3]]"
      ]
     },
     "execution_count": 19,
     "metadata": {},
     "output_type": "execute_result"
    }
   ],
   "source": [
    "# 57. Insert Interval\n",
    "# Medium\n",
    "# You are given an array of non-overlapping intervals intervals where intervals[i] = [starti, endi] represent the start and the end of the ith interval and intervals is sorted in ascending order by starti. You are also given an interval newInterval = [start, end] that represents the start and end of another interval.\n",
    "# Insert newInterval into intervals such that intervals is still sorted in ascending order by starti and intervals still does not have any overlapping intervals (merge overlapping intervals if necessary).\n",
    "# Return intervals after the insertion.\n",
    "# Note that you don't need to modify intervals in-place. You can make a new array and return it.\n",
    "\n",
    "class Solution:\n",
    "    def insert(self, intervals: List[List[int]], newInterval: List[int]) -> List[List[int]]:\n",
    "        def overlap(int1, int2): # assume intervals sorted\n",
    "            return not((int2[0] < int1[0] and int2[1] < int2[1]) or (int2[0] > int1[0] and int2[1] > int2[1]))\n",
    "\n",
    "        ans = []\n",
    "\n",
    "        i = 0\n",
    "        while not overlap(intervals[i], newInterval) and intervals[i][0] < newInterval[0]:\n",
    "            i += 1\n",
    "\n",
    "        j = len(intervals) - 1\n",
    "        while not overlap(intervals[j], newInterval) and intervals[j][0] > newInterval[0]:\n",
    "            j -= 1\n",
    "\n",
    "        print(i,j)\n",
    "        k = 0\n",
    "        while k < i:\n",
    "            ans.append(intervals[k])\n",
    "            k += 1\n",
    "\n",
    "        if i == j:\n",
    "            ans.append(intervals[i])\n",
    "        else:\n",
    "            ans.append( [min(newInterval[0], intervals[i][0]), max(newInterval[1], intervals[j][1])] )\n",
    "\n",
    "        k = i + 1\n",
    "        while k < len(intervals) and k >= 0:\n",
    "            print(k)\n",
    "            ans.append(intervals[k])\n",
    "            k -= 1\n",
    "\n",
    "        return ans\n",
    "\n",
    "\n",
    "intervals = [[1,3],[6,9]]\n",
    "newInterval = [2,5]\n",
    "\n",
    "Solution().insert(intervals, newInterval)\n"
   ]
  },
  {
   "cell_type": "code",
   "execution_count": 43,
   "metadata": {},
   "outputs": [
    {
     "data": {
      "text/plain": [
       "True"
      ]
     },
     "execution_count": 43,
     "metadata": {},
     "output_type": "execute_result"
    }
   ],
   "source": [
    "# 79. Word Search\n",
    "# Medium\n",
    "# Given an m x n grid of characters board and a string word, return true if word exists in the grid.\n",
    "# The word can be constructed from letters of sequentially adjacent cells, where adjacent cells are horizontally or vertically neighboring. The same letter cell may not be used more than once.\n",
    "# Runtime: 889ms, Beats 90.22% of users with Python3\n",
    "# Memory: 16.71MB, Beats 7.17% of users with Python3\n",
    "\n",
    "from typing import List\n",
    "\n",
    "class Solution:\n",
    "    def exist(self, board: List[List[str]], word: str) -> bool:\n",
    "        def visit(word, board, i, j, letter_num, string, visited):\n",
    "            if word[letter_num] == board[i][j]:\n",
    "                res = string + word[letter_num]\n",
    "                if res == word:\n",
    "                    return True\n",
    "                if i-1 >= 0 and [i-1, j] not in visited:\n",
    "                    visited.append([i-1, j])\n",
    "                    if visit(word, board, i-1, j, letter_num+1, res, visited):\n",
    "                        return True\n",
    "                    else:\n",
    "                        visited.pop()\n",
    "                if j-1 >= 0 and [i, j-1] not in visited:\n",
    "                    visited.append([i, j-1])\n",
    "                    if visit(word, board, i, j-1, letter_num+1, res, visited):\n",
    "                        return True\n",
    "                    else:\n",
    "                        visited.pop()\n",
    "                if i+1 < len(board) and [i+1, j] not in visited:\n",
    "                    visited.append([i+1, j])\n",
    "                    if visit(word, board, i+1, j, letter_num+1, res, visited):\n",
    "                        return True\n",
    "                    else:\n",
    "                        visited.pop()\n",
    "                if j+1 < len(board[i]) and [i, j+1] not in visited:\n",
    "                    visited.append([i, j+1])\n",
    "                    if visit(word, board, i, j+1, letter_num+1, res, visited):\n",
    "                        return True\n",
    "                    else:\n",
    "                        visited.pop()\n",
    "            return False\n",
    "        \n",
    "        # Check if the board contains all letters in word\n",
    "        letters = {}\n",
    "        for i in range(len(board)):\n",
    "            for j in range(len(board[i])):\n",
    "                if board[i][j] not in letters:\n",
    "                    letters[board[i][j]] = 1\n",
    "                else:\n",
    "                    letters[board[i][j]] += 1\n",
    "        \n",
    "        letters_word = {char: word.count(char) for char in word}\n",
    "\n",
    "        for char in letters_word:\n",
    "            if char not in letters:\n",
    "                return False\n",
    "            else:\n",
    "                if letters[char] < letters_word[char]:\n",
    "                    return False      \n",
    "\n",
    "        # Perform DFS for each board field that is the first letter of the word\n",
    "        for i in range(len(board)):\n",
    "            for j in range(len(board[i])):\n",
    "                if visit(word, board, i, j, 0, \"\", [[i,j]]):\n",
    "                    return True\n",
    "        return False\n",
    "                    \n",
    "                    \n",
    "board =[[\"C\",\"A\",\"A\"],[\"A\",\"A\",\"A\"],[\"B\",\"C\",\"D\"]]\n",
    "word =\"AAB\"\n",
    "\n",
    "\n",
    "Solution().exist(board, word)"
   ]
  },
  {
   "cell_type": "code",
   "execution_count": 39,
   "metadata": {},
   "outputs": [
    {
     "name": "stdout",
     "output_type": "stream",
     "text": [
      "[1, 1, 1]\n",
      "[1]\n"
     ]
    }
   ],
   "source": [
    "# 83. Remove Duplicates from Sorted List\n",
    "# Easy\n",
    "# Given the head of a sorted linked list, delete all duplicates such that each element appears only once. Return the linked list sorted as well.\n",
    "\n",
    "from typing import Optional\n",
    "\n",
    "class ListNode:\n",
    "    def __init__(self, val=0, next=None):\n",
    "        self.val = val\n",
    "        self.next = next\n",
    "\n",
    "def print_list(head):\n",
    "    i = head\n",
    "    arr = []\n",
    "    while i:\n",
    "        arr.append(i.val)\n",
    "        i = i.next\n",
    "    print(arr)\n",
    "\n",
    "class Solution:\n",
    "    def deleteDuplicates(self, head: Optional[ListNode]) -> Optional[ListNode]:\n",
    "        if (not head) or (not head.next):\n",
    "            return head\n",
    "        \n",
    "        i = head\n",
    "        j = head.next\n",
    "\n",
    "        while i and i.next:\n",
    "            while j and (j.val == i.val):\n",
    "                j = j.next\n",
    "            i.next = j\n",
    "\n",
    "            i = j\n",
    "            if j: \n",
    "                j = j.next\n",
    "\n",
    "    def deleteDuplicates2(self, head: Optional[ListNode]) -> Optional[ListNode]:\n",
    "        cur = head\n",
    "        while cur:\n",
    "            while cur.next and cur.next.val == cur.val:\n",
    "                cur.next = cur.next.next\n",
    "            cur = cur.next\n",
    "\n",
    "        \n",
    "head = ListNode(1, ListNode(1, ListNode(1)))\n",
    "print_list(head)\n",
    "\n",
    "Solution().deleteDuplicates2(head)\n",
    "print_list(head)\n"
   ]
  },
  {
   "cell_type": "code",
   "execution_count": 42,
   "metadata": {},
   "outputs": [
    {
     "data": {
      "text/plain": [
       "[-3]"
      ]
     },
     "execution_count": 42,
     "metadata": {},
     "output_type": "execute_result"
    }
   ],
   "source": [
    "# 108. Convert Sorted Array to Binary Search Tree\n",
    "# Solved\n",
    "# Easy\n",
    "# Given an integer array nums where the elements are sorted in ascending order, convert it to a\n",
    "# height-balanced binary search tree.\n",
    "\n",
    "# Definition for a binary tree node.\n",
    "# class TreeNode:\n",
    "#     def __init__(self, val=0, left=None, right=None):\n",
    "#         self.val = val\n",
    "#         self.left = left\n",
    "#         self.right = right\n",
    "\n",
    "class Solution:\n",
    "    def sortedArrayToBST(self, nums: List[int]) -> Optional[TreeNode]:\n",
    "        if len(nums) == 1:\n",
    "            return TreeNode(nums[0])\n",
    "\n",
    "        N = len(nums)//2\n",
    "        \n",
    "        root = TreeNode(nums[N])\n",
    "        root.left = self.sortedArrayToBST(nums[:N])\n",
    "        root.right = None if N == len(nums)-1 else self.sortedArrayToBST(nums[N+1:])\n",
    "\n",
    "        return root"
   ]
  },
  {
   "cell_type": "code",
   "execution_count": 14,
   "metadata": {},
   "outputs": [
    {
     "data": {
      "text/plain": [
       "True"
      ]
     },
     "execution_count": 14,
     "metadata": {},
     "output_type": "execute_result"
    }
   ],
   "source": [
    "# 110. Balanced Binary Tree\n",
    "# Easy\n",
    "# Given a binary tree, determine if it is height-balanced.\n",
    "\n",
    "from typing import Optional\n",
    "\n",
    "class TreeNode:\n",
    "    def __init__(self, val=0, left=None, right=None):\n",
    "        self.val = val\n",
    "        self.left = left\n",
    "        self.right = right\n",
    "\n",
    "class Solution:\n",
    "    def isBalanced(self, root: Optional[TreeNode]) -> bool:\n",
    "        def sym(root):\n",
    "            if root is None:\n",
    "                return 0\n",
    "\n",
    "            left = sym(root.left)\n",
    "            right = sym(root.right)\n",
    "\n",
    "            if left == -1 or right == -1 or abs(right - left) >= 2:\n",
    "                return -1\n",
    "            else:\n",
    "                return max(left, right) + 1\n",
    "        \n",
    "        return sym(root) != -1\n",
    "\n",
    "\n",
    "root = TreeNode(1, left = TreeNode(1), right = TreeNode(1, right=TreeNode(1, right=TreeNode(1))))\n",
    "# root = TreeNode(1)\n",
    "\n",
    "Solution().isBalanced(root)"
   ]
  },
  {
   "cell_type": "code",
   "execution_count": 27,
   "metadata": {},
   "outputs": [
    {
     "data": {
      "text/plain": [
       "4"
      ]
     },
     "execution_count": 27,
     "metadata": {},
     "output_type": "execute_result"
    }
   ],
   "source": [
    "# 111. Minimum Depth of Binary Tree\n",
    "# Easy\n",
    "# Given a binary tree, find its minimum depth.\n",
    "# The minimum depth is the number of nodes along the shortest path from the root node down to the nearest leaf node.\n",
    "# Note: A leaf is a node with no children.\n",
    "\n",
    "# Definition for a binary tree node.\n",
    "class TreeNode:\n",
    "    def __init__(self, val=0, left=None, right=None):\n",
    "        self.val = val\n",
    "        self.left = left\n",
    "        self.right = right\n",
    "\n",
    "class Solution:\n",
    "    def minDepth(self, root: Optional[TreeNode]) -> int:\n",
    "        if not root:\n",
    "            return 0\n",
    "        if root.left and root.right:\n",
    "            return min(self.minDepth(root.left), self.minDepth(root.right)) + 1\n",
    "        if root.left and not root.right:\n",
    "            return self.minDepth(root.left) + 1\n",
    "        if root.right and not root.left:\n",
    "            return self.minDepth(root.right) + 1\n",
    "        if not root.left and not root.right:\n",
    "            return 1\n",
    "        \n",
    "root = TreeNode(1, right=TreeNode(1, right=TreeNode(1, right=TreeNode(1))))\n",
    "Solution().minDepth(root)"
   ]
  },
  {
   "cell_type": "code",
   "execution_count": 58,
   "metadata": {},
   "outputs": [
    {
     "data": {
      "text/plain": [
       "[1, [1, 1], [1, 2, 1], [1, 3, 3, 1], [1, 4, 6, 4, 1]]"
      ]
     },
     "execution_count": 58,
     "metadata": {},
     "output_type": "execute_result"
    }
   ],
   "source": [
    "# 118. Pascal's Triangle\n",
    "# Easy\n",
    "# Given an integer numRows, return the first numRows of Pascal's triangle.\n",
    "# In Pascal's triangle, each number is the sum of the two numbers directly above it as shown:\n",
    "\n",
    "from typing import List \n",
    "\n",
    "class Solution:\n",
    "    def generate(self, numRows: int) -> List[List[int]]:\n",
    "        if numRows == 1:\n",
    "            return [[1]]\n",
    "        \n",
    "        triangle = [[1]]\n",
    "\n",
    "        i = 1\n",
    "        row = []\n",
    "        while i < numRows:\n",
    "            row.append(1)\n",
    "            for k in range(1, i):\n",
    "                row.append(triangle[i-1][k] + triangle[i-1][k-1])\n",
    "            row.append(1)\n",
    "            triangle.append(row)\n",
    "            row = []\n",
    "            i += 1\n",
    "        return triangle\n",
    "    \n",
    "Solution().generate(5)\n"
   ]
  },
  {
   "cell_type": "code",
   "execution_count": 68,
   "metadata": {},
   "outputs": [
    {
     "data": {
      "text/plain": [
       "[1, 2, 3, 4, 5]"
      ]
     },
     "execution_count": 68,
     "metadata": {},
     "output_type": "execute_result"
    }
   ],
   "source": [
    "# 144. Binary Tree Preorder Traversal\n",
    "# Easy\n",
    "# Given the root of a binary tree, return the preorder traversal of its nodes' values.\n",
    "\n",
    "# Definition for a binary tree node.\n",
    "class TreeNode:\n",
    "    def __init__(self, val=0, left=None, right=None):\n",
    "        self.val = val\n",
    "        self.left = left\n",
    "        self.right = right\n",
    "\n",
    "class Solution:\n",
    "    def preorderTraversal(self, root: Optional[TreeNode]) -> List[int]:\n",
    "        output = []\n",
    "        if root:\n",
    "            output.append(root.val)\n",
    "            output += self.preorderTraversal(root.left)\n",
    "            output += self.preorderTraversal(root.right)\n",
    "\n",
    "        return output\n",
    "        \n",
    "root = TreeNode(1, left=TreeNode(2), right=TreeNode(3, left=TreeNode(4), right=TreeNode(5)))\n",
    "# root = TreeNode()\n",
    "Solution().preorderTraversal(root)"
   ]
  },
  {
   "cell_type": "code",
   "execution_count": 84,
   "metadata": {},
   "outputs": [],
   "source": [
    "# 225. Implement Stack using Queues\n",
    "# Easy\n",
    "# Implement a last-in-first-out (LIFO) stack using only two queues. The implemented stack should support all the functions of a normal stack (push, top, pop, and empty).\n",
    "# Implement the MyStack class:\n",
    "#     void push(int x) Pushes element x to the top of the stack.\n",
    "#     int pop() Removes the element on the top of the stack and returns it.\n",
    "#     int top() Returns the element on the top of the stack.\n",
    "#     boolean empty() Returns true if the stack is empty, false otherwise.\n",
    "# Notes:\n",
    "#     You must use only standard operations of a queue, which means that only push to back, peek/pop from front, size and is empty operations are valid.\n",
    "#     Depending on your language, the queue may not be supported natively. You may simulate a queue using a list or deque (double-ended queue) as long as you use only a queue's standard operations.\n",
    "\n",
    "class MyStack:\n",
    "\n",
    "    def __init__(self):\n",
    "        self.stack = []\n",
    "\n",
    "    def push(self, x: int) -> None:\n",
    "        self.stack.append(x)\n",
    "\n",
    "    def pop(self) -> int:\n",
    "        return self.stack.pop() if not self.empty() else None\n",
    "\n",
    "    def top(self) -> int:\n",
    "        return self.stack[-1] if not self.empty() else None\n",
    "\n",
    "    def empty(self) -> bool:\n",
    "        return len(self.stack) == 0\n",
    "\n",
    "\n",
    "# Your MyStack object will be instantiated and called as such:\n",
    "obj = MyStack()\n",
    "x=1\n",
    "obj.push(x)\n",
    "param_2 = obj.pop()\n",
    "param_3 = obj.top()\n",
    "param_4 = obj.empty()"
   ]
  },
  {
   "cell_type": "code",
   "execution_count": 6,
   "metadata": {},
   "outputs": [
    {
     "data": {
      "text/plain": [
       "['0', '2->4', '6', '8->9']"
      ]
     },
     "execution_count": 6,
     "metadata": {},
     "output_type": "execute_result"
    }
   ],
   "source": [
    "# 228. Summary Ranges\n",
    "# Easy\n",
    "# You are given a sorted unique integer array nums.\n",
    "# A range [a,b] is the set of all integers from a to b (inclusive).\n",
    "# Return the smallest sorted list of ranges that cover all the numbers in the array exactly. That is, each element of nums is covered by exactly one of the ranges, and there is no integer x such that x is in one of the ranges but not in nums.\n",
    "# Each range [a,b] in the list should be output as:\n",
    "#     \"a->b\" if a != b\n",
    "#     \"a\" if a == b\n",
    "\n",
    "from typing import List\n",
    "\n",
    "class Solution:    \n",
    "    def summaryRanges(self, nums: List[int]) -> List[str]:\n",
    "        if not nums:\n",
    "            return nums\n",
    "\n",
    "        ans = []\n",
    "\n",
    "        prev = 0\n",
    "        cur = 1\n",
    "\n",
    "        interval = f\"{nums[prev]}\"\n",
    "        intlen = 0\n",
    "        while cur < len(nums):\n",
    "            if nums[prev] + 1 == nums[cur]:\n",
    "                intlen += 1\n",
    "            else:\n",
    "                ans.append(interval + f\"->{nums[prev]}\") if intlen > 0 else ans.append(interval)\n",
    "                interval = f\"{nums[cur]}\"\n",
    "                intlen = 0\n",
    "            prev = cur\n",
    "            cur += 1\n",
    "\n",
    "        ans.append(interval + f\"->{nums[prev]}\") if intlen > 0 else ans.append(interval)\n",
    "\n",
    "        return ans\n",
    "\n",
    "nums = [0,2,3,4,6,8,9]\n",
    "Solution().summaryRanges(nums)\n",
    "\n"
   ]
  },
  {
   "cell_type": "code",
   "execution_count": 10,
   "metadata": {},
   "outputs": [
    {
     "data": {
      "text/plain": [
       "True"
      ]
     },
     "execution_count": 10,
     "metadata": {},
     "output_type": "execute_result"
    }
   ],
   "source": [
    "# 231. Power of Two\n",
    "# Easy\n",
    "# Given an integer n, return true if it is a power of two. Otherwise, return false.\n",
    "# An integer n is a power of two, if there exists an integer x such that n == 2x.\n",
    "\n",
    "class Solution:\n",
    "    def isPowerOfTwo(self, n: int) -> bool:\n",
    "        return n > 0 and bin(n).count('1') == 1\n",
    "    \n",
    "n = 1024\n",
    "Solution().isPowerOfTwo(n)"
   ]
  },
  {
   "cell_type": "code",
   "execution_count": 11,
   "metadata": {},
   "outputs": [],
   "source": [
    "# 232. Implement Queue using Stacks\n",
    "# Easy\n",
    "# Implement a first in first out (FIFO) queue using only two stacks. The implemented queue should support all the functions of a normal queue (push, peek, pop, and empty).\n",
    "# Implement the MyQueue class:\n",
    "#     void push(int x) Pushes element x to the back of the queue.\n",
    "#     int pop() Removes the element from the front of the queue and returns it.\n",
    "#     int peek() Returns the element at the front of the queue.\n",
    "#     boolean empty() Returns true if the queue is empty, false otherwise.\n",
    "# Notes:\n",
    "#     You must use only standard operations of a stack, which means only push to top, peek/pop from top, size, and is empty operations are valid.\n",
    "#     Depending on your language, the stack may not be supported natively. You may simulate a stack using a list or deque (double-ended queue) as long as you use only a stack's standard operations.\n",
    "\n",
    "class MyQueue:\n",
    "\n",
    "    def __init__(self):\n",
    "        self.q = []\n",
    "\n",
    "    def push(self, x: int) -> None:\n",
    "        self.q.append(x)\n",
    "\n",
    "    def pop(self) -> int:\n",
    "        return self.q.pop(0) if not self.empty() else None\n",
    "\n",
    "    def peek(self) -> int:\n",
    "        return self.q[0] if not self.empty() else None\n",
    "\n",
    "    def empty(self) -> bool:\n",
    "        return len(self.q) == 0\n",
    "\n",
    "\n",
    "# Your MyQueue object will be instantiated and called as such:\n",
    "obj = MyQueue()\n",
    "x = 2\n",
    "obj.push(x)\n",
    "param_2 = obj.pop()\n",
    "param_3 = obj.peek()\n",
    "param_4 = obj.empty()"
   ]
  },
  {
   "cell_type": "code",
   "execution_count": 22,
   "metadata": {},
   "outputs": [
    {
     "data": {
      "text/plain": [
       "2"
      ]
     },
     "execution_count": 22,
     "metadata": {},
     "output_type": "execute_result"
    }
   ],
   "source": [
    "# 258. Add Digits\n",
    "# Easy\n",
    "# Given an integer num, repeatedly add all its digits until the result has only one digit, and return it.\n",
    "\n",
    "class Solution:\n",
    "    def addDigits(self, num: int) -> int:\n",
    "        sum = 0\n",
    "        while True:\n",
    "            while num:\n",
    "                digit = num % 10\n",
    "                num //= 10\n",
    "                sum += digit\n",
    "            if sum >= 0 and sum <= 9:\n",
    "                break\n",
    "            num = sum\n",
    "            sum = 0\n",
    "\n",
    "        return sum\n",
    "    \n",
    "Solution().addDigits(38)"
   ]
  },
  {
   "cell_type": "code",
   "execution_count": 24,
   "metadata": {},
   "outputs": [
    {
     "data": {
      "text/plain": [
       "8"
      ]
     },
     "execution_count": 24,
     "metadata": {},
     "output_type": "execute_result"
    }
   ],
   "source": [
    "# 268. Missing Number\n",
    "# Easy\n",
    "# Given an array nums containing n distinct numbers in the range [0, n], return the only number in the range that is missing from the array.\n",
    "# Follow up: Could you implement a solution using only O(1) extra space complexity and O(n) runtime complexity?\n",
    "\n",
    "class Solution:\n",
    "    def missingNumber(self, nums: List[int]) -> int:\n",
    "        if len(nums) == 1:\n",
    "            return 1 if nums[0] != 1 else 0\n",
    "\n",
    "        nums.sort()\n",
    "        \n",
    "        # If nums doesn't start with 0 after sorting, return 0\n",
    "        if nums[0] != 0:\n",
    "            return 0\n",
    "        \n",
    "        # Else, find the first position where previous and current element differ by more than 1, the middle element is the solution\n",
    "        prev = 0\n",
    "        cur = 1\n",
    "        \n",
    "        # Elements can only differ by 1 or 2 due to length and structure of the array\n",
    "        while cur < len(nums) and nums[cur] - nums[prev] == 1:\n",
    "            prev = cur\n",
    "            cur += 1\n",
    "\n",
    "        return nums[cur] - 1 if cur < len(nums) else len(nums)\n",
    "\n",
    "nums = [9,6,4,2,3,5,7,0,1]\n",
    "Solution().missingNumber(nums)"
   ]
  },
  {
   "cell_type": "code",
   "execution_count": 26,
   "metadata": {},
   "outputs": [
    {
     "data": {
      "text/plain": [
       "[0, 1, 1, 2]"
      ]
     },
     "execution_count": 26,
     "metadata": {},
     "output_type": "execute_result"
    }
   ],
   "source": [
    "# 338. Counting Bits\n",
    "# Easy\n",
    "# Given an integer n, return an array ans of length n + 1 such that for each i (0 <= i <= n), ans[i] is the number of 1's in the binary representation of i.\n",
    "\n",
    "class Solution:\n",
    "    def countBits(self, n: int) -> List[int]:\n",
    "        return [bin(i).count('1') for i in range(n+1)]\n",
    "    \n",
    "n = 3\n",
    "Solution().countBits(n)"
   ]
  },
  {
   "cell_type": "code",
   "execution_count": 38,
   "metadata": {},
   "outputs": [
    {
     "data": {
      "text/plain": [
       "False"
      ]
     },
     "execution_count": 38,
     "metadata": {},
     "output_type": "execute_result"
    }
   ],
   "source": [
    "# 326. Power of Three\n",
    "# Easy\n",
    "# Given an integer n, return true if it is a power of three. Otherwise, return false.\n",
    "# An integer n is a power of three, if there exists an integer x such that n == 3x.\n",
    "\n",
    "class Solution:\n",
    "    def isPowerOfThree(self, n: int) -> bool:\n",
    "        if n == 1:\n",
    "            return True\n",
    "            \n",
    "        rem = -1\n",
    "        while n > 1:\n",
    "            rem = n % 3\n",
    "            if rem == 1 or rem == 2:\n",
    "                break\n",
    "            n //= 3\n",
    "\n",
    "        return rem == 0\n",
    "    \n",
    "Solution().isPowerOfThree(45)"
   ]
  },
  {
   "cell_type": "code",
   "execution_count": 42,
   "metadata": {},
   "outputs": [
    {
     "name": "stdout",
     "output_type": "stream",
     "text": [
      "['a', 'j', 'i', 'r', 'a', 'm', 'a', 'n', 'a']\n"
     ]
    }
   ],
   "source": [
    "# 344. Reverse String\n",
    "# Easy\n",
    "# Write a function that reverses a string. The input string is given as an array of characters s.\n",
    "# You must do this by modifying the input array in-place with O(1) extra memory.\n",
    "\n",
    "class Solution:\n",
    "    def reverseString(self, s: List[str]) -> None:\n",
    "        \"\"\"\n",
    "        Do not return anything, modify s in-place instead.\n",
    "        \"\"\"\n",
    "        left = 0\n",
    "        right = len(s)-1\n",
    "\n",
    "        while left < right:\n",
    "            s[left], s[right] = s[right], s[left]\n",
    "            left += 1\n",
    "            right -= 1\n",
    "\n",
    "s = list(\"anamarija\")\n",
    "Solution().reverseString(s)\n",
    "print(s)"
   ]
  },
  {
   "cell_type": "code",
   "execution_count": null,
   "metadata": {},
   "outputs": [],
   "source": [
    "# 374. Guess Number Higher or Lower\n",
    "# Easy\n",
    "# We are playing the Guess Game. The game is as follows:\n",
    "# I pick a number from 1 to n. You have to guess which number I picked.\n",
    "# Every time you guess wrong, I will tell you whether the number I picked is higher or lower than your guess.\n",
    "# You call a pre-defined API int guess(int num), which returns three possible results:\n",
    "#     -1: Your guess is higher than the number I picked (i.e. num > pick).\n",
    "#     1: Your guess is lower than the number I picked (i.e. num < pick).\n",
    "#     0: your guess is equal to the number I picked (i.e. num == pick).\n",
    "# Return the number that I picked.\n",
    "\n",
    "# The guess API is already defined for you.\n",
    "# @param num, your guess\n",
    "# @return -1 if num is higher than the picked number\n",
    "#          1 if num is lower than the picked number\n",
    "#          otherwise return 0\n",
    "# def guess(num: int) -> int:\n",
    "\n",
    "class Solution:\n",
    "    def guessNumber(self, n: int) -> int:\n",
    "        left = 1\n",
    "        right = n\n",
    "        middle = (left+right)//2\n",
    "\n",
    "        while left <= right:\n",
    "            middle = (left+right)//2\n",
    "            my_guess = guess(middle)\n",
    "            if my_guess == 1:\n",
    "                left = middle + 1\n",
    "            elif my_guess == -1:\n",
    "                right = middle - 1\n",
    "            else:\n",
    "                return middle\n",
    "\n",
    "        return middle\n",
    "        "
   ]
  },
  {
   "cell_type": "code",
   "execution_count": 46,
   "metadata": {},
   "outputs": [
    {
     "data": {
      "text/plain": [
       "'e'"
      ]
     },
     "execution_count": 46,
     "metadata": {},
     "output_type": "execute_result"
    }
   ],
   "source": [
    "# 389. Find the Difference\n",
    "# Easy\n",
    "# You are given two strings s and t.\n",
    "# String t is generated by random shuffling string s and then add one more letter at a random position.\n",
    "# Return the letter that was added to t.\n",
    "\n",
    "class Solution:\n",
    "    # def findTheDifference(self, s: str, t: str) -> str:\n",
    "    #     letters_s = {char: s.count(char) for char in s}\n",
    "    #     letters_t = {char: t.count(char) for char in t}\n",
    "\n",
    "    #     for k in letters_t:\n",
    "    #         if k not in letters_s or letters_t[k] != letters_s[k]:\n",
    "    #             return k\n",
    "            \n",
    "    def findTheDifference(self, s: str, t: str) -> str:\n",
    "        \"\"\"\n",
    "        If a char appears in both s and t, the xor of one will negate the other.\n",
    "        This means that the remaining char will be the one that had no pair in the other string.\n",
    "        \"\"\"\n",
    "        c = 0\n",
    "\n",
    "        for char in s: c^=ord(char)\n",
    "        for char in t: c^=ord(char)\n",
    "\n",
    "        return chr(c)\n",
    "    \n",
    "s = \"abcd\"\n",
    "t = \"abcde\"\n",
    "\n",
    "Solution().findTheDifference(s,t)"
   ]
  },
  {
   "cell_type": "code",
   "execution_count": 48,
   "metadata": {},
   "outputs": [
    {
     "data": {
      "text/plain": [
       "24"
      ]
     },
     "execution_count": 48,
     "metadata": {},
     "output_type": "execute_result"
    }
   ],
   "source": [
    "# 404. Sum of Left Leaves\n",
    "# Easy\n",
    "# Given the root of a binary tree, return the sum of all left leaves.\n",
    "# A leaf is a node with no children. A left leaf is a leaf that is the left child of another node.\n",
    "\n",
    "from typing import Optional \n",
    "\n",
    "class TreeNode:\n",
    "    def __init__(self, val=0, left=None, right=None):\n",
    "        self.val = val\n",
    "        self.left = left\n",
    "        self.right = right\n",
    "\n",
    "class Solution:\n",
    "    def sumOfLeftLeaves(self, root: Optional[TreeNode]) -> int:\n",
    "        def visit_left_leaf(root, left):\n",
    "            if not root:\n",
    "                return 0\n",
    "                \n",
    "            sum = 0\n",
    "            if left and not root.left and not root.right:\n",
    "                sum += root.val\n",
    "            else:\n",
    "                sum += visit_left_leaf(root.right, False)\n",
    "                sum += visit_left_leaf(root.left, True)\n",
    "            return sum \n",
    "        \n",
    "        return visit_left_leaf(root, False)\n",
    "\n",
    "\n",
    "root = TreeNode(3, TreeNode(9), TreeNode(20, TreeNode(15), TreeNode(7)))\n",
    "Solution().sumOfLeftLeaves(root)    "
   ]
  },
  {
   "cell_type": "code",
   "execution_count": 53,
   "metadata": {},
   "outputs": [
    {
     "data": {
      "text/plain": [
       "['1', '2', 'Fizz', '4', 'Buzz']"
      ]
     },
     "execution_count": 53,
     "metadata": {},
     "output_type": "execute_result"
    }
   ],
   "source": [
    "# 412. Fizz Buzz\n",
    "# Easy\n",
    "# Given an integer n, return a string array answer (1-indexed) where:\n",
    "#     answer[i] == \"FizzBuzz\" if i is divisible by 3 and 5.\n",
    "#     answer[i] == \"Fizz\" if i is divisible by 3.\n",
    "#     answer[i] == \"Buzz\" if i is divisible by 5.\n",
    "#     answer[i] == i (as a string) if none of the above conditions are true.\n",
    "\n",
    "class Solution:\n",
    "    def fizzBuzz(self, n: int) -> List[str]:\n",
    "        def transform(i):\n",
    "            if i%3 == 0 and i%5 == 0:\n",
    "                return 'FizzBuzz'\n",
    "            elif i%3 == 0:\n",
    "                return \"Fizz\"\n",
    "            elif i%5 == 0:\n",
    "                return \"Buzz\"\n",
    "            else:\n",
    "                return str(i)\n",
    "\n",
    "        return [transform(i) for i in range(1,n+1)]\n",
    "\n",
    "n = 5\n",
    "Solution().fizzBuzz(n)"
   ]
  },
  {
   "cell_type": "code",
   "execution_count": 56,
   "metadata": {},
   "outputs": [],
   "source": [
    "# 414. Third Maximum Number\n",
    "# Easy\n",
    "# Given an integer array nums, return the third distinct maximum number in this array. If the third maximum does not exist, return the maximum number.\n",
    "\n",
    "class Solution:\n",
    "    def thirdMax(self, nums: List[int]) -> int:\n",
    "        nums = list(set(nums))\n",
    "        nums.sort(reverse=True)\n",
    "\n",
    "        return nums[0] if len(nums) < 3 else nums[2]\n",
    "    \n",
    "nums = [2,2,3,1]\n",
    "Solution().thirdMax(nums)"
   ]
  },
  {
   "cell_type": "code",
   "execution_count": 61,
   "metadata": {},
   "outputs": [
    {
     "data": {
      "text/plain": [
       "2"
      ]
     },
     "execution_count": 61,
     "metadata": {},
     "output_type": "execute_result"
    }
   ],
   "source": [
    "# 461. Hamming Distance\n",
    "# Easy\n",
    "# The Hamming distance between two integers is the number of positions at which the corresponding bits are different.\n",
    "# Given two integers x and y, return the Hamming distance between them.\n",
    "\n",
    "class Solution:\n",
    "    def hammingDistance(self, x: int, y: int) -> int:\n",
    "        return bin(x^y).count('1')\n",
    "    \n",
    "x = 1\n",
    "y = 4\n",
    "Solution().hammingDistance(x,y)"
   ]
  },
  {
   "cell_type": "code",
   "execution_count": 62,
   "metadata": {},
   "outputs": [
    {
     "data": {
      "text/plain": [
       "3"
      ]
     },
     "execution_count": 62,
     "metadata": {},
     "output_type": "execute_result"
    }
   ],
   "source": [
    "# 509. Fibonacci Number\n",
    "# Easy\n",
    "# The Fibonacci numbers, commonly denoted F(n) form a sequence, called the Fibonacci sequence, such that each number is the sum of the two preceding ones, starting from 0 and 1. That is,\n",
    "# F(0) = 0, F(1) = 1\n",
    "# F(n) = F(n - 1) + F(n - 2), for n > 1.\n",
    "# Given n, calculate F(n).\n",
    "\n",
    "class Solution:\n",
    "    def fib(self, n: int) -> int:\n",
    "        if n == 0:\n",
    "            return 0\n",
    "        elif n == 1:\n",
    "            return 1\n",
    "        else:\n",
    "            return self.fib(n-1) + self.fib(n-2)\n",
    "        \n",
    "Solution().fib(4)"
   ]
  },
  {
   "cell_type": "code",
   "execution_count": 2,
   "metadata": {},
   "outputs": [
    {
     "name": "stdout",
     "output_type": "stream",
     "text": [
      "1\n",
      "2\n",
      "3\n",
      "4\n",
      "5\n"
     ]
    }
   ],
   "source": [
    "# 203. Remove Linked List Elements\n",
    "# Easy\n",
    "# Given the head of a linked list and an integer val, remove all the nodes of the linked list that has Node.val == val, and return the new head.\n",
    "\n",
    "from typing import Optional\n",
    "\n",
    "class ListNode:\n",
    "    def __init__(self, val=0, next=None):\n",
    "        self.val = val\n",
    "        self.next = next\n",
    "\n",
    "class Solution:\n",
    "    def removeElements(self, head: Optional[ListNode], val: int) -> Optional[ListNode]:\n",
    "        while head and head.val==val:\n",
    "            prev = head\n",
    "            head = head.next\n",
    "            prev.next = None\n",
    "\n",
    "        cur = head\n",
    "        prev = cur\n",
    "\n",
    "        while cur:\n",
    "            if cur.val == val:\n",
    "                prev.next = cur.next\n",
    "                cur.next = None\n",
    "                cur = prev.next\n",
    "            else:\n",
    "                prev = cur\n",
    "                cur = cur.next\n",
    "\n",
    "        return head\n",
    "\n",
    "def printList(head):\n",
    "    cur = head\n",
    "    while cur:\n",
    "        print(cur.val)\n",
    "        cur = cur.next    \n",
    "\n",
    "head = ListNode(1, ListNode(2, ListNode(6, ListNode(3, ListNode(4, ListNode(5, ListNode(6)))))))\n",
    "val = 6\n",
    "head = Solution().removeElements(head, val)\n",
    "\n",
    "printList(head)\n"
   ]
  },
  {
   "cell_type": "code",
   "execution_count": 7,
   "metadata": {},
   "outputs": [
    {
     "data": {
      "text/plain": [
       "[1, 3, 3, 1]"
      ]
     },
     "execution_count": 7,
     "metadata": {},
     "output_type": "execute_result"
    }
   ],
   "source": [
    "# 119. Pascal's Triangle II\n",
    "# Easy\n",
    "# Given an integer rowIndex, return the rowIndexth (0-indexed) row of the Pascal's triangle.\n",
    "# In Pascal's triangle, each number is the sum of the two numbers directly above it.\n",
    "\n",
    "from typing import List\n",
    "\n",
    "class Solution:\n",
    "    def getRow(self, rowIndex: int) -> List[int]:\n",
    "        if rowIndex == 0:\n",
    "            return [1]\n",
    "        \n",
    "        prev_row = [1]\n",
    "\n",
    "        i = 1\n",
    "        row = []\n",
    "        while i < rowIndex+1:\n",
    "            row.append(1)\n",
    "            for k in range(1, i):\n",
    "                row.append(prev_row[k] + prev_row[k-1])\n",
    "            row.append(1)\n",
    "            prev_row = row\n",
    "            row = []\n",
    "            i += 1\n",
    "        return prev_row\n",
    "    \n",
    "rowIndex = 3\n",
    "Solution().getRow(rowIndex)"
   ]
  },
  {
   "cell_type": "code",
   "execution_count": 8,
   "metadata": {},
   "outputs": [
    {
     "data": {
      "text/plain": [
       "3"
      ]
     },
     "execution_count": 8,
     "metadata": {},
     "output_type": "execute_result"
    }
   ],
   "source": [
    "# 559. Maximum Depth of N-ary Tree\n",
    "# Easy\n",
    "# Given a n-ary tree, find its maximum depth.\n",
    "# The maximum depth is the number of nodes along the longest path from the root node down to the farthest leaf node.\n",
    "\n",
    "\n",
    "class Node:\n",
    "    def __init__(self, val=None, children=None):\n",
    "        self.val = val\n",
    "        self.children = children\n",
    "\n",
    "class Solution:\n",
    "    def maxDepth(self, root: 'Node') -> int:\n",
    "        if not root:\n",
    "            return 0\n",
    "        else:\n",
    "            if not root.children:\n",
    "                return 1\n",
    "            else:\n",
    "                return max([self.maxDepth(child) for child in root.children]) + 1\n",
    "            \n",
    "root = Node(1, [Node(2, [Node(3), Node(4)]), Node(5), Node(6)])\n",
    "Solution().maxDepth(root)"
   ]
  },
  {
   "cell_type": "code",
   "execution_count": 13,
   "metadata": {},
   "outputs": [
    {
     "data": {
      "text/plain": [
       "7"
      ]
     },
     "execution_count": 13,
     "metadata": {},
     "output_type": "execute_result"
    }
   ],
   "source": [
    "# 409. Longest Palindrome\n",
    "# Easy\n",
    "# Given a string s which consists of lowercase or uppercase letters, return the length of the longest palindrome that can be built with those letters.\n",
    "# Letters are case sensitive, for example, \"Aa\" is not considered a palindrome here.\n",
    "\n",
    "class Solution:\n",
    "    def longestPalindrome(self, s: str) -> int:\n",
    "        numchar = {}\n",
    "        for char in s:\n",
    "            if char in numchar:\n",
    "                numchar[char] += 1\n",
    "            else:\n",
    "                numchar[char] = 1\n",
    "        \n",
    "        extra = 0\n",
    "        numchar = list(numchar.values())\n",
    "        for i in range(len(numchar)):\n",
    "            if numchar[i] % 2 == 1:\n",
    "                numchar[i] -= 1\n",
    "                extra = 1\n",
    "\n",
    "        return sum(numchar) + extra\n",
    "\n",
    "\n",
    "s = \"abccccdd\"\n",
    "Solution().longestPalindrome(s)\n"
   ]
  },
  {
   "cell_type": "code",
   "execution_count": 14,
   "metadata": {},
   "outputs": [
    {
     "data": {
      "text/plain": [
       "9"
      ]
     },
     "execution_count": 14,
     "metadata": {},
     "output_type": "execute_result"
    }
   ],
   "source": [
    "# 561. Array Partition\n",
    "# Easy\n",
    "# Given an integer array nums of 2n integers, group these integers into n pairs (a1, b1), (a2, b2), ..., (an, bn) such that the sum of min(ai, bi) for all i is maximized. Return the maximized sum.\n",
    "\n",
    "class Solution:\n",
    "    def arrayPairSum(self, nums: List[int]) -> int:\n",
    "        nums.sort()\n",
    "\n",
    "        sum = 0\n",
    "        i = 0\n",
    "        while i < len(nums)-1:\n",
    "            sum += nums[i]\n",
    "            i += 2\n",
    "\n",
    "        return sum\n",
    "    \n",
    "\n",
    "nums = [6,2,6,5,1,2]\n",
    "Solution().arrayPairSum(nums)"
   ]
  },
  {
   "cell_type": "code",
   "execution_count": 1,
   "metadata": {},
   "outputs": [
    {
     "data": {
      "text/plain": [
       "2"
      ]
     },
     "execution_count": 1,
     "metadata": {},
     "output_type": "execute_result"
    }
   ],
   "source": [
    "# 455. Assign Cookies\n",
    "# Easy\n",
    "# Assume you are an awesome parent and want to give your children some cookies. But, you should give each child at most one cookie.\n",
    "# Each child i has a greed factor g[i], which is the minimum size of a cookie that the child will be content with; and each cookie j has a size s[j].\n",
    "# If s[j] >= g[i], we can assign the cookie j to the child i, and the child i will be content. Your goal is to maximize the number of your\n",
    "# content children and output the maximum number.\n",
    "\n",
    "from typing import List\n",
    "\n",
    "class Solution:\n",
    "    def findContentChildren(self, g: List[int], s: List[int]) -> int:\n",
    "        g.sort()\n",
    "        s.sort()\n",
    "\n",
    "        count = 0\n",
    "        for cookie in s:\n",
    "            if count >= len(g):\n",
    "                break\n",
    "            if cookie >= g[count]:\n",
    "                count += 1\n",
    "\n",
    "        return count\n",
    "    \n",
    "g = [1,2]\n",
    "s = [1,2,3]\n",
    "\n",
    "Solution().findContentChildren(g,s)"
   ]
  },
  {
   "cell_type": "code",
   "execution_count": 24,
   "metadata": {},
   "outputs": [
    {
     "data": {
      "text/plain": [
       "[[1, 0, 0], [0, 1, 0], [1, 1, 1]]"
      ]
     },
     "execution_count": 24,
     "metadata": {},
     "output_type": "execute_result"
    }
   ],
   "source": [
    "# 832. Flipping an Image\n",
    "# Easy\n",
    "# Given an n x n binary matrix image, flip the image horizontally, then invert it, and return the resulting image.\n",
    "# To flip an image horizontally means that each row of the image is reversed.\n",
    "# For example, flipping [1,1,0] horizontally results in [0,1,1].\n",
    "# To invert an image means that each 0 is replaced by 1, and each 1 is replaced by 0.\n",
    "# For example, inverting [0,1,1] results in [1,0,0].\n",
    "\n",
    "class Solution:\n",
    "    def flipAndInvertImage(self, image: List[List[int]]) -> List[List[int]]:\n",
    "        for row in image:\n",
    "            left = 0\n",
    "            right = len(row)-1\n",
    "\n",
    "            while left <= right:\n",
    "                row[left], row[right] = 1-row[right], 1-row[left]\n",
    "                left += 1\n",
    "                right -= 1\n",
    "\n",
    "        return image\n",
    "    \n",
    "image = [[1,1,0],[1,0,1],[0,0,0]]\n",
    "Solution().flipAndInvertImage(image)"
   ]
  },
  {
   "cell_type": "code",
   "execution_count": 33,
   "metadata": {},
   "outputs": [
    {
     "data": {
      "text/plain": [
       "1"
      ]
     },
     "execution_count": 33,
     "metadata": {},
     "output_type": "execute_result"
    }
   ],
   "source": [
    "# 868. Binary Gap\n",
    "# Easy\n",
    "# Given a positive integer n, find and return the longest distance between any two adjacent 1's in the binary representation of n. If there are no two adjacent 1's, return 0.\n",
    "# Two 1's are adjacent if there are only 0's separating them (possibly no 0's). The distance between two 1's is the absolute difference between their bit positions. For example, the two 1's in \"1001\" have a distance of 3.\n",
    "\n",
    "class Solution:\n",
    "    def binaryGap(self, n: int) -> int:\n",
    "        binn = bin(n)\n",
    "\n",
    "        if binn.count('1') < 2:\n",
    "            return 0\n",
    "        \n",
    "        cnt = 0\n",
    "        max = 0\n",
    "        curr = 0\n",
    "\n",
    "        while curr < len(binn) and binn[curr] != '1':\n",
    "            curr += 1\n",
    "        \n",
    "        while curr < len(binn):\n",
    "            i = curr + 1\n",
    "            cnt = 1\n",
    "            while i < len(binn) and binn[i] != '1':\n",
    "                cnt += 1\n",
    "                i += 1\n",
    "            \n",
    "            if i < len(binn) and binn[i] == '1' and cnt > max:\n",
    "                max = cnt\n",
    "                cnt = 0\n",
    "            \n",
    "            curr = i\n",
    "        \n",
    "        return max\n",
    "\n",
    "\n",
    "n = 6\n",
    "Solution().binaryGap(n)"
   ]
  },
  {
   "cell_type": "code",
   "execution_count": 25,
   "metadata": {},
   "outputs": [
    {
     "data": {
      "text/plain": [
       "'0b10110'"
      ]
     },
     "execution_count": 25,
     "metadata": {},
     "output_type": "execute_result"
    }
   ],
   "source": [
    "# 876. Middle of the Linked List\n",
    "# Easy\n",
    "# Given the head of a singly linked list, return the middle node of the linked list.\n",
    "# If there are two middle nodes, return the second middle node.\n",
    "\n",
    "from typing import Optional\n",
    "\n",
    "class ListNode:\n",
    "    def __init__(self, val=0, next=None):\n",
    "        self.val = val\n",
    "        self.next = next\n",
    "\n",
    "class Solution:\n",
    "    def middleNode(self, head: Optional[ListNode]) -> Optional[ListNode]:\n",
    "        if not head.next:\n",
    "            return head\n",
    "\n",
    "        fast = head\n",
    "        slow = head\n",
    "\n",
    "        while fast and fast.next:\n",
    "            fast = fast.next.next\n",
    "            slow = slow.next\n",
    "\n",
    "        return slow\n",
    "\n",
    "        "
   ]
  },
  {
   "cell_type": "code",
   "execution_count": 35,
   "metadata": {},
   "outputs": [
    {
     "data": {
      "text/plain": [
       "4526077126573222191314337"
      ]
     },
     "execution_count": 35,
     "metadata": {},
     "output_type": "execute_result"
    }
   ],
   "source": [
    "# 190. Reverse Bits\n",
    "# Easy\n",
    "# Reverse bits of a given 32 bits unsigned integer.\n",
    "# Note:\n",
    "#     Note that in some languages, such as Java, there is no unsigned integer type. In this case, both input and output will be given as a signed integer type. They should not affect your implementation, as the integer's internal binary representation is the same, whether it is signed or unsigned.\n",
    "#     In Java, the compiler represents the signed integers using 2's complement notation. Therefore, in Example 2 above, the input represents the signed integer -3 and the output represents the signed integer -1073741825.\n",
    "\n",
    "class Solution:\n",
    "    def reverseBits(self, n: int) -> int:\n",
    "        revbin = bin(n)[2:][::-1]\n",
    "        return int(revbin + '0'*(32-len(revbin)),2)\n",
    "    \n",
    "n = 10100101000001111010011100\n",
    "Solution().reverseBits(n)"
   ]
  },
  {
   "cell_type": "code",
   "execution_count": 74,
   "metadata": {},
   "outputs": [
    {
     "data": {
      "text/plain": [
       "701"
      ]
     },
     "execution_count": 74,
     "metadata": {},
     "output_type": "execute_result"
    }
   ],
   "source": [
    "26*26 + 25"
   ]
  },
  {
   "cell_type": "code",
   "execution_count": null,
   "metadata": {},
   "outputs": [],
   "source": [
    "# 168. Excel Sheet Column Title\n",
    "# Easy\n",
    "# Given an integer columnNumber, return its corresponding column title as it appears in an Excel sheet.\n",
    "# For example:\n",
    "# A -> 1\n",
    "# B -> 2\n",
    "# C -> 3\n",
    "# ...\n",
    "# Z -> 26\n",
    "# AA -> 27\n",
    "# AB -> 28 \n",
    "\n",
    "class Solution:\n",
    "    def convertToTitle(self, columnNumber: int) -> str:\n",
    "        num2letter = {(i + 1) % 26: chr(i + ord('A')) for i in range(26)}\n",
    "\n",
    "        title = []\n",
    "        while columnNumber > 0:\n",
    "            title.append(num2letter[columnNumber % 26])\n",
    "            if not(columnNumber % 26):\n",
    "                columnNumber = columnNumber//26-1\n",
    "            else:\n",
    "                columnNumber = columnNumber//26\n",
    "\n",
    "        return ''.join(title[::-1])\n",
    "    \n",
    "\n",
    "columnNumber = 103\n",
    "for columnNumber in range(1,250):\n",
    "    print(Solution().convertToTitle(columnNumber))"
   ]
  },
  {
   "cell_type": "code",
   "execution_count": 106,
   "metadata": {},
   "outputs": [
    {
     "data": {
      "text/plain": [
       "731"
      ]
     },
     "execution_count": 106,
     "metadata": {},
     "output_type": "execute_result"
    }
   ],
   "source": [
    "# 171. Excel Sheet Column Number\n",
    "# Easy\n",
    "# Given a string columnTitle that represents the column title as appears in an Excel sheet, return its corresponding column number.\n",
    "# For example:\n",
    "# A -> 1\n",
    "# B -> 2\n",
    "# C -> 3\n",
    "# ...\n",
    "# Z -> 26\n",
    "# AA -> 27\n",
    "# AB -> 28 \n",
    "\n",
    "class Solution:\n",
    "    def titleToNumber(self, columnTitle: str) -> int:\n",
    "        i = len(columnTitle)-1\n",
    "        ans = 0\n",
    "        while i >= 0:\n",
    "            ans += 26**(len(columnTitle)-1-i)*(ord(columnTitle[i]) - ord('A') + 1)\n",
    "            i-=1\n",
    "        return ans\n",
    "    \n",
    "columnTitle = 'ABC'\n",
    "Solution().titleToNumber(columnTitle)"
   ]
  },
  {
   "cell_type": "code",
   "execution_count": 114,
   "metadata": {},
   "outputs": [
    {
     "data": {
      "text/plain": [
       "'hollew'"
      ]
     },
     "execution_count": 114,
     "metadata": {},
     "output_type": "execute_result"
    }
   ],
   "source": [
    "# 345. Reverse Vowels of a String\n",
    "# Easy\n",
    "# Given a string s, reverse only all the vowels in the string and return it.\n",
    "# The vowels are 'a', 'e', 'i', 'o', and 'u', and they can appear in both lower and upper cases, more than once.\n",
    "\n",
    "class Solution:\n",
    "    def reverseVowels(self, s: str) -> str:\n",
    "        vowels = {'a','e','i','o','u','A','E','I','O','U'}\n",
    "        ans = list(s)\n",
    "\n",
    "        left = 0\n",
    "        right = len(s)-1\n",
    "        while left < right:\n",
    "            while left < len(s) and s[left] not in vowels:\n",
    "                left += 1\n",
    "            while right >= 0 and s[right] not in vowels:\n",
    "                right -= 1\n",
    "            if left < right:\n",
    "                ans[left], ans[right] = ans[right], ans[left]\n",
    "                left += 1\n",
    "                right -= 1\n",
    "        \n",
    "        return ''.join(ans)\n",
    "    \n",
    "    \n",
    "s = 'hellow'\n",
    "Solution().reverseVowels(s)"
   ]
  },
  {
   "cell_type": "code",
   "execution_count": 118,
   "metadata": {},
   "outputs": [
    {
     "data": {
      "text/plain": [
       "'2'"
      ]
     },
     "execution_count": 118,
     "metadata": {},
     "output_type": "execute_result"
    }
   ],
   "source": [
    "# 415. Add Strings\n",
    "# Easy\n",
    "# Given two non-negative integers, num1 and num2 represented as string, return the sum of num1 and num2 as a string.\n",
    "# You must solve the problem without using any built-in library for handling large integers (such as BigInteger). You must also not convert the inputs to integers directly.\n",
    "\n",
    "class Solution:\n",
    "    def addStrings(self, num1: str, num2: str) -> str:\n",
    "        if num1 == '0':\n",
    "            return num2\n",
    "        elif num2 == '0':\n",
    "            return num1\n",
    "            \n",
    "        n1 = len(num1)-1\n",
    "        n2 = len(num2)-1\n",
    "        ans = []\n",
    "        carry = 0\n",
    "        while n1 >= 0 or n2 >= 0 or carry > 0:\n",
    "            res = carry\n",
    "            if n1 >= 0:\n",
    "                res += int(num1[n1])\n",
    "            if n2 >= 0:\n",
    "                res += int(num2[n2])\n",
    "            carry = res // 10\n",
    "            res = res % 10\n",
    "\n",
    "            ans.append(str(res))\n",
    "            n1 -= 1\n",
    "            n2 -= 1\n",
    "\n",
    "        return ''.join(ans[::-1])"
   ]
  },
  {
   "cell_type": "code",
   "execution_count": 122,
   "metadata": {},
   "outputs": [
    {
     "data": {
      "text/plain": [
       "[]"
      ]
     },
     "execution_count": 122,
     "metadata": {},
     "output_type": "execute_result"
    }
   ],
   "source": [
    "# 500. Keyboard Row\n",
    "# Easy\n",
    "# Given an array of strings words, return the words that can be typed using letters of the alphabet on only one row of American keyboard like the image below.\n",
    "# In the American keyboard:\n",
    "#     the first row consists of the characters \"qwertyuiop\",\n",
    "#     the second row consists of the characters \"asdfghjkl\", and\n",
    "#     the third row consists of the characters \"zxcvbnm\".\n",
    "\n",
    "class Solution:\n",
    "    def findWords(self, words: List[str]) -> List[str]:\n",
    "        row1 = {char for char in 'qwertyuiop'}\n",
    "        row2 = {char for char in 'asdfghjkl'}\n",
    "        row3 = {char for char in 'zxcvbnm'}\n",
    "\n",
    "        ans = []\n",
    "        for word in words:\n",
    "            word_ = word.lower()\n",
    "            if (all([char in row1 for char in word_]) or\n",
    "                all([char in row2 for char in word_]) or\n",
    "                all([char in row3 for char in word_])\n",
    "            ):\n",
    "                ans.append(word)\n",
    "\n",
    "        return ans\n",
    "                \n",
    "\n",
    "words = [\"Hello\",\"Alaska\",\"Dad\",\"Peace\"]\n",
    "Solution().findWords(words)"
   ]
  },
  {
   "cell_type": "code",
   "execution_count": 131,
   "metadata": {},
   "outputs": [
    {
     "name": "stdout",
     "output_type": "stream",
     "text": [
      "True\n",
      "False\n"
     ]
    },
    {
     "data": {
      "text/plain": [
       "True"
      ]
     },
     "execution_count": 131,
     "metadata": {},
     "output_type": "execute_result"
    }
   ],
   "source": [
    "# 520. Detect Capital\n",
    "# Easy\n",
    "# We define the usage of capitals in a word to be right when one of the following cases holds:\n",
    "#     All letters in this word are capitals, like \"USA\".\n",
    "#     All letters in this word are not capitals, like \"leetcode\".\n",
    "#     Only the first letter in this word is capital, like \"Google\".\n",
    "# Given a string word, return true if the usage of capitals in it is right.\n",
    "\n",
    "class Solution:\n",
    "    def detectCapitalUse(self, word: str) -> bool:\n",
    "        capitals = {chr(i + ord('A')) for i in range(26)}\n",
    "        lowers = {chr(i + ord('a')) for i in range(26)}\n",
    "\n",
    "        print(word[0] in capitals)\n",
    "        print(set(word[1:]) in lowers)\n",
    "\n",
    "        if set(word) <= capitals:\n",
    "            return True\n",
    "        if set(word) <= lowers:\n",
    "            return True\n",
    "        if word[0] in capitals and set(word[1:]) <= lowers:\n",
    "            return True\n",
    "        \n",
    "        return False\n",
    "    \n",
    "word = 'Leetcode'\n",
    "Solution().detectCapitalUse(word)"
   ]
  },
  {
   "cell_type": "code",
   "execution_count": 137,
   "metadata": {},
   "outputs": [
    {
     "data": {
      "text/plain": [
       "3"
      ]
     },
     "execution_count": 137,
     "metadata": {},
     "output_type": "execute_result"
    }
   ],
   "source": [
    "# 521. Longest Uncommon Subsequence I\n",
    "# Easy\n",
    "# Given two strings a and b, return the length of the longest uncommon subsequence between a and b. If no such uncommon subsequence exists, return -1.\n",
    "# An uncommon subsequence between two strings is a string that is a\n",
    "# subsequence\n",
    "# of exactly one of them.\n",
    "\n",
    "class Solution:\n",
    "    def findLUSlength(self, a: str, b: str) -> int:\n",
    "        return max(len(a), len(b)) if a != b else -1\n",
    "    \n",
    "a = 'aaa'\n",
    "b = 'bbb'\n",
    "\n",
    "Solution().findLUSlength(a,b)\n"
   ]
  },
  {
   "cell_type": "code",
   "execution_count": 136,
   "metadata": {},
   "outputs": [
    {
     "data": {
      "text/plain": [
       "\"s'teL ekat edoCteeL tsetnoc\""
      ]
     },
     "execution_count": 136,
     "metadata": {},
     "output_type": "execute_result"
    }
   ],
   "source": [
    "# 557. Reverse Words in a String III\n",
    "# Easy\n",
    "# Given a string s, reverse the order of characters in each word within a sentence while still preserving whitespace and initial word order.\n",
    "\n",
    "class Solution:\n",
    "    def reverseWords(self, s: str) -> str:\n",
    "        return ' '.join([word[::-1] for word in s.split(' ')])\n",
    "    \n",
    "s = \"Let's take LeetCode contest\"\n",
    "Solution().reverseWords(s)"
   ]
  },
  {
   "cell_type": "code",
   "execution_count": 139,
   "metadata": {},
   "outputs": [
    {
     "data": {
      "text/plain": [
       "'lovely'"
      ]
     },
     "execution_count": 139,
     "metadata": {},
     "output_type": "execute_result"
    }
   ],
   "source": [
    "# 709. To Lower Case\n",
    "# Easy\n",
    "# Given a string s, return the string after replacing every uppercase letter with the same lowercase letter.\n",
    "\n",
    "class Solution:\n",
    "    def toLowerCase(self, s: str) -> str:\n",
    "        return s.lower()\n",
    "    \n",
    "s = 'LOvely'\n",
    "Solution().toLowerCase(s)"
   ]
  },
  {
   "cell_type": "code",
   "execution_count": 150,
   "metadata": {},
   "outputs": [
    {
     "data": {
      "text/plain": [
       "'hello'"
      ]
     },
     "execution_count": 150,
     "metadata": {},
     "output_type": "execute_result"
    }
   ],
   "source": [
    "# 709. To Lower Case\n",
    "# Easy\n",
    "# Given a string s, return the string after replacing every uppercase letter with the same lowercase letter.\n",
    "\n",
    "class Solution:\n",
    "    def toLowerCase(self, s: str) -> str:\n",
    "        return ''.join(map(lambda x: chr(ord(x) + ord('a') - ord('A')) if ord(x) >= ord('A') and ord(x) <= ord('Z') else x, s))\n",
    "    \n",
    "s = 'Hello'\n",
    "Solution().toLowerCase(s)"
   ]
  },
  {
   "cell_type": "code",
   "execution_count": 151,
   "metadata": {},
   "outputs": [
    {
     "data": {
      "text/plain": [
       "True"
      ]
     },
     "execution_count": 151,
     "metadata": {},
     "output_type": "execute_result"
    }
   ],
   "source": [
    "# 657. Robot Return to Origin\n",
    "# Easy\n",
    "# There is a robot starting at the position (0, 0), the origin, on a 2D plane. Given a sequence of its moves, judge if this robot ends up at (0, 0) after it completes its moves.\n",
    "# You are given a string moves that represents the move sequence of the robot where moves[i] represents its ith move. Valid moves are 'R' (right), 'L' (left), 'U' (up), and 'D' (down).\n",
    "# Return true if the robot returns to the origin after it finishes all of its moves, or false otherwise.\n",
    "\n",
    "class Solution:\n",
    "    def judgeCircle(self, moves: str) -> bool:\n",
    "        move = {'R': [1, 0], 'L': [-1,0], 'U': [0,1], 'D': [0,-1]}\n",
    "        x,y = 0,0\n",
    "        for move_code in moves:\n",
    "            x += move[move_code][0]\n",
    "            y += move[move_code][1]\n",
    "\n",
    "        return True if x == 0 and y == 0 else False\n",
    "\n",
    "moves = \"UD\"\n",
    "Solution().judgeCircle(moves)"
   ]
  },
  {
   "cell_type": "code",
   "execution_count": 155,
   "metadata": {},
   "outputs": [
    {
     "data": {
      "text/plain": [
       "True"
      ]
     },
     "execution_count": 155,
     "metadata": {},
     "output_type": "execute_result"
    }
   ],
   "source": [
    "# 796. Rotate String\n",
    "# Easy\n",
    "# Given two strings s and goal, return true if and only if s can become goal after some number of shifts on s.\n",
    "# A shift on s consists of moving the leftmost character of s to the rightmost position.\n",
    "# For example, if s = \"abcde\", then it will be \"bcdea\" after one shift.\n",
    "\n",
    "class Solution:\n",
    "    def rotateString(self, s: str, goal: str) -> bool:\n",
    "        def rotate(s):\n",
    "            return s[1:] + s[0]\n",
    "\n",
    "        for i in range(len(s)):\n",
    "            if goal == s:\n",
    "                return True\n",
    "            else:\n",
    "                s = rotate(s)\n",
    "\n",
    "        return False\n",
    "    \n",
    "    def rotateStringEfficient(self, s:str, goal:str) -> bool:\n",
    "        return len(s) == len(goal) and goal in s + s\n",
    "    \n",
    "s = 'abcde'\n",
    "goal = 'deabc'\n",
    "Solution().rotateStringEfficient(s, goal)"
   ]
  },
  {
   "cell_type": "code",
   "execution_count": 157,
   "metadata": {},
   "outputs": [
    {
     "data": {
      "text/plain": [
       "True"
      ]
     },
     "execution_count": 157,
     "metadata": {},
     "output_type": "execute_result"
    }
   ],
   "source": [
    "# 551. Student Attendance Record I\n",
    "# Easy\n",
    "# You are given a string s representing an attendance record for a student where each character signifies whether the student was absent, late, or present on that day. The record only contains the following three characters:\n",
    "#     'A': Absent.\n",
    "#     'L': Late.\n",
    "#     'P': Present.\n",
    "# The student is eligible for an attendance award if they meet both of the following criteria:\n",
    "#     The student was absent ('A') for strictly fewer than 2 days total.\n",
    "#     The student was never late ('L') for 3 or more consecutive days.\n",
    "# Return true if the student is eligible for an attendance award, or false otherwise.\n",
    "\n",
    "class Solution:\n",
    "    def checkRecord(self, s: str) -> bool:\n",
    "        absenses = 0\n",
    "        lates = 0\n",
    "\n",
    "        for char in s:\n",
    "            if char == 'A':\n",
    "                absenses += 1\n",
    "            if char == 'L':\n",
    "                lates += 1\n",
    "            else:\n",
    "                lates = 0\n",
    "            \n",
    "            if absenses >= 2 or lates >= 3:\n",
    "                return False\n",
    "\n",
    "        return True\n",
    "    \n",
    "    def checkRecordAlternative(self, s:str) -> bool:\n",
    "        return False if s.count('A') >= 2 or s.find('LLL') != -1 else True\n",
    "            \n",
    "\n",
    "s = \"PPALLP\"\n",
    "Solution().checkRecordAlternative(s)"
   ]
  },
  {
   "cell_type": "code",
   "execution_count": 162,
   "metadata": {},
   "outputs": [
    {
     "data": {
      "text/plain": [
       "2"
      ]
     },
     "execution_count": 162,
     "metadata": {},
     "output_type": "execute_result"
    }
   ],
   "source": [
    "# 804. Unique Morse Code Words\n",
    "# Easy\n",
    "# International Morse Code defines a standard encoding where each letter is mapped to a series of dots and dashes, as follows:\n",
    "#     'a' maps to \".-\",\n",
    "#     'b' maps to \"-...\",\n",
    "#     'c' maps to \"-.-.\", and so on.\n",
    "# For convenience, the full table for the 26 letters of the English alphabet is given below:\n",
    "# [\".-\",\"-...\",\"-.-.\",\"-..\",\".\",\"..-.\",\"--.\",\"....\",\"..\",\".---\",\"-.-\",\".-..\",\"--\",\"-.\",\"---\",\".--.\",\"--.-\",\".-.\",\"...\",\"-\",\"..-\",\"...-\",\".--\",\"-..-\",\"-.--\",\"--..\"]\n",
    "# Given an array of strings words where each word can be written as a concatenation of the Morse code of each letter.\n",
    "# For example, \"cab\" can be written as \"-.-..--...\", which is the concatenation of \"-.-.\", \".-\", and \"-...\". We will call such a concatenation the transformation of a word.\n",
    "# Return the number of different transformations among all words we have.\n",
    "\n",
    "class Solution:\n",
    "    def uniqueMorseRepresentations(self, words: List[str]) -> int:\n",
    "        transformations = set()\n",
    "\n",
    "        morse_table = [\".-\",\"-...\",\"-.-.\",\"-..\",\".\",\"..-.\",\"--.\",\"....\",\"..\",\".---\",\"-.-\",\".-..\",\"--\",\"-.\",\"---\",\".--.\",\"--.-\",\".-.\",\"...\",\"-\",\"..-\",\"...-\",\".--\",\"-..-\",\"-.--\",\"--..\"]\n",
    "        for word in words:\n",
    "            transform = ''.join([morse_table[ord(char)-ord('a')] for char in word])\n",
    "            if transform not in transformations:\n",
    "                transformations.add(transform)\n",
    "\n",
    "        return len(transformations)\n",
    "\n",
    "words = [\"gin\",\"zen\",\"gig\",\"msg\"]\n",
    "Solution().uniqueMorseRepresentations(words)"
   ]
  },
  {
   "cell_type": "code",
   "execution_count": 163,
   "metadata": {},
   "outputs": [
    {
     "data": {
      "text/plain": [
       "3"
      ]
     },
     "execution_count": 163,
     "metadata": {},
     "output_type": "execute_result"
    }
   ],
   "source": [
    "# 771. Jewels and Stones\n",
    "# Easy\n",
    "# You're given strings jewels representing the types of stones that are jewels, and stones representing the stones you have. Each character in stones is a type of stone you have. You want to know how many of the stones you have are also jewels.\n",
    "# Letters are case sensitive, so \"a\" is considered a different type of stone from \"A\".\n",
    "\n",
    "class Solution:\n",
    "    def numJewelsInStones(self, jewels: str, stones: str) -> int:\n",
    "        cnt = 0\n",
    "        for jewel in jewels:\n",
    "            cnt += stones.count(jewel)\n",
    "\n",
    "        return cnt\n",
    "    \n",
    "jewels = 'aA'\n",
    "stones = 'aAAbbbb'\n",
    "Solution().numJewelsInStones(jewels, stones)"
   ]
  },
  {
   "cell_type": "code",
   "execution_count": 164,
   "metadata": {},
   "outputs": [
    {
     "data": {
      "text/plain": [
       "3"
      ]
     },
     "execution_count": 164,
     "metadata": {},
     "output_type": "execute_result"
    }
   ],
   "source": [
    "# 1614. Maximum Nesting Depth of the Parentheses\n",
    "# Easy\n",
    "# Given a valid parentheses string s, return the nesting depth of s. The nesting depth is the maximum number of nested parentheses.\n",
    "\n",
    "class Solution:\n",
    "    def maxDepth(self, s: str) -> int:\n",
    "        depth = 0\n",
    "        max_depth = 0\n",
    "        par_map = {'(': 1, ')': -1}\n",
    "\n",
    "        for char in s:\n",
    "            if char in par_map:\n",
    "                depth += par_map[char]\n",
    "                max_depth = max(max_depth, depth)\n",
    "        return max_depth\n",
    "    \n",
    "s = \"(1+(2*3)+((8)/4))+1\"\n",
    "Solution().maxDepth(s)"
   ]
  },
  {
   "cell_type": "code",
   "execution_count": 182,
   "metadata": {},
   "outputs": [
    {
     "data": {
      "text/plain": [
       "'ball'"
      ]
     },
     "execution_count": 182,
     "metadata": {},
     "output_type": "execute_result"
    }
   ],
   "source": [
    "class Solution:\n",
    "    def mostCommonWord(self, paragraph: str, banned: List[str]) -> str:\n",
    "        word_freq = {}\n",
    "        banned = set(banned)\n",
    "        max_freq = 0\n",
    "        max_word = ''\n",
    "        for word in paragraph.lower().split(' '):\n",
    "            if not word[-1].isalpha():\n",
    "                word = word[:-1]\n",
    "            if word not in banned:\n",
    "                if word not in word_freq:\n",
    "                    word_freq[word] = 1\n",
    "                else:\n",
    "                    word_freq[word] += 1\n",
    "                if word_freq[word] > max_freq:\n",
    "                    max_freq = word_freq[word]\n",
    "                    max_word = word\n",
    "                    \n",
    "        return max_word\n",
    "    \n",
    "\n",
    "paragraph = \"Bob. hIt, baLl\"\n",
    "banned = [\"bob\", \"hit\"]\n",
    "\n",
    "Solution().mostCommonWord(paragraph, banned)\n"
   ]
  },
  {
   "cell_type": "code",
   "execution_count": 183,
   "metadata": {},
   "outputs": [
    {
     "data": {
      "text/plain": [
       "'ball'"
      ]
     },
     "execution_count": 183,
     "metadata": {},
     "output_type": "execute_result"
    }
   ],
   "source": [
    "# 819. Most Common Word\n",
    "# Easy\n",
    "# Given a string paragraph and a string array of the banned words banned, return the most frequent word that is not banned. It is guaranteed there is at least one word that is not banned, and that the answer is unique.\n",
    "# The words in paragraph are case-insensitive and the answer should be returned in lowercase.\n",
    "\n",
    "class Solution:\n",
    "    def mostCommonWord(self, paragraph: str, banned: List[str]) -> str:\n",
    "        if len(paragraph) == 1:\n",
    "            return paragraph.lower() and paragraph.isalpha() and paragraph not in banned\n",
    "\n",
    "        word_freq = {}\n",
    "        banned = set(banned)\n",
    "        max_freq = 0\n",
    "        max_word = ''\n",
    "        \n",
    "        start = 0 \n",
    "        end = 0\n",
    "        paragraph = paragraph + '.'\n",
    "        while end < len(paragraph):\n",
    "            if not paragraph[end].isalpha() and not paragraph[start].isalpha():\n",
    "                start += 1\n",
    "                end += 1\n",
    "            elif paragraph[end].isalpha():\n",
    "                end += 1\n",
    "            elif not paragraph[end].isalpha():\n",
    "                word = paragraph[start:end].lower()\n",
    "                start = end\n",
    "                if word not in banned:\n",
    "                    if word not in word_freq:\n",
    "                        word_freq[word] = 1\n",
    "                    else:\n",
    "                        word_freq[word] += 1\n",
    "                    if word_freq[word] >= max_freq:\n",
    "                        max_freq = word_freq[word]\n",
    "                        max_word = word\n",
    "\n",
    "        return max_word\n",
    "    \n",
    "paragraph = \"Bob hit a ball, the hit BALL flew far after it was hit.\"\n",
    "banned = [\"hit\"]\n",
    "Solution().mostCommonWord(paragraph, banned)"
   ]
  },
  {
   "cell_type": "code",
   "execution_count": 184,
   "metadata": {},
   "outputs": [
    {
     "data": {
      "text/plain": [
       "2"
      ]
     },
     "execution_count": 184,
     "metadata": {},
     "output_type": "execute_result"
    }
   ],
   "source": [
    "# 1624. Largest Substring Between Two Equal Characters\n",
    "# Easy\n",
    "# Given a string s, return the length of the longest substring between two equal characters, excluding the two characters. If there is no such substring return -1.\n",
    "# A substring is a contiguous sequence of characters within a string.\n",
    "\n",
    "class Solution:\n",
    "    def maxLengthBetweenEqualCharacters(self, s: str) -> int:\n",
    "        occurence = {}\n",
    "        max_len = -1\n",
    "\n",
    "        for i, char in enumerate(s):\n",
    "            if char not in occurence:\n",
    "                occurence[char] = i\n",
    "            else:\n",
    "                max_len = max(max_len, i - occurence[char] - 1)\n",
    "\n",
    "        return max_len\n",
    "    \n",
    "s = 'abca'\n",
    "Solution().maxLengthBetweenEqualCharacters(s)"
   ]
  },
  {
   "cell_type": "code",
   "execution_count": 189,
   "metadata": {},
   "outputs": [
    {
     "data": {
      "text/plain": [
       "'leecode'"
      ]
     },
     "execution_count": 189,
     "metadata": {},
     "output_type": "execute_result"
    }
   ],
   "source": [
    "# 1528. Shuffle String\n",
    "# Easy\n",
    "# You are given a string s and an integer array indices of the same length. The string s will be shuffled such that the character at the ith position moves to indices[i] in the shuffled string.\n",
    "# Return the shuffled string.\n",
    "\n",
    "class Solution:\n",
    "    def restoreString(self, s: str, indices: List[int]) -> str:\n",
    "        ans = ['']*len(s)\n",
    "        for i, j in enumerate(indices):\n",
    "            ans[j] = s[i]\n",
    "        return ''.join(ans)\n",
    "    \n",
    "s = 'codeleet'\n",
    "indices = [4,5,6,7,0,1,2]\n",
    "Solution().restoreString(s, indices)"
   ]
  },
  {
   "cell_type": "code",
   "execution_count": 203,
   "metadata": {},
   "outputs": [
    {
     "data": {
      "text/plain": [
       "'1933-06-06'"
      ]
     },
     "execution_count": 203,
     "metadata": {},
     "output_type": "execute_result"
    }
   ],
   "source": [
    "# 1507. Reformat Date\n",
    "# Easy\n",
    "# Given a date string in the form Day Month Year, where:\n",
    "#     Day is in the set {\"1st\", \"2nd\", \"3rd\", \"4th\", ..., \"30th\", \"31st\"}.\n",
    "#     Month is in the set {\"Jan\", \"Feb\", \"Mar\", \"Apr\", \"May\", \"Jun\", \"Jul\", \"Aug\", \"Sep\", \"Oct\", \"Nov\", \"Dec\"}.\n",
    "#     Year is in the range [1900, 2100].\n",
    "# Convert the date string to the format YYYY-MM-DD, where:\n",
    "#     YYYY denotes the 4 digit year.\n",
    "#     MM denotes the 2 digit month.\n",
    "#     DD denotes the 2 digit day.\n",
    "\n",
    "class Solution:\n",
    "    def reformatDate(self, date: str) -> str:\n",
    "        months = {month: i+1 for i, month in enumerate([\"Jan\", \"Feb\", \"Mar\", \"Apr\", \"May\", \"Jun\", \"Jul\", \"Aug\", \"Sep\", \"Oct\", \"Nov\", \"Dec\"])}\n",
    "        ans = date.split(' ')\n",
    "\n",
    "        return ans[2] + '-' + \"{0:02d}\".format(months[ans[1]]) + '-' + \"{0:02d}\".format(int(ans[0][:-2]))\n",
    "    \n",
    "date = \"6th Jun 1933\"\n",
    "Solution().reformatDate(date)"
   ]
  },
  {
   "cell_type": "code",
   "execution_count": 204,
   "metadata": {},
   "outputs": [
    {
     "data": {
      "text/plain": [
       "'c'"
      ]
     },
     "execution_count": 204,
     "metadata": {},
     "output_type": "execute_result"
    }
   ],
   "source": [
    "# 1629. Slowest Key\n",
    "# Easy\n",
    "# A newly designed keypad was tested, where a tester pressed a sequence of n keys, one at a time.\n",
    "# You are given a string keysPressed of length n, where keysPressed[i] was the ith key pressed in the testing sequence, and a sorted list releaseTimes, where releaseTimes[i] was the time the ith key was released. Both arrays are 0-indexed. The 0th key was pressed at the time 0, and every subsequent key was pressed at the exact time the previous key was released.\n",
    "# The tester wants to know the key of the keypress that had the longest duration. The ith keypress had a duration of releaseTimes[i] - releaseTimes[i - 1], and the 0th keypress had a duration of releaseTimes[0].\n",
    "# Note that the same key could have been pressed multiple times during the test, and these multiple presses of the same key may not have had the same duration.\n",
    "\n",
    "class Solution:\n",
    "    def slowestKey(self, releaseTimes: List[int], keysPressed: str) -> str:\n",
    "        duration = [releaseTimes[0]] + [releaseTimes[i] - releaseTimes[i-1] for i in range(1, len(releaseTimes))]\n",
    "\n",
    "        maxdur = releaseTimes[0]\n",
    "        maxkey = keysPressed[0]\n",
    "        for i in range(1, len(releaseTimes)):\n",
    "            if releaseTimes[i] - releaseTimes[i-1] > maxdur or (releaseTimes[i] - releaseTimes[i-1] == maxdur and ord(keysPressed[i]) > ord(maxkey)):\n",
    "                maxdur = releaseTimes[i] - releaseTimes[i-1]\n",
    "                maxkey = keysPressed[i]\n",
    "\n",
    "        return maxkey\n",
    "            \n",
    "releaseTimes = [9,29,49,50]\n",
    "keysPressed = \"cbcd\"\n",
    "Solution().slowestKey(releaseTimes, keysPressed)"
   ]
  },
  {
   "cell_type": "code",
   "execution_count": 217,
   "metadata": {},
   "outputs": [
    {
     "data": {
      "text/plain": [
       "True"
      ]
     },
     "execution_count": 217,
     "metadata": {},
     "output_type": "execute_result"
    }
   ],
   "source": [
    "# 1496. Path Crossing\n",
    "# Easy\n",
    "# Given a string path, where path[i] = 'N', 'S', 'E' or 'W', each representing moving one unit north, south, east, or west, respectively. You start at the origin (0, 0) on a 2D plane and walk on the path specified by path.\n",
    "# Return true if the path crosses itself at any point, that is, if at any time you are on a location you have previously visited. Return false otherwise.\n",
    "\n",
    "class Solution:\n",
    "    def isPathCrossing(self, path: str) -> bool:\n",
    "        directions = {'N': (0,1), 'S': (0,-1), 'W':(-1,0), 'E': (1,0)}\n",
    "        pos = (0,0)\n",
    "        visited = set([pos])\n",
    "        for dir in path:\n",
    "            pos = (pos[0] + directions[dir][0], pos[1] + directions[dir][1])\n",
    "            if pos not in visited:\n",
    "                visited.add(pos)\n",
    "            else:\n",
    "                return True\n",
    "\n",
    "        return False\n",
    "    \n",
    "path = 'NESWW'\n",
    "Solution().isPathCrossing(path)"
   ]
  },
  {
   "cell_type": "code",
   "execution_count": 221,
   "metadata": {},
   "outputs": [
    {
     "data": {
      "text/plain": [
       "4"
      ]
     },
     "execution_count": 221,
     "metadata": {},
     "output_type": "execute_result"
    }
   ],
   "source": [
    "class Solution:\n",
    "    def isPrefixOfWord(self, sentence: str, searchWord: str) -> int:\n",
    "        for i, word in enumerate(sentence.split(' '), start=1):\n",
    "            if word.startswith(searchWord):\n",
    "                return i\n",
    "        return -1\n",
    "\n",
    "sentence = \"i love eating burger\"\n",
    "searchWord = \"burg\"\n",
    "Solution().isPrefixOfWord(sentence, searchWord)"
   ]
  },
  {
   "cell_type": "code",
   "execution_count": null,
   "metadata": {},
   "outputs": [],
   "source": [
    "# 1436. Destination City\n",
    "# Easy\n",
    "# You are given the array paths, where paths[i] = [cityAi, cityBi] means there exists a direct path going from cityAi to cityBi. Return the destination city, that is, the city without any path outgoing to another city.\n",
    "# It is guaranteed that the graph of paths forms a line without any loop, therefore, there will be exactly one destination city.\n",
    "\n",
    "class Solution:\n",
    "    def destCity(self, paths: List[List[str]]) -> str:\n",
    "        start = {city[0] for city in paths}\n",
    "        end = {city[1] for city in paths}\n",
    "\n",
    "        for city in end:\n",
    "            if city not in start:\n",
    "                return city\n",
    "            \n",
    "paths = [[\"London\",\"New York\"],[\"New York\",\"Lima\"],[\"Lima\",\"Sao Paulo\"]]\n",
    "Solution().destCity(paths)"
   ]
  },
  {
   "cell_type": "code",
   "execution_count": 224,
   "metadata": {},
   "outputs": [
    {
     "data": {
      "text/plain": [
       "2"
      ]
     },
     "execution_count": 224,
     "metadata": {},
     "output_type": "execute_result"
    }
   ],
   "source": [
    "# 1446. Consecutive Characters\n",
    "# Easy\n",
    "# The power of the string is the maximum length of a non-empty substring that contains only one unique character.\n",
    "# Given a string s, return the power of s.\n",
    "\n",
    "class Solution:\n",
    "    def maxPower(self, s: str) -> int:\n",
    "        power = 0\n",
    "        maxpow = 0\n",
    "    \n",
    "        prev, cur = 0, 0\n",
    "        while cur < len(s):\n",
    "            if s[cur] == s[prev]:\n",
    "                power += 1\n",
    "            else:\n",
    "                maxpow = max(maxpow, power)\n",
    "                power = 1\n",
    "            prev = cur\n",
    "            cur += 1\n",
    "\n",
    "        return max(maxpow, power)\n",
    "\n",
    "s = \"leetcode\"\n",
    "Solution().maxPower(s)"
   ]
  },
  {
   "cell_type": "code",
   "execution_count": 227,
   "metadata": {},
   "outputs": [
    {
     "data": {
      "text/plain": [
       "5"
      ]
     },
     "execution_count": 227,
     "metadata": {},
     "output_type": "execute_result"
    }
   ],
   "source": [
    "# 1422. Maximum Score After Splitting a String\n",
    "# Easy\n",
    "# Given a string s of zeros and ones, return the maximum score after splitting the string into two non-empty substrings (i.e. left substring and right substring).\n",
    "# The score after splitting a string is the number of zeros in the left substring plus the number of ones in the right substring.\n",
    "\n",
    "class Solution:\n",
    "    def maxScore(self, s: str) -> int:\n",
    "        maxscore = 0\n",
    "        zero, one = 0, len(s) - s.count('0')\n",
    "        \n",
    "        if one == 0 or one == len(s):\n",
    "            return len(s) - 1\n",
    "    \n",
    "        for i in range(len(s)-1):\n",
    "            if s[i] == '0':\n",
    "                zero += 1\n",
    "            else:\n",
    "                one -= 1\n",
    "            maxscore = max(zero + one, maxscore)\n",
    "\n",
    "        return maxscore\n",
    "\n",
    "s = \"011101\"\n",
    "Solution().maxScore(s)"
   ]
  },
  {
   "cell_type": "code",
   "execution_count": 228,
   "metadata": {},
   "outputs": [
    {
     "data": {
      "text/plain": [
       "'aaab'"
      ]
     },
     "execution_count": 228,
     "metadata": {},
     "output_type": "execute_result"
    }
   ],
   "source": [
    "# 1374. Generate a String With Characters That Have Odd Counts\n",
    "# Easy\n",
    "# Given an integer n, return a string with n characters such that each character in such string occurs an odd number of times.\n",
    "# The returned string must contain only lowercase English letters. If there are multiples valid strings, return any of them.  \n",
    "\n",
    "class Solution:\n",
    "    def generateTheString(self, n: int) -> str:\n",
    "        return ''.join(['a']*n) if n % 2 else ''.join(['a']*(n-1) + ['b'])\n",
    "    \n",
    "n = 4\n",
    "Solution().generateTheString(n)"
   ]
  },
  {
   "cell_type": "code",
   "execution_count": 244,
   "metadata": {},
   "outputs": [
    {
     "data": {
      "text/plain": [
       "'jkab'"
      ]
     },
     "execution_count": 244,
     "metadata": {},
     "output_type": "execute_result"
    }
   ],
   "source": [
    "# 1309. Decrypt String from Alphabet to Integer Mapping\n",
    "# Easy\n",
    "# You are given a string s formed by digits and '#'. We want to map s to English lowercase characters as follows:\n",
    "#     Characters ('a' to 'i') are represented by ('1' to '9') respectively.\n",
    "#     Characters ('j' to 'z') are represented by ('10#' to '26#') respectively.\n",
    "# Return the string formed after mapping.\n",
    "# The test cases are generated so that a unique mapping will always exist.\n",
    "\n",
    "class Solution:\n",
    "    def freqAlphabets(self, s: str) -> str:\n",
    "        code2char = {str(i): chr(i - 1 + ord('a')) for i in range(1,27)}\n",
    "\n",
    "        ans = []\n",
    "        i = len(s)-1\n",
    "        while i >= 0:\n",
    "            if s[i] == '#':\n",
    "                app = s[i-2:i]\n",
    "                i -= 3\n",
    "            else:\n",
    "                app = s[i]\n",
    "                i -= 1\n",
    "            ans.append(code2char[app])\n",
    "        \n",
    "        return ''.join(ans[::-1])\n",
    "    \n",
    "\n",
    "s = \"10#11#12\"\n",
    "Solution().freqAlphabets(s)"
   ]
  },
  {
   "cell_type": "code",
   "execution_count": 245,
   "metadata": {},
   "outputs": [
    {
     "data": {
      "text/plain": [
       "4"
      ]
     },
     "execution_count": 245,
     "metadata": {},
     "output_type": "execute_result"
    }
   ],
   "source": [
    "# 1221. Split a String in Balanced Strings\n",
    "# Easy\n",
    "# Balanced strings are those that have an equal quantity of 'L' and 'R' characters.\n",
    "# Given a balanced string s, split it into some number of substrings such that:\n",
    "# Each substring is balanced.\n",
    "# Return the maximum number of balanced strings you can obtain.\n",
    "\n",
    "class Solution:\n",
    "    def balancedStringSplit(self, s: str) -> int:\n",
    "        cnt = 0\n",
    "        balance = 0\n",
    "        for char in s:\n",
    "            balance += char == 'R'\n",
    "            balance -= char == 'L'\n",
    "\n",
    "            if balance == 0:\n",
    "                cnt += 1\n",
    "\n",
    "        return cnt\n",
    "    \n",
    "s = \"RLRRLLRLRL\"\n",
    "Solution().balancedStringSplit(s)"
   ]
  },
  {
   "cell_type": "code",
   "execution_count": 249,
   "metadata": {},
   "outputs": [
    {
     "data": {
      "text/plain": [
       "10"
      ]
     },
     "execution_count": 249,
     "metadata": {},
     "output_type": "execute_result"
    }
   ],
   "source": [
    "# 1189. Maximum Number of Balloons\n",
    "# Easy\n",
    "# Given a string text, you want to use the characters of text to form as many instances of the word \"balloon\" as possible.\n",
    "# You can use each character in text at most once. Return the maximum number of instances that can be formed.\n",
    "\n",
    "class Solution:\n",
    "    def maxNumberOfBalloons(self, text: str) -> int:\n",
    "        if len(text) < 6:\n",
    "            return 0\n",
    "\n",
    "        count = {'b': 0, 'a': 0, 'l': 0, 'o': 0, 'n': 0}\n",
    "\n",
    "        for char in text:\n",
    "            if char in count:\n",
    "                count[char] += 1\n",
    "        \n",
    "        return min([min(count['l'], count['o'])//2] + list(count.values()))\n",
    "    \n",
    "text = \"krhizmmgmcrecekgyljqkldocicziihtgpqwbticmvuyznragqoyrukzopfmjhjjxemsxmrsxuqmnkrzhgvtgdgtykhcglurvppvcwhrhrjoislonvvglhdciilduvuiebmffaagxerjeewmtcwmhmtwlxtvlbocczlrppmpjbpnifqtlninyzjtmazxdbzwxthpvrfulvrspycqcghuopjirzoeuqhetnbrcdakilzmklxwudxxhwilasbjjhhfgghogqoofsufysmcqeilaivtmfziumjloewbkjvaahsaaggteppqyuoylgpbdwqubaalfwcqrjeycjbbpifjbpigjdnnswocusuprydgrtxuaojeriigwumlovafxnpibjopjfqzrwemoinmptxddgcszmfprdrichjeqcvikynzigleaajcysusqasqadjemgnyvmzmbcfrttrzonwafrnedglhpudovigwvpimttiketopkvqw\"\n",
    "Solution().maxNumberOfBalloons(text)"
   ]
  },
  {
   "cell_type": "code",
   "execution_count": 251,
   "metadata": {},
   "outputs": [
    {
     "data": {
      "text/plain": [
       "'1[.]1[.]1[.]1'"
      ]
     },
     "execution_count": 251,
     "metadata": {},
     "output_type": "execute_result"
    }
   ],
   "source": [
    "# 1108. Defanging an IP Address\n",
    "# Easy\n",
    "# Given a valid (IPv4) IP address, return a defanged version of that IP address.\n",
    "# A defanged IP address replaces every period \".\" with \"[.]\".\n",
    "\n",
    "class Solution:\n",
    "    def defangIPaddr(self, address: str) -> str:\n",
    "        return address.replace('.', '[.]')\n",
    "    \n",
    "address = \"1.1.1.1\"\n",
    "Solution().defangIPaddr(address)"
   ]
  },
  {
   "cell_type": "code",
   "execution_count": 253,
   "metadata": {},
   "outputs": [
    {
     "data": {
      "text/plain": [
       "['girl', 'student']"
      ]
     },
     "execution_count": 253,
     "metadata": {},
     "output_type": "execute_result"
    }
   ],
   "source": [
    "# 1078. Occurrences After Bigram\n",
    "# Easy\n",
    "# Given two strings first and second, consider occurrences in some text of the form \"first second third\", where second comes immediately after first, and third comes immediately after second.\n",
    "# Return an array of all the words third for each occurrence of \"first second third\".\n",
    "\n",
    "class Solution:\n",
    "    def findOcurrences(self, text: str, first: str, second: str) -> List[str]:\n",
    "        words = text.split(' ')\n",
    "        if len(words) < 3:\n",
    "            return []\n",
    "        \n",
    "        ans = []\n",
    "    \n",
    "        for i in range(len(words)-2):\n",
    "            if words[i] == first and words[i+1] == second:\n",
    "                ans.append(words[i+2])\n",
    "        \n",
    "        return ans\n",
    "    \n",
    "text = \"alice is a good girl she is a good student\"\n",
    "first = \"a\"\n",
    "second = \"good\"\n",
    "Solution().findOcurrences(text, first, second)"
   ]
  },
  {
   "cell_type": "code",
   "execution_count": 255,
   "metadata": {},
   "outputs": [
    {
     "data": {
      "text/plain": [
       "[3, 2, 1, 0, 1, 0, 0, 1, 2, 2, 1, 0]"
      ]
     },
     "execution_count": 255,
     "metadata": {},
     "output_type": "execute_result"
    }
   ],
   "source": [
    "# 821. Shortest Distance to a Character\n",
    "# Easy\n",
    "# Given a string s and a character c that occurs in s, return an array of integers answer where answer.length == s.length and answer[i] is the distance from index i to the closest occurrence of character c in s.\n",
    "# The distance between two indices i and j is abs(i - j), where abs is the absolute value function.\n",
    "\n",
    "class Solution:\n",
    "    def shortestToChar(self, s: str, c: str) -> List[int]:\n",
    "        ans = [float('inf')]*len(s)\n",
    "\n",
    "        pos = set()\n",
    "        for i, char in enumerate(s):\n",
    "            if char == c:\n",
    "                pos.add(i)\n",
    "\n",
    "        for i, char in enumerate(s):\n",
    "            ans[i] = min([abs(i - item) for item in pos])\n",
    "        \n",
    "        return ans\n",
    "\n",
    "s = \"loveleetcode\"\n",
    "c = \"e\"\n",
    "Solution().shortestToChar(s, c)"
   ]
  },
  {
   "cell_type": "code",
   "execution_count": 257,
   "metadata": {},
   "outputs": [
    {
     "data": {
      "text/plain": [
       "1"
      ]
     },
     "execution_count": 257,
     "metadata": {},
     "output_type": "execute_result"
    }
   ],
   "source": [
    "# 1935. Maximum Number of Words You Can Type\n",
    "# Easy\n",
    "# There is a malfunctioning keyboard where some letter keys do not work. All other keys on the keyboard work properly.\n",
    "# Given a string text of words separated by a single space (no leading or trailing spaces) and a string brokenLetters of all distinct letter keys that are broken, return the number of words in text you can fully type using this keyboard.\n",
    "\n",
    "class Solution:\n",
    "    def canBeTypedWords(self, text: str, brokenLetters: str) -> int:\n",
    "        broken = set(brokenLetters)\n",
    "        cnt = 0\n",
    "        for word in text.split(' '):\n",
    "            skip = False\n",
    "            for char in word:\n",
    "                if char in broken:\n",
    "                    skip = True\n",
    "                    break\n",
    "            if skip:\n",
    "                continue\n",
    "            else:\n",
    "                cnt += 1\n",
    "\n",
    "        return cnt\n",
    "\n",
    "text = \"hello world\"\n",
    "brokenLetters = \"ad\"\n",
    "Solution().canBeTypedWords(text, brokenLetters)"
   ]
  },
  {
   "cell_type": "code",
   "execution_count": 258,
   "metadata": {},
   "outputs": [
    {
     "data": {
      "text/plain": [
       "True"
      ]
     },
     "execution_count": 258,
     "metadata": {},
     "output_type": "execute_result"
    }
   ],
   "source": [
    "# 1941. Check if All Characters Have Equal Number of Occurrences\n",
    "# Easy\n",
    "# Given a string s, return true if s is a good string, or false otherwise.\n",
    "# A string s is good if all the characters that appear in s have the same number of occurrences (i.e., the same frequency).\n",
    "\n",
    "class Solution:\n",
    "    def areOccurrencesEqual(self, s: str) -> bool:\n",
    "        chars = {}\n",
    "        for char in s:\n",
    "            if char not in chars:\n",
    "                chars[char] = 1\n",
    "            else:\n",
    "                chars[char] += 1\n",
    "\n",
    "        return len(set(chars.values())) == 1\n",
    "    \n",
    "s = \"abacbc\"\n",
    "Solution().areOccurrencesEqual(s)"
   ]
  },
  {
   "cell_type": "code",
   "execution_count": 287,
   "metadata": {},
   "outputs": [
    {
     "data": {
      "text/plain": [
       "74"
      ]
     },
     "execution_count": 287,
     "metadata": {},
     "output_type": "execute_result"
    }
   ],
   "source": [
    "# 1945. Sum of Digits of String After Convert\n",
    "# Easy\n",
    "# You are given a string s consisting of lowercase English letters, and an integer k.\n",
    "# First, convert s into an integer by replacing each letter with its position in the alphabet (i.e., replace 'a' with 1, 'b' with 2, ..., 'z' with 26). Then, transform the integer by replacing it with the sum of its digits. Repeat the transform operation k times in total.\n",
    "# For example, if s = \"zbax\" and k = 2, then the resulting integer would be 8 by the following operations:\n",
    "#     Convert: \"zbax\" ➝ \"(26)(2)(1)(24)\" ➝ \"262124\" ➝ 262124\n",
    "#     Transform #1: 262124 ➝ 2 + 6 + 2 + 1 + 2 + 4 ➝ 17\n",
    "#     Transform #2: 17 ➝ 1 + 7 ➝ 8\n",
    "# Return the resulting integer after performing the operations described above.\n",
    "\n",
    "class Solution:\n",
    "    def getLucky(self, s: str, k: int) -> int:\n",
    "        char2nums = {chr(i + ord('a')): str(i+1) for i in range(26)}\n",
    "\n",
    "        ans = ''.join([char2nums[char] for char in s])\n",
    "        for i in range(k):\n",
    "            ans = str(sum([int(num) for num in ans]))\n",
    "            \n",
    "        return int(ans)\n",
    "    \n",
    "    \n",
    "Solution().getLucky('zbaxwdsadsgry', 1)"
   ]
  },
  {
   "cell_type": "code",
   "execution_count": 297,
   "metadata": {},
   "outputs": [
    {
     "data": {
      "text/plain": [
       "True"
      ]
     },
     "execution_count": 297,
     "metadata": {},
     "output_type": "execute_result"
    }
   ],
   "source": [
    "# 1704. Determine if String Halves Are Alike\n",
    "# Easy\n",
    "# You are given a string s of even length. Split this string into two halves of equal lengths, and let a be the first half and b be the second half.\n",
    "# Two strings are alike if they have the same number of vowels ('a', 'e', 'i', 'o', 'u', 'A', 'E', 'I', 'O', 'U'). Notice that s contains uppercase and lowercase letters.\n",
    "# Return true if a and b are alike. Otherwise, return false.\n",
    "\n",
    "class Solution:\n",
    "    def halvesAreAlike(self, s: str) -> bool:\n",
    "        vowels = {'a','e','i','o','u'}\n",
    "        balance = 0\n",
    "\n",
    "        for i, char in enumerate(s):\n",
    "            if char.lower() in vowels:\n",
    "                balance += 2*(i < len(s)//2)-1\n",
    "\n",
    "        return balance == 0\n",
    "\n",
    "s = \"AbCdEfGh\"\n",
    "Solution().halvesAreAlike(s)"
   ]
  },
  {
   "cell_type": "code",
   "execution_count": 298,
   "metadata": {},
   "outputs": [
    {
     "data": {
      "text/plain": [
       "3"
      ]
     },
     "execution_count": 298,
     "metadata": {},
     "output_type": "execute_result"
    }
   ],
   "source": [
    "# 1758. Minimum Changes To Make Alternating Binary String\n",
    "# Easy\n",
    "# You are given a string s consisting only of the characters '0' and '1'. In one operation, you can change any '0' to '1' or vice versa.\n",
    "# The string is called alternating if no two adjacent characters are equal. For example, the string \"010\" is alternating, while the string \"0100\" is not.\n",
    "# Return the minimum number of operations needed to make s alternating.\n",
    "\n",
    "class Solution:\n",
    "    def minOperations(self, s: str) -> int:\n",
    "        if len(s) == 1:\n",
    "            return 0\n",
    "\n",
    "        cnt1, cnt0 = 0, 0\n",
    "        expect1, expect0 = '1', '0'\n",
    "        for char in s:\n",
    "            cnt1 += char != expect1\n",
    "            cnt0 += char != expect0\n",
    "            expect1, expect0 = expect0, expect1\n",
    "\n",
    "        return min(cnt1, cnt0)\n",
    "\n",
    "s = '10010100'\n",
    "Solution().minOperations(s)"
   ]
  },
  {
   "cell_type": "code",
   "execution_count": 325,
   "metadata": {},
   "outputs": [
    {
     "data": {
      "text/plain": [
       "'j-Ih-gfE-dCba'"
      ]
     },
     "execution_count": 325,
     "metadata": {},
     "output_type": "execute_result"
    }
   ],
   "source": [
    "# 917. Reverse Only Letters\n",
    "# Easy\n",
    "# Given a string s, reverse the string according to the following rules:\n",
    "#     All the characters that are not English letters remain in the same position.\n",
    "#     All the English letters (lowercase or uppercase) should be reversed.\n",
    "# Return s after reversing it.\n",
    "\n",
    "class Solution:\n",
    "    def reverseOnlyLetters2(self, s: str) -> str:\n",
    "        if len(s) == 1:\n",
    "            return s\n",
    "        ans = []\n",
    "\n",
    "        start = 0\n",
    "        end = 0\n",
    "\n",
    "        while start < len(s) and end < len(s):\n",
    "            while start < len(s) and not s[start].isalpha():\n",
    "                ans.append(s[start])\n",
    "                start += 1\n",
    "                end += 1\n",
    "\n",
    "            while end < len(s) and s[end].isalpha():\n",
    "                end += 1\n",
    "\n",
    "            ans.append(s[start:end][::-1])\n",
    "            start = end\n",
    "\n",
    "        return ''.join(ans)\n",
    "\n",
    "    def reverseOnlyLettersFirst(self, s: str) -> str:\n",
    "        if len(s) == 1:\n",
    "            return s\n",
    "\n",
    "        chars = [char for char in s if char.isalpha()][::-1]\n",
    "        ans = []\n",
    "\n",
    "        for char in s:\n",
    "            if char.isalpha():\n",
    "                ans.append(chars.pop(0))\n",
    "            else:\n",
    "                ans.append(char)\n",
    "\n",
    "        return ''.join(ans)\n",
    "\n",
    "    def reverseOnlyLetters(self, s: str) -> str:\n",
    "        if len(s) == 1:\n",
    "            return s\n",
    "\n",
    "        s = list(s)\n",
    "\n",
    "        l, r = 0, len(s)-1\n",
    "        while l < r:\n",
    "            while l < r and not s[l].isalpha():\n",
    "                l += 1\n",
    "            while r >= 0 and not s[r].isalpha():\n",
    "                r -= 1\n",
    "            \n",
    "            if l < r and s[l].isalpha() and s[r].isalpha():\n",
    "                s[l], s[r] = s[r], s[l]\n",
    "                l += 1\n",
    "                r -= 1\n",
    "            \n",
    "        return ''.join(s)\n",
    "        \n",
    "\n",
    "s = \"a-bC-dEf-ghIj\"\n",
    "Solution().reverseOnlyLetters(s)"
   ]
  },
  {
   "cell_type": "code",
   "execution_count": 333,
   "metadata": {},
   "outputs": [
    {
     "name": "stdout",
     "output_type": "stream",
     "text": [
      "{'z'} {'s', 'ejt', 'z'}\n"
     ]
    },
    {
     "data": {
      "text/plain": [
       "{'ejt', 's'}"
      ]
     },
     "execution_count": 333,
     "metadata": {},
     "output_type": "execute_result"
    }
   ],
   "source": [
    "s1 = \"s z z z s\"\n",
    "s2 = \"s z ejt\"\n",
    "\n",
    "class Solution:\n",
    "    def uncommonFromSentences(self, s1: str, s2: str) -> List[str]:\n",
    "        s1 = s1.split(' ')\n",
    "        s2 = s2.split(' ')\n",
    "        set1 = {word: s1.}\n",
    "        return set1.difference(set2).union(set2.difference(set1))\n",
    "\n",
    "Solution().uncommonFromSentences(s1, s2)"
   ]
  },
  {
   "cell_type": "code",
   "execution_count": 336,
   "metadata": {},
   "outputs": [
    {
     "ename": "AttributeError",
     "evalue": "'str' object has no attribute 'sort'",
     "output_type": "error",
     "traceback": [
      "\u001b[1;31m---------------------------------------------------------------------------\u001b[0m",
      "\u001b[1;31mAttributeError\u001b[0m                            Traceback (most recent call last)",
      "\u001b[1;32m<ipython-input-336-4d554275c1a2>\u001b[0m in \u001b[0;36m<module>\u001b[1;34m\u001b[0m\n\u001b[1;32m----> 1\u001b[1;33m \u001b[1;34m'afnsakj'\u001b[0m\u001b[1;33m.\u001b[0m\u001b[0msort\u001b[0m\u001b[1;33m(\u001b[0m\u001b[1;33m)\u001b[0m\u001b[1;33m\u001b[0m\u001b[1;33m\u001b[0m\u001b[0m\n\u001b[0m",
      "\u001b[1;31mAttributeError\u001b[0m: 'str' object has no attribute 'sort'"
     ]
    }
   ],
   "source": [
    "'afnsakj'.sort()"
   ]
  },
  {
   "cell_type": "code",
   "execution_count": 358,
   "metadata": {},
   "outputs": [
    {
     "name": "stdout",
     "output_type": "stream",
     "text": [
      "11596390\n"
     ]
    }
   ],
   "source": [
    "def is_flowing(s):\n",
    "    prev_ord = -1\n",
    "    for char in s:\n",
    "        if ord(char) >= prev_ord:\n",
    "            prev_ord = ord(char)\n",
    "        else:\n",
    "            return False\n",
    "    return True\n",
    "\n",
    "def is_receding(s):\n",
    "    prev_ord = float('inf')\n",
    "    for char in s:\n",
    "        if ord(char) <= prev_ord:\n",
    "            prev_ord = ord(char)\n",
    "        else:\n",
    "            return False\n",
    "    return True\n",
    "\n",
    "def is_turbulent(s):\n",
    "    return not is_flowing(s) and not is_receding(s) \n",
    "\n",
    "# is_flowing('abcdddefb')\n",
    "# is_flowing('aa')\n",
    "\n",
    "cnt = 0\n",
    "for i in range(ord('a'), ord('z')+1):\n",
    "    for j in range(ord('a'), ord('z')+1):\n",
    "        for k in range(ord('a'), ord('z')+1):\n",
    "            for l in range(ord('a'), ord('z')+1):\n",
    "                for m in range(ord('a'), ord('z')+1):\n",
    "                    if is_turbulent(''.join([chr(i), chr(j), chr(k), chr(l), chr(m)])):\n",
    "                        cnt += 1\n",
    "print(cnt)\n"
   ]
  },
  {
   "cell_type": "code",
   "execution_count": 359,
   "metadata": {},
   "outputs": [
    {
     "data": {
      "text/plain": [
       "12016940"
      ]
     },
     "execution_count": 359,
     "metadata": {},
     "output_type": "execute_result"
    }
   ],
   "source": [
    "11050 + 409500 + 11596390"
   ]
  },
  {
   "cell_type": "code",
   "execution_count": 366,
   "metadata": {},
   "outputs": [
    {
     "name": "stdout",
     "output_type": "stream",
     "text": [
      "409500\n"
     ]
    }
   ],
   "source": [
    "cnt = 0\n",
    "for i in range(ord('a'), ord('z')+1):\n",
    "    for j in range(ord('a'), ord('z')+1):\n",
    "        for k in range(ord('a'), ord('z')+1):\n",
    "            for l in range(ord('a'), ord('z')+1):\n",
    "                    if is_turbulent(''.join([chr(i), chr(j), chr(k), chr(l)])):\n",
    "                        cnt += 1\n",
    "print(cnt)"
   ]
  },
  {
   "cell_type": "code",
   "execution_count": 362,
   "metadata": {},
   "outputs": [
    {
     "data": {
      "text/plain": [
       "True"
      ]
     },
     "execution_count": 362,
     "metadata": {},
     "output_type": "execute_result"
    }
   ],
   "source": [
    "is_receding('b' + ''.join(['a']*26))"
   ]
  },
  {
   "cell_type": "code",
   "execution_count": 363,
   "metadata": {},
   "outputs": [
    {
     "name": "stdout",
     "output_type": "stream",
     "text": [
      "142506 142506\n"
     ]
    }
   ],
   "source": [
    "cntf = 0\n",
    "cntr = 0\n",
    "for i in range(ord('a'), ord('z')+1):\n",
    "    for j in range(ord('a'), ord('z')+1):\n",
    "        for k in range(ord('a'), ord('z')+1):\n",
    "            for l in range(ord('a'), ord('z')+1):\n",
    "                for m in range(ord('a'), ord('z')+1):\n",
    "                    if is_receding(''.join([chr(i), chr(j), chr(k), chr(l), chr(m)])):\n",
    "                        cntr += 1\n",
    "                    if is_flowing(''.join([chr(i), chr(j), chr(k), chr(l), chr(m)])):\n",
    "                        cntf += 1\n",
    "\n",
    "print(cntf, cntr)"
   ]
  },
  {
   "cell_type": "code",
   "execution_count": 40,
   "metadata": {},
   "outputs": [
    {
     "data": {
      "text/plain": [
       "'aaaaaaaa'"
      ]
     },
     "execution_count": 40,
     "metadata": {},
     "output_type": "execute_result"
    }
   ],
   "source": [
    "# 5. Longest Palindromic Substring\n",
    "# Medium\n",
    "# Given a string s, return the longest\n",
    "# palindromic\n",
    "# substring\n",
    "# in s.\n",
    "\n",
    "class Solution:\n",
    "    def longestPalindromeOld(self, s: str) -> str:\n",
    "        if len(set(s)) == 1:\n",
    "            return s\n",
    "\n",
    "        def expand(center, width, s, in_between):\n",
    "            if center - width >= 0 and center + width < len(s) +int(in_between):\n",
    "                return s[center-width: center+width+int(not in_between)]\n",
    "            else:\n",
    "                return None\n",
    "\n",
    "        def is_palindrome(s):\n",
    "            left = 0\n",
    "            right = len(s)-1\n",
    "\n",
    "            while left < right:\n",
    "                if s[left] == s[right]:\n",
    "                    left += 1\n",
    "                    right -= 1\n",
    "                else:\n",
    "                    return False\n",
    "            return True\n",
    "\n",
    "        maxLen = 0\n",
    "        maxSub = ''\n",
    "        for i in range(0,len(s)):\n",
    "            width = 0\n",
    "            while True:\n",
    "                subs = expand(i, width, s, False)\n",
    "                if subs is not None and is_palindrome(subs):\n",
    "                    if len(subs) > maxLen:\n",
    "                        maxLen = len(subs)\n",
    "                        maxSub = subs\n",
    "                else:\n",
    "                    out_of_bound = True\n",
    "                    break\n",
    "                width += 1\n",
    "                \n",
    "            if out_of_bound:\n",
    "                out_of_bound = False\n",
    "                continue\n",
    "                \n",
    "                \n",
    "        for i in range(0,len(s)):\n",
    "            width = 1\n",
    "            while True:\n",
    "                subs = expand(i, width, s, True)\n",
    "                if subs is not None:\n",
    "                    if is_palindrome(subs) and len(subs) > maxLen:\n",
    "                        maxLen = len(subs)\n",
    "                        maxSub = subs\n",
    "                else:\n",
    "                    out_of_bound = True\n",
    "                    break\n",
    "                width += 1\n",
    "            if out_of_bound:\n",
    "                out_of_bound = False\n",
    "                continue\n",
    "            \n",
    "        return maxSub\n",
    "    \n",
    "    def longestPalindrome(self, s: str) -> str:\n",
    "        maxLen = 0\n",
    "        maxStr = ''\n",
    "\n",
    "        for i in range(len(s)):\n",
    "            # odd substrings\n",
    "            l,r = i,i\n",
    "            if 2*(len(s) - l) < maxLen:\n",
    "                break\n",
    "                \n",
    "            while l>=0 and r<len(s) and s[l] == s[r]:\n",
    "                if r-l+1 > maxLen:\n",
    "                    maxLen = r-l+1\n",
    "                    maxStr = s[l:r+1]\n",
    "                l -= 1\n",
    "                r += 1\n",
    "\n",
    "            # even substrings\n",
    "            l,r=i,i+1\n",
    "            while l>=0 and r<len(s) and s[l] == s[r]:\n",
    "                if r - l + 1 > maxLen:\n",
    "                    maxLen = r-l+1\n",
    "                    maxStr = s[l:r+1]\n",
    "                l -= 1\n",
    "                r += 1\n",
    "\n",
    "        return maxStr\n",
    "        \n",
    "    \n",
    "s = 'asdnkasndasaaaaaaaajsiwoaoas'\n",
    "Solution().longestPalindrome(s)"
   ]
  },
  {
   "cell_type": "code",
   "execution_count": 33,
   "metadata": {},
   "outputs": [
    {
     "data": {
      "text/plain": [
       "{1, 2, 3, 6, 7}"
      ]
     },
     "execution_count": 33,
     "metadata": {},
     "output_type": "execute_result"
    }
   ],
   "source": [
    "a = set([1,2,3])\n",
    "a = a.union(set([6,7]))\n",
    "a"
   ]
  },
  {
   "cell_type": "code",
   "execution_count": 34,
   "metadata": {},
   "outputs": [
    {
     "data": {
      "text/plain": [
       "16"
      ]
     },
     "execution_count": 34,
     "metadata": {},
     "output_type": "execute_result"
    }
   ],
   "source": []
  }
 ],
 "metadata": {
  "interpreter": {
   "hash": "ad2bdc8ecc057115af97d19610ffacc2b4e99fae6737bb82f5d7fb13d2f2c186"
  },
  "kernelspec": {
   "display_name": "Python 3.8.8 ('base')",
   "language": "python",
   "name": "python3"
  },
  "language_info": {
   "codemirror_mode": {
    "name": "ipython",
    "version": 3
   },
   "file_extension": ".py",
   "mimetype": "text/x-python",
   "name": "python",
   "nbconvert_exporter": "python",
   "pygments_lexer": "ipython3",
   "version": "3.8.8"
  },
  "orig_nbformat": 4
 },
 "nbformat": 4,
 "nbformat_minor": 2
}
